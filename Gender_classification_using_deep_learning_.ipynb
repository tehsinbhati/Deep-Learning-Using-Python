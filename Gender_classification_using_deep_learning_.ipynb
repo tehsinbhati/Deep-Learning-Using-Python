{
  "nbformat": 4,
  "nbformat_minor": 0,
  "metadata": {
    "colab": {
      "name": "Gender classification using deep learning .ipynb",
      "provenance": [],
      "collapsed_sections": []
    },
    "kernelspec": {
      "name": "python3",
      "display_name": "Python 3"
    },
    "language_info": {
      "name": "python"
    },
    "gpuClass": "standard"
  },
  "cells": [
    {
      "cell_type": "markdown",
      "source": [
        "**Gender Classification**"
      ],
      "metadata": {
        "id": "Npj3zbTkgLmc"
      }
    },
    {
      "cell_type": "code",
      "execution_count": 1,
      "metadata": {
        "id": "K9OSJ_d7XjkG"
      },
      "outputs": [],
      "source": [
        "import numpy as np\n",
        "import pandas as pd\n",
        "import matplotlib.pyplot as plt\n",
        "import seaborn as sns\n",
        "import warnings\n",
        "warnings.filterwarnings(\"ignore\")"
      ]
    },
    {
      "cell_type": "markdown",
      "source": [
        "**Gender - This is either \"Male\" or \"Female\".**\n",
        "\n",
        "Content\n",
        "This dataset contains 7 features and a label column.\n",
        "1.longhair - This column contains 0's and 1's where 1 is \"long hair\" and 0 is \"not long hair\".\n",
        "\n",
        "2.foreheadwidthcm - This column is in CM's. This is the width of the forehead.\n",
        "\n",
        "3.foreheadheightcm - This is the height of the forehead and it's in Cm's.\n",
        "\n",
        "4.nosewide - This column contains 0's and 1's where 1 is \"wide nose\" and 0 is \"not wide nose\".\n",
        "\n",
        "5.noselong - This column contains 0's and 1's where 1 is \"Long nose\" and 0 is \"not long nose\".\n",
        "\n",
        "6.lipsthin - This column contains 0's and 1's where 1 represents the \"thin lips\" while 0 is \"Not thin lips\".\n",
        "\n",
        "7.distancenosetoliplong - This column contains 0's and 1's where 1 represents the \"long distance between nose and lips\" while 0 is \"short distance between nose and lips\".\n",
        "\n"
      ],
      "metadata": {
        "id": "ydKhVYctfDqI"
      }
    },
    {
      "cell_type": "code",
      "source": [
        "#To load the dataset\n",
        "\n",
        "df=pd.read_csv(\"/content/drive/MyDrive/ItVedantPythonAWPClasswork/csv datasets/gender_classification_v7.csv\")\n",
        "df.head()"
      ],
      "metadata": {
        "colab": {
          "base_uri": "https://localhost:8080/",
          "height": 206
        },
        "id": "mPckgw2EXrcF",
        "outputId": "f74264b0-7999-44c9-c2bb-27be11adfbc9"
      },
      "execution_count": 10,
      "outputs": [
        {
          "output_type": "execute_result",
          "data": {
            "text/plain": [
              "   long_hair  forehead_width_cm  forehead_height_cm  nose_wide  nose_long  \\\n",
              "0          1               11.8                 6.1          1          0   \n",
              "1          0               14.0                 5.4          0          0   \n",
              "2          0               11.8                 6.3          1          1   \n",
              "3          0               14.4                 6.1          0          1   \n",
              "4          1               13.5                 5.9          0          0   \n",
              "\n",
              "   lips_thin  distance_nose_to_lip_long  gender  \n",
              "0          1                          1    Male  \n",
              "1          1                          0  Female  \n",
              "2          1                          1    Male  \n",
              "3          1                          1    Male  \n",
              "4          0                          0  Female  "
            ],
            "text/html": [
              "\n",
              "  <div id=\"df-b8da0307-495a-4b7c-9c6c-ab67e2e47b70\">\n",
              "    <div class=\"colab-df-container\">\n",
              "      <div>\n",
              "<style scoped>\n",
              "    .dataframe tbody tr th:only-of-type {\n",
              "        vertical-align: middle;\n",
              "    }\n",
              "\n",
              "    .dataframe tbody tr th {\n",
              "        vertical-align: top;\n",
              "    }\n",
              "\n",
              "    .dataframe thead th {\n",
              "        text-align: right;\n",
              "    }\n",
              "</style>\n",
              "<table border=\"1\" class=\"dataframe\">\n",
              "  <thead>\n",
              "    <tr style=\"text-align: right;\">\n",
              "      <th></th>\n",
              "      <th>long_hair</th>\n",
              "      <th>forehead_width_cm</th>\n",
              "      <th>forehead_height_cm</th>\n",
              "      <th>nose_wide</th>\n",
              "      <th>nose_long</th>\n",
              "      <th>lips_thin</th>\n",
              "      <th>distance_nose_to_lip_long</th>\n",
              "      <th>gender</th>\n",
              "    </tr>\n",
              "  </thead>\n",
              "  <tbody>\n",
              "    <tr>\n",
              "      <th>0</th>\n",
              "      <td>1</td>\n",
              "      <td>11.8</td>\n",
              "      <td>6.1</td>\n",
              "      <td>1</td>\n",
              "      <td>0</td>\n",
              "      <td>1</td>\n",
              "      <td>1</td>\n",
              "      <td>Male</td>\n",
              "    </tr>\n",
              "    <tr>\n",
              "      <th>1</th>\n",
              "      <td>0</td>\n",
              "      <td>14.0</td>\n",
              "      <td>5.4</td>\n",
              "      <td>0</td>\n",
              "      <td>0</td>\n",
              "      <td>1</td>\n",
              "      <td>0</td>\n",
              "      <td>Female</td>\n",
              "    </tr>\n",
              "    <tr>\n",
              "      <th>2</th>\n",
              "      <td>0</td>\n",
              "      <td>11.8</td>\n",
              "      <td>6.3</td>\n",
              "      <td>1</td>\n",
              "      <td>1</td>\n",
              "      <td>1</td>\n",
              "      <td>1</td>\n",
              "      <td>Male</td>\n",
              "    </tr>\n",
              "    <tr>\n",
              "      <th>3</th>\n",
              "      <td>0</td>\n",
              "      <td>14.4</td>\n",
              "      <td>6.1</td>\n",
              "      <td>0</td>\n",
              "      <td>1</td>\n",
              "      <td>1</td>\n",
              "      <td>1</td>\n",
              "      <td>Male</td>\n",
              "    </tr>\n",
              "    <tr>\n",
              "      <th>4</th>\n",
              "      <td>1</td>\n",
              "      <td>13.5</td>\n",
              "      <td>5.9</td>\n",
              "      <td>0</td>\n",
              "      <td>0</td>\n",
              "      <td>0</td>\n",
              "      <td>0</td>\n",
              "      <td>Female</td>\n",
              "    </tr>\n",
              "  </tbody>\n",
              "</table>\n",
              "</div>\n",
              "      <button class=\"colab-df-convert\" onclick=\"convertToInteractive('df-b8da0307-495a-4b7c-9c6c-ab67e2e47b70')\"\n",
              "              title=\"Convert this dataframe to an interactive table.\"\n",
              "              style=\"display:none;\">\n",
              "        \n",
              "  <svg xmlns=\"http://www.w3.org/2000/svg\" height=\"24px\"viewBox=\"0 0 24 24\"\n",
              "       width=\"24px\">\n",
              "    <path d=\"M0 0h24v24H0V0z\" fill=\"none\"/>\n",
              "    <path d=\"M18.56 5.44l.94 2.06.94-2.06 2.06-.94-2.06-.94-.94-2.06-.94 2.06-2.06.94zm-11 1L8.5 8.5l.94-2.06 2.06-.94-2.06-.94L8.5 2.5l-.94 2.06-2.06.94zm10 10l.94 2.06.94-2.06 2.06-.94-2.06-.94-.94-2.06-.94 2.06-2.06.94z\"/><path d=\"M17.41 7.96l-1.37-1.37c-.4-.4-.92-.59-1.43-.59-.52 0-1.04.2-1.43.59L10.3 9.45l-7.72 7.72c-.78.78-.78 2.05 0 2.83L4 21.41c.39.39.9.59 1.41.59.51 0 1.02-.2 1.41-.59l7.78-7.78 2.81-2.81c.8-.78.8-2.07 0-2.86zM5.41 20L4 18.59l7.72-7.72 1.47 1.35L5.41 20z\"/>\n",
              "  </svg>\n",
              "      </button>\n",
              "      \n",
              "  <style>\n",
              "    .colab-df-container {\n",
              "      display:flex;\n",
              "      flex-wrap:wrap;\n",
              "      gap: 12px;\n",
              "    }\n",
              "\n",
              "    .colab-df-convert {\n",
              "      background-color: #E8F0FE;\n",
              "      border: none;\n",
              "      border-radius: 50%;\n",
              "      cursor: pointer;\n",
              "      display: none;\n",
              "      fill: #1967D2;\n",
              "      height: 32px;\n",
              "      padding: 0 0 0 0;\n",
              "      width: 32px;\n",
              "    }\n",
              "\n",
              "    .colab-df-convert:hover {\n",
              "      background-color: #E2EBFA;\n",
              "      box-shadow: 0px 1px 2px rgba(60, 64, 67, 0.3), 0px 1px 3px 1px rgba(60, 64, 67, 0.15);\n",
              "      fill: #174EA6;\n",
              "    }\n",
              "\n",
              "    [theme=dark] .colab-df-convert {\n",
              "      background-color: #3B4455;\n",
              "      fill: #D2E3FC;\n",
              "    }\n",
              "\n",
              "    [theme=dark] .colab-df-convert:hover {\n",
              "      background-color: #434B5C;\n",
              "      box-shadow: 0px 1px 3px 1px rgba(0, 0, 0, 0.15);\n",
              "      filter: drop-shadow(0px 1px 2px rgba(0, 0, 0, 0.3));\n",
              "      fill: #FFFFFF;\n",
              "    }\n",
              "  </style>\n",
              "\n",
              "      <script>\n",
              "        const buttonEl =\n",
              "          document.querySelector('#df-b8da0307-495a-4b7c-9c6c-ab67e2e47b70 button.colab-df-convert');\n",
              "        buttonEl.style.display =\n",
              "          google.colab.kernel.accessAllowed ? 'block' : 'none';\n",
              "\n",
              "        async function convertToInteractive(key) {\n",
              "          const element = document.querySelector('#df-b8da0307-495a-4b7c-9c6c-ab67e2e47b70');\n",
              "          const dataTable =\n",
              "            await google.colab.kernel.invokeFunction('convertToInteractive',\n",
              "                                                     [key], {});\n",
              "          if (!dataTable) return;\n",
              "\n",
              "          const docLinkHtml = 'Like what you see? Visit the ' +\n",
              "            '<a target=\"_blank\" href=https://colab.research.google.com/notebooks/data_table.ipynb>data table notebook</a>'\n",
              "            + ' to learn more about interactive tables.';\n",
              "          element.innerHTML = '';\n",
              "          dataTable['output_type'] = 'display_data';\n",
              "          await google.colab.output.renderOutput(dataTable, element);\n",
              "          const docLink = document.createElement('div');\n",
              "          docLink.innerHTML = docLinkHtml;\n",
              "          element.appendChild(docLink);\n",
              "        }\n",
              "      </script>\n",
              "    </div>\n",
              "  </div>\n",
              "  "
            ]
          },
          "metadata": {},
          "execution_count": 10
        }
      ]
    },
    {
      "cell_type": "code",
      "source": [
        "df.shape"
      ],
      "metadata": {
        "colab": {
          "base_uri": "https://localhost:8080/"
        },
        "id": "hLFDrjFEYSpi",
        "outputId": "1b2766be-15e5-4407-a99e-306b917a866f"
      },
      "execution_count": 11,
      "outputs": [
        {
          "output_type": "execute_result",
          "data": {
            "text/plain": [
              "(5001, 8)"
            ]
          },
          "metadata": {},
          "execution_count": 11
        }
      ]
    },
    {
      "cell_type": "code",
      "source": [
        "df.isnull().sum()"
      ],
      "metadata": {
        "colab": {
          "base_uri": "https://localhost:8080/"
        },
        "id": "qttktRBCYemW",
        "outputId": "a8a1cccb-2707-4af1-deb9-28bd7bf302ed"
      },
      "execution_count": 12,
      "outputs": [
        {
          "output_type": "execute_result",
          "data": {
            "text/plain": [
              "long_hair                    0\n",
              "forehead_width_cm            0\n",
              "forehead_height_cm           0\n",
              "nose_wide                    0\n",
              "nose_long                    0\n",
              "lips_thin                    0\n",
              "distance_nose_to_lip_long    0\n",
              "gender                       0\n",
              "dtype: int64"
            ]
          },
          "metadata": {},
          "execution_count": 12
        }
      ]
    },
    {
      "cell_type": "code",
      "source": [
        "#checking type to confirm null values\n",
        "df.dtypes"
      ],
      "metadata": {
        "colab": {
          "base_uri": "https://localhost:8080/"
        },
        "id": "QA1d5-N2YusK",
        "outputId": "14e8bce4-e9bc-40d5-94be-400a2fcdb7c7"
      },
      "execution_count": 13,
      "outputs": [
        {
          "output_type": "execute_result",
          "data": {
            "text/plain": [
              "long_hair                      int64\n",
              "forehead_width_cm            float64\n",
              "forehead_height_cm           float64\n",
              "nose_wide                      int64\n",
              "nose_long                      int64\n",
              "lips_thin                      int64\n",
              "distance_nose_to_lip_long      int64\n",
              "gender                        object\n",
              "dtype: object"
            ]
          },
          "metadata": {},
          "execution_count": 13
        }
      ]
    },
    {
      "cell_type": "code",
      "source": [
        "#checking duplicate values\n",
        "df.duplicated().sum()"
      ],
      "metadata": {
        "colab": {
          "base_uri": "https://localhost:8080/"
        },
        "id": "N6keG80VY0kn",
        "outputId": "73f71f11-6559-4081-a64d-b582e32246ff"
      },
      "execution_count": 14,
      "outputs": [
        {
          "output_type": "execute_result",
          "data": {
            "text/plain": [
              "1768"
            ]
          },
          "metadata": {},
          "execution_count": 14
        }
      ]
    },
    {
      "cell_type": "code",
      "source": [
        "# Now Split DataSet into 2 parts\n",
        "# Numeric type and Categorical type\n",
        "df_num=df.select_dtypes(['int64','float64'])\n",
        "df_cat=df.select_dtypes(object)"
      ],
      "metadata": {
        "id": "bOaRCIYNY3_c"
      },
      "execution_count": 15,
      "outputs": []
    },
    {
      "cell_type": "code",
      "source": [
        "df_num.head()"
      ],
      "metadata": {
        "colab": {
          "base_uri": "https://localhost:8080/",
          "height": 206
        },
        "id": "bW9Qd4hZby8a",
        "outputId": "8fe11938-6f4b-4546-bda6-c52ad7e7f1b2"
      },
      "execution_count": 16,
      "outputs": [
        {
          "output_type": "execute_result",
          "data": {
            "text/plain": [
              "   long_hair  forehead_width_cm  forehead_height_cm  nose_wide  nose_long  \\\n",
              "0          1               11.8                 6.1          1          0   \n",
              "1          0               14.0                 5.4          0          0   \n",
              "2          0               11.8                 6.3          1          1   \n",
              "3          0               14.4                 6.1          0          1   \n",
              "4          1               13.5                 5.9          0          0   \n",
              "\n",
              "   lips_thin  distance_nose_to_lip_long  \n",
              "0          1                          1  \n",
              "1          1                          0  \n",
              "2          1                          1  \n",
              "3          1                          1  \n",
              "4          0                          0  "
            ],
            "text/html": [
              "\n",
              "  <div id=\"df-9df20891-6270-460c-85bd-1ca827335397\">\n",
              "    <div class=\"colab-df-container\">\n",
              "      <div>\n",
              "<style scoped>\n",
              "    .dataframe tbody tr th:only-of-type {\n",
              "        vertical-align: middle;\n",
              "    }\n",
              "\n",
              "    .dataframe tbody tr th {\n",
              "        vertical-align: top;\n",
              "    }\n",
              "\n",
              "    .dataframe thead th {\n",
              "        text-align: right;\n",
              "    }\n",
              "</style>\n",
              "<table border=\"1\" class=\"dataframe\">\n",
              "  <thead>\n",
              "    <tr style=\"text-align: right;\">\n",
              "      <th></th>\n",
              "      <th>long_hair</th>\n",
              "      <th>forehead_width_cm</th>\n",
              "      <th>forehead_height_cm</th>\n",
              "      <th>nose_wide</th>\n",
              "      <th>nose_long</th>\n",
              "      <th>lips_thin</th>\n",
              "      <th>distance_nose_to_lip_long</th>\n",
              "    </tr>\n",
              "  </thead>\n",
              "  <tbody>\n",
              "    <tr>\n",
              "      <th>0</th>\n",
              "      <td>1</td>\n",
              "      <td>11.8</td>\n",
              "      <td>6.1</td>\n",
              "      <td>1</td>\n",
              "      <td>0</td>\n",
              "      <td>1</td>\n",
              "      <td>1</td>\n",
              "    </tr>\n",
              "    <tr>\n",
              "      <th>1</th>\n",
              "      <td>0</td>\n",
              "      <td>14.0</td>\n",
              "      <td>5.4</td>\n",
              "      <td>0</td>\n",
              "      <td>0</td>\n",
              "      <td>1</td>\n",
              "      <td>0</td>\n",
              "    </tr>\n",
              "    <tr>\n",
              "      <th>2</th>\n",
              "      <td>0</td>\n",
              "      <td>11.8</td>\n",
              "      <td>6.3</td>\n",
              "      <td>1</td>\n",
              "      <td>1</td>\n",
              "      <td>1</td>\n",
              "      <td>1</td>\n",
              "    </tr>\n",
              "    <tr>\n",
              "      <th>3</th>\n",
              "      <td>0</td>\n",
              "      <td>14.4</td>\n",
              "      <td>6.1</td>\n",
              "      <td>0</td>\n",
              "      <td>1</td>\n",
              "      <td>1</td>\n",
              "      <td>1</td>\n",
              "    </tr>\n",
              "    <tr>\n",
              "      <th>4</th>\n",
              "      <td>1</td>\n",
              "      <td>13.5</td>\n",
              "      <td>5.9</td>\n",
              "      <td>0</td>\n",
              "      <td>0</td>\n",
              "      <td>0</td>\n",
              "      <td>0</td>\n",
              "    </tr>\n",
              "  </tbody>\n",
              "</table>\n",
              "</div>\n",
              "      <button class=\"colab-df-convert\" onclick=\"convertToInteractive('df-9df20891-6270-460c-85bd-1ca827335397')\"\n",
              "              title=\"Convert this dataframe to an interactive table.\"\n",
              "              style=\"display:none;\">\n",
              "        \n",
              "  <svg xmlns=\"http://www.w3.org/2000/svg\" height=\"24px\"viewBox=\"0 0 24 24\"\n",
              "       width=\"24px\">\n",
              "    <path d=\"M0 0h24v24H0V0z\" fill=\"none\"/>\n",
              "    <path d=\"M18.56 5.44l.94 2.06.94-2.06 2.06-.94-2.06-.94-.94-2.06-.94 2.06-2.06.94zm-11 1L8.5 8.5l.94-2.06 2.06-.94-2.06-.94L8.5 2.5l-.94 2.06-2.06.94zm10 10l.94 2.06.94-2.06 2.06-.94-2.06-.94-.94-2.06-.94 2.06-2.06.94z\"/><path d=\"M17.41 7.96l-1.37-1.37c-.4-.4-.92-.59-1.43-.59-.52 0-1.04.2-1.43.59L10.3 9.45l-7.72 7.72c-.78.78-.78 2.05 0 2.83L4 21.41c.39.39.9.59 1.41.59.51 0 1.02-.2 1.41-.59l7.78-7.78 2.81-2.81c.8-.78.8-2.07 0-2.86zM5.41 20L4 18.59l7.72-7.72 1.47 1.35L5.41 20z\"/>\n",
              "  </svg>\n",
              "      </button>\n",
              "      \n",
              "  <style>\n",
              "    .colab-df-container {\n",
              "      display:flex;\n",
              "      flex-wrap:wrap;\n",
              "      gap: 12px;\n",
              "    }\n",
              "\n",
              "    .colab-df-convert {\n",
              "      background-color: #E8F0FE;\n",
              "      border: none;\n",
              "      border-radius: 50%;\n",
              "      cursor: pointer;\n",
              "      display: none;\n",
              "      fill: #1967D2;\n",
              "      height: 32px;\n",
              "      padding: 0 0 0 0;\n",
              "      width: 32px;\n",
              "    }\n",
              "\n",
              "    .colab-df-convert:hover {\n",
              "      background-color: #E2EBFA;\n",
              "      box-shadow: 0px 1px 2px rgba(60, 64, 67, 0.3), 0px 1px 3px 1px rgba(60, 64, 67, 0.15);\n",
              "      fill: #174EA6;\n",
              "    }\n",
              "\n",
              "    [theme=dark] .colab-df-convert {\n",
              "      background-color: #3B4455;\n",
              "      fill: #D2E3FC;\n",
              "    }\n",
              "\n",
              "    [theme=dark] .colab-df-convert:hover {\n",
              "      background-color: #434B5C;\n",
              "      box-shadow: 0px 1px 3px 1px rgba(0, 0, 0, 0.15);\n",
              "      filter: drop-shadow(0px 1px 2px rgba(0, 0, 0, 0.3));\n",
              "      fill: #FFFFFF;\n",
              "    }\n",
              "  </style>\n",
              "\n",
              "      <script>\n",
              "        const buttonEl =\n",
              "          document.querySelector('#df-9df20891-6270-460c-85bd-1ca827335397 button.colab-df-convert');\n",
              "        buttonEl.style.display =\n",
              "          google.colab.kernel.accessAllowed ? 'block' : 'none';\n",
              "\n",
              "        async function convertToInteractive(key) {\n",
              "          const element = document.querySelector('#df-9df20891-6270-460c-85bd-1ca827335397');\n",
              "          const dataTable =\n",
              "            await google.colab.kernel.invokeFunction('convertToInteractive',\n",
              "                                                     [key], {});\n",
              "          if (!dataTable) return;\n",
              "\n",
              "          const docLinkHtml = 'Like what you see? Visit the ' +\n",
              "            '<a target=\"_blank\" href=https://colab.research.google.com/notebooks/data_table.ipynb>data table notebook</a>'\n",
              "            + ' to learn more about interactive tables.';\n",
              "          element.innerHTML = '';\n",
              "          dataTable['output_type'] = 'display_data';\n",
              "          await google.colab.output.renderOutput(dataTable, element);\n",
              "          const docLink = document.createElement('div');\n",
              "          docLink.innerHTML = docLinkHtml;\n",
              "          element.appendChild(docLink);\n",
              "        }\n",
              "      </script>\n",
              "    </div>\n",
              "  </div>\n",
              "  "
            ]
          },
          "metadata": {},
          "execution_count": 16
        }
      ]
    },
    {
      "cell_type": "code",
      "source": [
        "df_cat.head()"
      ],
      "metadata": {
        "colab": {
          "base_uri": "https://localhost:8080/",
          "height": 206
        },
        "id": "TBsyJa0ub1Rg",
        "outputId": "d1fe2cac-fe2f-4292-97ad-f1cd781308af"
      },
      "execution_count": 17,
      "outputs": [
        {
          "output_type": "execute_result",
          "data": {
            "text/plain": [
              "   gender\n",
              "0    Male\n",
              "1  Female\n",
              "2    Male\n",
              "3    Male\n",
              "4  Female"
            ],
            "text/html": [
              "\n",
              "  <div id=\"df-f4a3c118-8447-4996-95ef-33b83fa06edf\">\n",
              "    <div class=\"colab-df-container\">\n",
              "      <div>\n",
              "<style scoped>\n",
              "    .dataframe tbody tr th:only-of-type {\n",
              "        vertical-align: middle;\n",
              "    }\n",
              "\n",
              "    .dataframe tbody tr th {\n",
              "        vertical-align: top;\n",
              "    }\n",
              "\n",
              "    .dataframe thead th {\n",
              "        text-align: right;\n",
              "    }\n",
              "</style>\n",
              "<table border=\"1\" class=\"dataframe\">\n",
              "  <thead>\n",
              "    <tr style=\"text-align: right;\">\n",
              "      <th></th>\n",
              "      <th>gender</th>\n",
              "    </tr>\n",
              "  </thead>\n",
              "  <tbody>\n",
              "    <tr>\n",
              "      <th>0</th>\n",
              "      <td>Male</td>\n",
              "    </tr>\n",
              "    <tr>\n",
              "      <th>1</th>\n",
              "      <td>Female</td>\n",
              "    </tr>\n",
              "    <tr>\n",
              "      <th>2</th>\n",
              "      <td>Male</td>\n",
              "    </tr>\n",
              "    <tr>\n",
              "      <th>3</th>\n",
              "      <td>Male</td>\n",
              "    </tr>\n",
              "    <tr>\n",
              "      <th>4</th>\n",
              "      <td>Female</td>\n",
              "    </tr>\n",
              "  </tbody>\n",
              "</table>\n",
              "</div>\n",
              "      <button class=\"colab-df-convert\" onclick=\"convertToInteractive('df-f4a3c118-8447-4996-95ef-33b83fa06edf')\"\n",
              "              title=\"Convert this dataframe to an interactive table.\"\n",
              "              style=\"display:none;\">\n",
              "        \n",
              "  <svg xmlns=\"http://www.w3.org/2000/svg\" height=\"24px\"viewBox=\"0 0 24 24\"\n",
              "       width=\"24px\">\n",
              "    <path d=\"M0 0h24v24H0V0z\" fill=\"none\"/>\n",
              "    <path d=\"M18.56 5.44l.94 2.06.94-2.06 2.06-.94-2.06-.94-.94-2.06-.94 2.06-2.06.94zm-11 1L8.5 8.5l.94-2.06 2.06-.94-2.06-.94L8.5 2.5l-.94 2.06-2.06.94zm10 10l.94 2.06.94-2.06 2.06-.94-2.06-.94-.94-2.06-.94 2.06-2.06.94z\"/><path d=\"M17.41 7.96l-1.37-1.37c-.4-.4-.92-.59-1.43-.59-.52 0-1.04.2-1.43.59L10.3 9.45l-7.72 7.72c-.78.78-.78 2.05 0 2.83L4 21.41c.39.39.9.59 1.41.59.51 0 1.02-.2 1.41-.59l7.78-7.78 2.81-2.81c.8-.78.8-2.07 0-2.86zM5.41 20L4 18.59l7.72-7.72 1.47 1.35L5.41 20z\"/>\n",
              "  </svg>\n",
              "      </button>\n",
              "      \n",
              "  <style>\n",
              "    .colab-df-container {\n",
              "      display:flex;\n",
              "      flex-wrap:wrap;\n",
              "      gap: 12px;\n",
              "    }\n",
              "\n",
              "    .colab-df-convert {\n",
              "      background-color: #E8F0FE;\n",
              "      border: none;\n",
              "      border-radius: 50%;\n",
              "      cursor: pointer;\n",
              "      display: none;\n",
              "      fill: #1967D2;\n",
              "      height: 32px;\n",
              "      padding: 0 0 0 0;\n",
              "      width: 32px;\n",
              "    }\n",
              "\n",
              "    .colab-df-convert:hover {\n",
              "      background-color: #E2EBFA;\n",
              "      box-shadow: 0px 1px 2px rgba(60, 64, 67, 0.3), 0px 1px 3px 1px rgba(60, 64, 67, 0.15);\n",
              "      fill: #174EA6;\n",
              "    }\n",
              "\n",
              "    [theme=dark] .colab-df-convert {\n",
              "      background-color: #3B4455;\n",
              "      fill: #D2E3FC;\n",
              "    }\n",
              "\n",
              "    [theme=dark] .colab-df-convert:hover {\n",
              "      background-color: #434B5C;\n",
              "      box-shadow: 0px 1px 3px 1px rgba(0, 0, 0, 0.15);\n",
              "      filter: drop-shadow(0px 1px 2px rgba(0, 0, 0, 0.3));\n",
              "      fill: #FFFFFF;\n",
              "    }\n",
              "  </style>\n",
              "\n",
              "      <script>\n",
              "        const buttonEl =\n",
              "          document.querySelector('#df-f4a3c118-8447-4996-95ef-33b83fa06edf button.colab-df-convert');\n",
              "        buttonEl.style.display =\n",
              "          google.colab.kernel.accessAllowed ? 'block' : 'none';\n",
              "\n",
              "        async function convertToInteractive(key) {\n",
              "          const element = document.querySelector('#df-f4a3c118-8447-4996-95ef-33b83fa06edf');\n",
              "          const dataTable =\n",
              "            await google.colab.kernel.invokeFunction('convertToInteractive',\n",
              "                                                     [key], {});\n",
              "          if (!dataTable) return;\n",
              "\n",
              "          const docLinkHtml = 'Like what you see? Visit the ' +\n",
              "            '<a target=\"_blank\" href=https://colab.research.google.com/notebooks/data_table.ipynb>data table notebook</a>'\n",
              "            + ' to learn more about interactive tables.';\n",
              "          element.innerHTML = '';\n",
              "          dataTable['output_type'] = 'display_data';\n",
              "          await google.colab.output.renderOutput(dataTable, element);\n",
              "          const docLink = document.createElement('div');\n",
              "          docLink.innerHTML = docLinkHtml;\n",
              "          element.appendChild(docLink);\n",
              "        }\n",
              "      </script>\n",
              "    </div>\n",
              "  </div>\n",
              "  "
            ]
          },
          "metadata": {},
          "execution_count": 17
        }
      ]
    },
    {
      "cell_type": "code",
      "source": [
        "# To convert categorical type data into numeric type.\n",
        "# Use Label Encoder\n",
        "from sklearn.preprocessing import LabelEncoder"
      ],
      "metadata": {
        "id": "nS21Hgohb3v7"
      },
      "execution_count": 18,
      "outputs": []
    },
    {
      "cell_type": "code",
      "source": [
        "for col in df_cat:\n",
        "    # create an object of LabelEncoder\n",
        "    le=LabelEncoder()\n",
        "    df_cat[col]=le.fit_transform(df_cat[col])\n",
        "    "
      ],
      "metadata": {
        "id": "97bJMWlub6WH"
      },
      "execution_count": 19,
      "outputs": []
    },
    {
      "cell_type": "code",
      "source": [
        "df_cat.head()"
      ],
      "metadata": {
        "colab": {
          "base_uri": "https://localhost:8080/",
          "height": 206
        },
        "id": "qpmS0yemb9K6",
        "outputId": "f495db70-c25d-4169-e713-f156fb08929e"
      },
      "execution_count": 20,
      "outputs": [
        {
          "output_type": "execute_result",
          "data": {
            "text/plain": [
              "   gender\n",
              "0       1\n",
              "1       0\n",
              "2       1\n",
              "3       1\n",
              "4       0"
            ],
            "text/html": [
              "\n",
              "  <div id=\"df-4d378f10-2d2e-40af-878b-ff08df30eb77\">\n",
              "    <div class=\"colab-df-container\">\n",
              "      <div>\n",
              "<style scoped>\n",
              "    .dataframe tbody tr th:only-of-type {\n",
              "        vertical-align: middle;\n",
              "    }\n",
              "\n",
              "    .dataframe tbody tr th {\n",
              "        vertical-align: top;\n",
              "    }\n",
              "\n",
              "    .dataframe thead th {\n",
              "        text-align: right;\n",
              "    }\n",
              "</style>\n",
              "<table border=\"1\" class=\"dataframe\">\n",
              "  <thead>\n",
              "    <tr style=\"text-align: right;\">\n",
              "      <th></th>\n",
              "      <th>gender</th>\n",
              "    </tr>\n",
              "  </thead>\n",
              "  <tbody>\n",
              "    <tr>\n",
              "      <th>0</th>\n",
              "      <td>1</td>\n",
              "    </tr>\n",
              "    <tr>\n",
              "      <th>1</th>\n",
              "      <td>0</td>\n",
              "    </tr>\n",
              "    <tr>\n",
              "      <th>2</th>\n",
              "      <td>1</td>\n",
              "    </tr>\n",
              "    <tr>\n",
              "      <th>3</th>\n",
              "      <td>1</td>\n",
              "    </tr>\n",
              "    <tr>\n",
              "      <th>4</th>\n",
              "      <td>0</td>\n",
              "    </tr>\n",
              "  </tbody>\n",
              "</table>\n",
              "</div>\n",
              "      <button class=\"colab-df-convert\" onclick=\"convertToInteractive('df-4d378f10-2d2e-40af-878b-ff08df30eb77')\"\n",
              "              title=\"Convert this dataframe to an interactive table.\"\n",
              "              style=\"display:none;\">\n",
              "        \n",
              "  <svg xmlns=\"http://www.w3.org/2000/svg\" height=\"24px\"viewBox=\"0 0 24 24\"\n",
              "       width=\"24px\">\n",
              "    <path d=\"M0 0h24v24H0V0z\" fill=\"none\"/>\n",
              "    <path d=\"M18.56 5.44l.94 2.06.94-2.06 2.06-.94-2.06-.94-.94-2.06-.94 2.06-2.06.94zm-11 1L8.5 8.5l.94-2.06 2.06-.94-2.06-.94L8.5 2.5l-.94 2.06-2.06.94zm10 10l.94 2.06.94-2.06 2.06-.94-2.06-.94-.94-2.06-.94 2.06-2.06.94z\"/><path d=\"M17.41 7.96l-1.37-1.37c-.4-.4-.92-.59-1.43-.59-.52 0-1.04.2-1.43.59L10.3 9.45l-7.72 7.72c-.78.78-.78 2.05 0 2.83L4 21.41c.39.39.9.59 1.41.59.51 0 1.02-.2 1.41-.59l7.78-7.78 2.81-2.81c.8-.78.8-2.07 0-2.86zM5.41 20L4 18.59l7.72-7.72 1.47 1.35L5.41 20z\"/>\n",
              "  </svg>\n",
              "      </button>\n",
              "      \n",
              "  <style>\n",
              "    .colab-df-container {\n",
              "      display:flex;\n",
              "      flex-wrap:wrap;\n",
              "      gap: 12px;\n",
              "    }\n",
              "\n",
              "    .colab-df-convert {\n",
              "      background-color: #E8F0FE;\n",
              "      border: none;\n",
              "      border-radius: 50%;\n",
              "      cursor: pointer;\n",
              "      display: none;\n",
              "      fill: #1967D2;\n",
              "      height: 32px;\n",
              "      padding: 0 0 0 0;\n",
              "      width: 32px;\n",
              "    }\n",
              "\n",
              "    .colab-df-convert:hover {\n",
              "      background-color: #E2EBFA;\n",
              "      box-shadow: 0px 1px 2px rgba(60, 64, 67, 0.3), 0px 1px 3px 1px rgba(60, 64, 67, 0.15);\n",
              "      fill: #174EA6;\n",
              "    }\n",
              "\n",
              "    [theme=dark] .colab-df-convert {\n",
              "      background-color: #3B4455;\n",
              "      fill: #D2E3FC;\n",
              "    }\n",
              "\n",
              "    [theme=dark] .colab-df-convert:hover {\n",
              "      background-color: #434B5C;\n",
              "      box-shadow: 0px 1px 3px 1px rgba(0, 0, 0, 0.15);\n",
              "      filter: drop-shadow(0px 1px 2px rgba(0, 0, 0, 0.3));\n",
              "      fill: #FFFFFF;\n",
              "    }\n",
              "  </style>\n",
              "\n",
              "      <script>\n",
              "        const buttonEl =\n",
              "          document.querySelector('#df-4d378f10-2d2e-40af-878b-ff08df30eb77 button.colab-df-convert');\n",
              "        buttonEl.style.display =\n",
              "          google.colab.kernel.accessAllowed ? 'block' : 'none';\n",
              "\n",
              "        async function convertToInteractive(key) {\n",
              "          const element = document.querySelector('#df-4d378f10-2d2e-40af-878b-ff08df30eb77');\n",
              "          const dataTable =\n",
              "            await google.colab.kernel.invokeFunction('convertToInteractive',\n",
              "                                                     [key], {});\n",
              "          if (!dataTable) return;\n",
              "\n",
              "          const docLinkHtml = 'Like what you see? Visit the ' +\n",
              "            '<a target=\"_blank\" href=https://colab.research.google.com/notebooks/data_table.ipynb>data table notebook</a>'\n",
              "            + ' to learn more about interactive tables.';\n",
              "          element.innerHTML = '';\n",
              "          dataTable['output_type'] = 'display_data';\n",
              "          await google.colab.output.renderOutput(dataTable, element);\n",
              "          const docLink = document.createElement('div');\n",
              "          docLink.innerHTML = docLinkHtml;\n",
              "          element.appendChild(docLink);\n",
              "        }\n",
              "      </script>\n",
              "    </div>\n",
              "  </div>\n",
              "  "
            ]
          },
          "metadata": {},
          "execution_count": 20
        }
      ]
    },
    {
      "cell_type": "code",
      "source": [
        "df_cat.dtypes"
      ],
      "metadata": {
        "colab": {
          "base_uri": "https://localhost:8080/"
        },
        "id": "nxNVxfM_b_eW",
        "outputId": "2a777579-0436-49f3-f7f3-cb1543c93d0f"
      },
      "execution_count": 21,
      "outputs": [
        {
          "output_type": "execute_result",
          "data": {
            "text/plain": [
              "gender    int64\n",
              "dtype: object"
            ]
          },
          "metadata": {},
          "execution_count": 21
        }
      ]
    },
    {
      "cell_type": "code",
      "source": [
        "# After applying LabelEncoder we concatenate df_cat and df_num.\n",
        "df_new=pd.concat([df_num,df_cat],axis=1)\n"
      ],
      "metadata": {
        "id": "G2TKNQ4vcBo9"
      },
      "execution_count": 22,
      "outputs": []
    },
    {
      "cell_type": "code",
      "source": [
        "df_new.head()"
      ],
      "metadata": {
        "colab": {
          "base_uri": "https://localhost:8080/",
          "height": 206
        },
        "id": "0wKmFZHdcEeq",
        "outputId": "b77f0210-6fb9-4820-ba2a-3459cbf21328"
      },
      "execution_count": 23,
      "outputs": [
        {
          "output_type": "execute_result",
          "data": {
            "text/plain": [
              "   long_hair  forehead_width_cm  forehead_height_cm  nose_wide  nose_long  \\\n",
              "0          1               11.8                 6.1          1          0   \n",
              "1          0               14.0                 5.4          0          0   \n",
              "2          0               11.8                 6.3          1          1   \n",
              "3          0               14.4                 6.1          0          1   \n",
              "4          1               13.5                 5.9          0          0   \n",
              "\n",
              "   lips_thin  distance_nose_to_lip_long  gender  \n",
              "0          1                          1       1  \n",
              "1          1                          0       0  \n",
              "2          1                          1       1  \n",
              "3          1                          1       1  \n",
              "4          0                          0       0  "
            ],
            "text/html": [
              "\n",
              "  <div id=\"df-6a589b69-7b16-4e98-96a1-80a6568d700f\">\n",
              "    <div class=\"colab-df-container\">\n",
              "      <div>\n",
              "<style scoped>\n",
              "    .dataframe tbody tr th:only-of-type {\n",
              "        vertical-align: middle;\n",
              "    }\n",
              "\n",
              "    .dataframe tbody tr th {\n",
              "        vertical-align: top;\n",
              "    }\n",
              "\n",
              "    .dataframe thead th {\n",
              "        text-align: right;\n",
              "    }\n",
              "</style>\n",
              "<table border=\"1\" class=\"dataframe\">\n",
              "  <thead>\n",
              "    <tr style=\"text-align: right;\">\n",
              "      <th></th>\n",
              "      <th>long_hair</th>\n",
              "      <th>forehead_width_cm</th>\n",
              "      <th>forehead_height_cm</th>\n",
              "      <th>nose_wide</th>\n",
              "      <th>nose_long</th>\n",
              "      <th>lips_thin</th>\n",
              "      <th>distance_nose_to_lip_long</th>\n",
              "      <th>gender</th>\n",
              "    </tr>\n",
              "  </thead>\n",
              "  <tbody>\n",
              "    <tr>\n",
              "      <th>0</th>\n",
              "      <td>1</td>\n",
              "      <td>11.8</td>\n",
              "      <td>6.1</td>\n",
              "      <td>1</td>\n",
              "      <td>0</td>\n",
              "      <td>1</td>\n",
              "      <td>1</td>\n",
              "      <td>1</td>\n",
              "    </tr>\n",
              "    <tr>\n",
              "      <th>1</th>\n",
              "      <td>0</td>\n",
              "      <td>14.0</td>\n",
              "      <td>5.4</td>\n",
              "      <td>0</td>\n",
              "      <td>0</td>\n",
              "      <td>1</td>\n",
              "      <td>0</td>\n",
              "      <td>0</td>\n",
              "    </tr>\n",
              "    <tr>\n",
              "      <th>2</th>\n",
              "      <td>0</td>\n",
              "      <td>11.8</td>\n",
              "      <td>6.3</td>\n",
              "      <td>1</td>\n",
              "      <td>1</td>\n",
              "      <td>1</td>\n",
              "      <td>1</td>\n",
              "      <td>1</td>\n",
              "    </tr>\n",
              "    <tr>\n",
              "      <th>3</th>\n",
              "      <td>0</td>\n",
              "      <td>14.4</td>\n",
              "      <td>6.1</td>\n",
              "      <td>0</td>\n",
              "      <td>1</td>\n",
              "      <td>1</td>\n",
              "      <td>1</td>\n",
              "      <td>1</td>\n",
              "    </tr>\n",
              "    <tr>\n",
              "      <th>4</th>\n",
              "      <td>1</td>\n",
              "      <td>13.5</td>\n",
              "      <td>5.9</td>\n",
              "      <td>0</td>\n",
              "      <td>0</td>\n",
              "      <td>0</td>\n",
              "      <td>0</td>\n",
              "      <td>0</td>\n",
              "    </tr>\n",
              "  </tbody>\n",
              "</table>\n",
              "</div>\n",
              "      <button class=\"colab-df-convert\" onclick=\"convertToInteractive('df-6a589b69-7b16-4e98-96a1-80a6568d700f')\"\n",
              "              title=\"Convert this dataframe to an interactive table.\"\n",
              "              style=\"display:none;\">\n",
              "        \n",
              "  <svg xmlns=\"http://www.w3.org/2000/svg\" height=\"24px\"viewBox=\"0 0 24 24\"\n",
              "       width=\"24px\">\n",
              "    <path d=\"M0 0h24v24H0V0z\" fill=\"none\"/>\n",
              "    <path d=\"M18.56 5.44l.94 2.06.94-2.06 2.06-.94-2.06-.94-.94-2.06-.94 2.06-2.06.94zm-11 1L8.5 8.5l.94-2.06 2.06-.94-2.06-.94L8.5 2.5l-.94 2.06-2.06.94zm10 10l.94 2.06.94-2.06 2.06-.94-2.06-.94-.94-2.06-.94 2.06-2.06.94z\"/><path d=\"M17.41 7.96l-1.37-1.37c-.4-.4-.92-.59-1.43-.59-.52 0-1.04.2-1.43.59L10.3 9.45l-7.72 7.72c-.78.78-.78 2.05 0 2.83L4 21.41c.39.39.9.59 1.41.59.51 0 1.02-.2 1.41-.59l7.78-7.78 2.81-2.81c.8-.78.8-2.07 0-2.86zM5.41 20L4 18.59l7.72-7.72 1.47 1.35L5.41 20z\"/>\n",
              "  </svg>\n",
              "      </button>\n",
              "      \n",
              "  <style>\n",
              "    .colab-df-container {\n",
              "      display:flex;\n",
              "      flex-wrap:wrap;\n",
              "      gap: 12px;\n",
              "    }\n",
              "\n",
              "    .colab-df-convert {\n",
              "      background-color: #E8F0FE;\n",
              "      border: none;\n",
              "      border-radius: 50%;\n",
              "      cursor: pointer;\n",
              "      display: none;\n",
              "      fill: #1967D2;\n",
              "      height: 32px;\n",
              "      padding: 0 0 0 0;\n",
              "      width: 32px;\n",
              "    }\n",
              "\n",
              "    .colab-df-convert:hover {\n",
              "      background-color: #E2EBFA;\n",
              "      box-shadow: 0px 1px 2px rgba(60, 64, 67, 0.3), 0px 1px 3px 1px rgba(60, 64, 67, 0.15);\n",
              "      fill: #174EA6;\n",
              "    }\n",
              "\n",
              "    [theme=dark] .colab-df-convert {\n",
              "      background-color: #3B4455;\n",
              "      fill: #D2E3FC;\n",
              "    }\n",
              "\n",
              "    [theme=dark] .colab-df-convert:hover {\n",
              "      background-color: #434B5C;\n",
              "      box-shadow: 0px 1px 3px 1px rgba(0, 0, 0, 0.15);\n",
              "      filter: drop-shadow(0px 1px 2px rgba(0, 0, 0, 0.3));\n",
              "      fill: #FFFFFF;\n",
              "    }\n",
              "  </style>\n",
              "\n",
              "      <script>\n",
              "        const buttonEl =\n",
              "          document.querySelector('#df-6a589b69-7b16-4e98-96a1-80a6568d700f button.colab-df-convert');\n",
              "        buttonEl.style.display =\n",
              "          google.colab.kernel.accessAllowed ? 'block' : 'none';\n",
              "\n",
              "        async function convertToInteractive(key) {\n",
              "          const element = document.querySelector('#df-6a589b69-7b16-4e98-96a1-80a6568d700f');\n",
              "          const dataTable =\n",
              "            await google.colab.kernel.invokeFunction('convertToInteractive',\n",
              "                                                     [key], {});\n",
              "          if (!dataTable) return;\n",
              "\n",
              "          const docLinkHtml = 'Like what you see? Visit the ' +\n",
              "            '<a target=\"_blank\" href=https://colab.research.google.com/notebooks/data_table.ipynb>data table notebook</a>'\n",
              "            + ' to learn more about interactive tables.';\n",
              "          element.innerHTML = '';\n",
              "          dataTable['output_type'] = 'display_data';\n",
              "          await google.colab.output.renderOutput(dataTable, element);\n",
              "          const docLink = document.createElement('div');\n",
              "          docLink.innerHTML = docLinkHtml;\n",
              "          element.appendChild(docLink);\n",
              "        }\n",
              "      </script>\n",
              "    </div>\n",
              "  </div>\n",
              "  "
            ]
          },
          "metadata": {},
          "execution_count": 23
        }
      ]
    },
    {
      "cell_type": "code",
      "source": [
        "# Now Select input and output\n",
        "X=df_new.drop('gender',axis=1)   # input \n",
        "Y=df_new['gender']               # output"
      ],
      "metadata": {
        "id": "vdMhlTd-cGnn"
      },
      "execution_count": 24,
      "outputs": []
    },
    {
      "cell_type": "code",
      "source": [
        "X.head()"
      ],
      "metadata": {
        "colab": {
          "base_uri": "https://localhost:8080/",
          "height": 206
        },
        "id": "QtmlMSopcPYX",
        "outputId": "3f05f52a-00a6-4fb2-d913-8bec498f156a"
      },
      "execution_count": 25,
      "outputs": [
        {
          "output_type": "execute_result",
          "data": {
            "text/plain": [
              "   long_hair  forehead_width_cm  forehead_height_cm  nose_wide  nose_long  \\\n",
              "0          1               11.8                 6.1          1          0   \n",
              "1          0               14.0                 5.4          0          0   \n",
              "2          0               11.8                 6.3          1          1   \n",
              "3          0               14.4                 6.1          0          1   \n",
              "4          1               13.5                 5.9          0          0   \n",
              "\n",
              "   lips_thin  distance_nose_to_lip_long  \n",
              "0          1                          1  \n",
              "1          1                          0  \n",
              "2          1                          1  \n",
              "3          1                          1  \n",
              "4          0                          0  "
            ],
            "text/html": [
              "\n",
              "  <div id=\"df-ad7bb13e-12e9-4a85-a4c8-f4b93508f6ef\">\n",
              "    <div class=\"colab-df-container\">\n",
              "      <div>\n",
              "<style scoped>\n",
              "    .dataframe tbody tr th:only-of-type {\n",
              "        vertical-align: middle;\n",
              "    }\n",
              "\n",
              "    .dataframe tbody tr th {\n",
              "        vertical-align: top;\n",
              "    }\n",
              "\n",
              "    .dataframe thead th {\n",
              "        text-align: right;\n",
              "    }\n",
              "</style>\n",
              "<table border=\"1\" class=\"dataframe\">\n",
              "  <thead>\n",
              "    <tr style=\"text-align: right;\">\n",
              "      <th></th>\n",
              "      <th>long_hair</th>\n",
              "      <th>forehead_width_cm</th>\n",
              "      <th>forehead_height_cm</th>\n",
              "      <th>nose_wide</th>\n",
              "      <th>nose_long</th>\n",
              "      <th>lips_thin</th>\n",
              "      <th>distance_nose_to_lip_long</th>\n",
              "    </tr>\n",
              "  </thead>\n",
              "  <tbody>\n",
              "    <tr>\n",
              "      <th>0</th>\n",
              "      <td>1</td>\n",
              "      <td>11.8</td>\n",
              "      <td>6.1</td>\n",
              "      <td>1</td>\n",
              "      <td>0</td>\n",
              "      <td>1</td>\n",
              "      <td>1</td>\n",
              "    </tr>\n",
              "    <tr>\n",
              "      <th>1</th>\n",
              "      <td>0</td>\n",
              "      <td>14.0</td>\n",
              "      <td>5.4</td>\n",
              "      <td>0</td>\n",
              "      <td>0</td>\n",
              "      <td>1</td>\n",
              "      <td>0</td>\n",
              "    </tr>\n",
              "    <tr>\n",
              "      <th>2</th>\n",
              "      <td>0</td>\n",
              "      <td>11.8</td>\n",
              "      <td>6.3</td>\n",
              "      <td>1</td>\n",
              "      <td>1</td>\n",
              "      <td>1</td>\n",
              "      <td>1</td>\n",
              "    </tr>\n",
              "    <tr>\n",
              "      <th>3</th>\n",
              "      <td>0</td>\n",
              "      <td>14.4</td>\n",
              "      <td>6.1</td>\n",
              "      <td>0</td>\n",
              "      <td>1</td>\n",
              "      <td>1</td>\n",
              "      <td>1</td>\n",
              "    </tr>\n",
              "    <tr>\n",
              "      <th>4</th>\n",
              "      <td>1</td>\n",
              "      <td>13.5</td>\n",
              "      <td>5.9</td>\n",
              "      <td>0</td>\n",
              "      <td>0</td>\n",
              "      <td>0</td>\n",
              "      <td>0</td>\n",
              "    </tr>\n",
              "  </tbody>\n",
              "</table>\n",
              "</div>\n",
              "      <button class=\"colab-df-convert\" onclick=\"convertToInteractive('df-ad7bb13e-12e9-4a85-a4c8-f4b93508f6ef')\"\n",
              "              title=\"Convert this dataframe to an interactive table.\"\n",
              "              style=\"display:none;\">\n",
              "        \n",
              "  <svg xmlns=\"http://www.w3.org/2000/svg\" height=\"24px\"viewBox=\"0 0 24 24\"\n",
              "       width=\"24px\">\n",
              "    <path d=\"M0 0h24v24H0V0z\" fill=\"none\"/>\n",
              "    <path d=\"M18.56 5.44l.94 2.06.94-2.06 2.06-.94-2.06-.94-.94-2.06-.94 2.06-2.06.94zm-11 1L8.5 8.5l.94-2.06 2.06-.94-2.06-.94L8.5 2.5l-.94 2.06-2.06.94zm10 10l.94 2.06.94-2.06 2.06-.94-2.06-.94-.94-2.06-.94 2.06-2.06.94z\"/><path d=\"M17.41 7.96l-1.37-1.37c-.4-.4-.92-.59-1.43-.59-.52 0-1.04.2-1.43.59L10.3 9.45l-7.72 7.72c-.78.78-.78 2.05 0 2.83L4 21.41c.39.39.9.59 1.41.59.51 0 1.02-.2 1.41-.59l7.78-7.78 2.81-2.81c.8-.78.8-2.07 0-2.86zM5.41 20L4 18.59l7.72-7.72 1.47 1.35L5.41 20z\"/>\n",
              "  </svg>\n",
              "      </button>\n",
              "      \n",
              "  <style>\n",
              "    .colab-df-container {\n",
              "      display:flex;\n",
              "      flex-wrap:wrap;\n",
              "      gap: 12px;\n",
              "    }\n",
              "\n",
              "    .colab-df-convert {\n",
              "      background-color: #E8F0FE;\n",
              "      border: none;\n",
              "      border-radius: 50%;\n",
              "      cursor: pointer;\n",
              "      display: none;\n",
              "      fill: #1967D2;\n",
              "      height: 32px;\n",
              "      padding: 0 0 0 0;\n",
              "      width: 32px;\n",
              "    }\n",
              "\n",
              "    .colab-df-convert:hover {\n",
              "      background-color: #E2EBFA;\n",
              "      box-shadow: 0px 1px 2px rgba(60, 64, 67, 0.3), 0px 1px 3px 1px rgba(60, 64, 67, 0.15);\n",
              "      fill: #174EA6;\n",
              "    }\n",
              "\n",
              "    [theme=dark] .colab-df-convert {\n",
              "      background-color: #3B4455;\n",
              "      fill: #D2E3FC;\n",
              "    }\n",
              "\n",
              "    [theme=dark] .colab-df-convert:hover {\n",
              "      background-color: #434B5C;\n",
              "      box-shadow: 0px 1px 3px 1px rgba(0, 0, 0, 0.15);\n",
              "      filter: drop-shadow(0px 1px 2px rgba(0, 0, 0, 0.3));\n",
              "      fill: #FFFFFF;\n",
              "    }\n",
              "  </style>\n",
              "\n",
              "      <script>\n",
              "        const buttonEl =\n",
              "          document.querySelector('#df-ad7bb13e-12e9-4a85-a4c8-f4b93508f6ef button.colab-df-convert');\n",
              "        buttonEl.style.display =\n",
              "          google.colab.kernel.accessAllowed ? 'block' : 'none';\n",
              "\n",
              "        async function convertToInteractive(key) {\n",
              "          const element = document.querySelector('#df-ad7bb13e-12e9-4a85-a4c8-f4b93508f6ef');\n",
              "          const dataTable =\n",
              "            await google.colab.kernel.invokeFunction('convertToInteractive',\n",
              "                                                     [key], {});\n",
              "          if (!dataTable) return;\n",
              "\n",
              "          const docLinkHtml = 'Like what you see? Visit the ' +\n",
              "            '<a target=\"_blank\" href=https://colab.research.google.com/notebooks/data_table.ipynb>data table notebook</a>'\n",
              "            + ' to learn more about interactive tables.';\n",
              "          element.innerHTML = '';\n",
              "          dataTable['output_type'] = 'display_data';\n",
              "          await google.colab.output.renderOutput(dataTable, element);\n",
              "          const docLink = document.createElement('div');\n",
              "          docLink.innerHTML = docLinkHtml;\n",
              "          element.appendChild(docLink);\n",
              "        }\n",
              "      </script>\n",
              "    </div>\n",
              "  </div>\n",
              "  "
            ]
          },
          "metadata": {},
          "execution_count": 25
        }
      ]
    },
    {
      "cell_type": "code",
      "source": [
        "Y.head()"
      ],
      "metadata": {
        "colab": {
          "base_uri": "https://localhost:8080/"
        },
        "id": "n_5l-vDEcSPV",
        "outputId": "1b7b84e6-2569-4cf3-e750-1ce61fe104cd"
      },
      "execution_count": 26,
      "outputs": [
        {
          "output_type": "execute_result",
          "data": {
            "text/plain": [
              "0    1\n",
              "1    0\n",
              "2    1\n",
              "3    1\n",
              "4    0\n",
              "Name: gender, dtype: int64"
            ]
          },
          "metadata": {},
          "execution_count": 26
        }
      ]
    },
    {
      "cell_type": "code",
      "source": [
        "sns.countplot(data=df_new,x='gender')\n",
        "f=df_new['gender'].value_counts()\n",
        "plt.yticks(f)\n",
        "plt.show()"
      ],
      "metadata": {
        "colab": {
          "base_uri": "https://localhost:8080/",
          "height": 279
        },
        "id": "lQIupKRwcTl6",
        "outputId": "09d4dc9a-55d5-4445-a54a-c28d5a1a86ce"
      },
      "execution_count": 27,
      "outputs": [
        {
          "output_type": "display_data",
          "data": {
            "text/plain": [
              "<Figure size 432x288 with 1 Axes>"
            ],
            "image/png": "[encoded data removed]"
          },
          "metadata": {
            "needs_background": "light"
          }
        }
      ]
    },
    {
      "cell_type": "code",
      "source": [
        "#train test split\n",
        "from sklearn.model_selection import train_test_split\n",
        "X_train,X_test,Y_train,Y_test=train_test_split(X,Y,test_size=0.3,\n",
        "                                    random_state=1,stratify=Y)\n",
        "#stratify=output variablename"
      ],
      "metadata": {
        "id": "AV1tfHLPci8_"
      },
      "execution_count": 28,
      "outputs": []
    },
    {
      "cell_type": "code",
      "source": [
        "Y_train.value_counts()"
      ],
      "metadata": {
        "colab": {
          "base_uri": "https://localhost:8080/"
        },
        "id": "XjojXWzocmXS",
        "outputId": "40cc1729-0b06-43ed-c31a-bdb736d06883"
      },
      "execution_count": 29,
      "outputs": [
        {
          "output_type": "execute_result",
          "data": {
            "text/plain": [
              "0    1750\n",
              "1    1750\n",
              "Name: gender, dtype: int64"
            ]
          },
          "metadata": {},
          "execution_count": 29
        }
      ]
    },
    {
      "cell_type": "code",
      "source": [
        "Y_test.value_counts()"
      ],
      "metadata": {
        "colab": {
          "base_uri": "https://localhost:8080/"
        },
        "id": "iJ6EVdGxcp0J",
        "outputId": "53888dcd-3390-4988-b8e4-babe753e467b"
      },
      "execution_count": 30,
      "outputs": [
        {
          "output_type": "execute_result",
          "data": {
            "text/plain": [
              "0    751\n",
              "1    750\n",
              "Name: gender, dtype: int64"
            ]
          },
          "metadata": {},
          "execution_count": 30
        }
      ]
    },
    {
      "cell_type": "code",
      "source": [
        "# Now applying Scaling on input data X_train and X_test before we train the model\n",
        "# Apply StandardScaler on input data training and testing\n",
        "from sklearn.preprocessing import StandardScaler\n",
        "# Create an object of StandardScaler class\n",
        "ss=StandardScaler()\n",
        "#means apply standard scaler for X_train and X_test data\n",
        "X_train=ss.fit_transform(X_train)\n",
        "X_test=ss.transform(X_test)"
      ],
      "metadata": {
        "id": "elCMIbC5cuW0"
      },
      "execution_count": 31,
      "outputs": []
    },
    {
      "cell_type": "code",
      "source": [
        "X_train.shape, X_test.shape"
      ],
      "metadata": {
        "colab": {
          "base_uri": "https://localhost:8080/"
        },
        "id": "D57c-bescxHC",
        "outputId": "993015ff-fe1f-43e9-f760-68e533bca77d"
      },
      "execution_count": 32,
      "outputs": [
        {
          "output_type": "execute_result",
          "data": {
            "text/plain": [
              "((3500, 7), (1501, 7))"
            ]
          },
          "metadata": {},
          "execution_count": 32
        }
      ]
    },
    {
      "cell_type": "code",
      "source": [
        "#create a architecture of neural network\n",
        "import tensorflow as tf\n",
        "#create a object of Sequential class\n",
        "model=tf.keras.models.Sequential([\n",
        "      tf.keras.layers.Dense(units=7,activation='relu',input_shape=(X.shape[1],)),\n",
        "       tf.keras.layers.Dense(units=7,activation='relu'),\n",
        "        tf.keras.layers.Dense(units=1,activation='sigmoid'),\n",
        "])\n"
      ],
      "metadata": {
        "id": "9cyEMRu1cz1E"
      },
      "execution_count": 33,
      "outputs": []
    },
    {
      "cell_type": "code",
      "source": [
        "#to show model summary\n",
        "model.summary()"
      ],
      "metadata": {
        "colab": {
          "base_uri": "https://localhost:8080/"
        },
        "id": "K1DuJUfEc6UA",
        "outputId": "bbe43741-d2c4-4a52-9052-f6d3500d1d68"
      },
      "execution_count": 34,
      "outputs": [
        {
          "output_type": "stream",
          "name": "stdout",
          "text": [
            "Model: \"sequential\"\n",
            "_________________________________________________________________\n",
            " Layer (type)                Output Shape              Param #   \n",
            "=================================================================\n",
            " dense (Dense)               (None, 7)                 56        \n",
            "                                                                 \n",
            " dense_1 (Dense)             (None, 7)                 56        \n",
            "                                                                 \n",
            " dense_2 (Dense)             (None, 1)                 8         \n",
            "                                                                 \n",
            "=================================================================\n",
            "Total params: 120\n",
            "Trainable params: 120\n",
            "Non-trainable params: 0\n",
            "_________________________________________________________________\n"
          ]
        }
      ]
    },
    {
      "cell_type": "code",
      "source": [
        "#compile the model\n",
        "model.compile(optimizer='adam',loss='binary_crossentropy',metrics=['accuracy'])"
      ],
      "metadata": {
        "id": "-2X3Q0--c9vg"
      },
      "execution_count": 35,
      "outputs": []
    },
    {
      "cell_type": "code",
      "source": [
        "#create a procedure for callback(Earlystopping)\n",
        "#Early Stopping : \n",
        "#EarlyStopping : for decide epoch\n",
        "#create a procedure for callback \n",
        "from tensorflow.keras.callbacks import EarlyStopping             \n",
        "#create callback : -\n",
        "#EarlyStopping() inbuilt function\n",
        "cb=EarlyStopping(\n",
        "    monitor=\"val_loss\",  #val_loss means testing error\n",
        "    min_delta=0.00001, #value of lambda \n",
        "    patience=20,\n",
        "    verbose=1,\n",
        "    mode=\"auto\", #min loss \n",
        "    baseline=None,\n",
        "    restore_best_weights=False\n",
        ")"
      ],
      "metadata": {
        "id": "1aomKiFPdBkJ"
      },
      "execution_count": 36,
      "outputs": []
    },
    {
      "cell_type": "markdown",
      "source": [
        "Another way to do validation"
      ],
      "metadata": {
        "id": "zUdp1JCwdJHX"
      }
    },
    {
      "cell_type": "code",
      "source": [
        "#train the model\n",
        "#trained_model=model.fit(X_train,Y_train,epochs=4000,\n",
        "#                        validation_split=0.2,callbacks=cb)\n",
        "#validation_split=0.2 means take 20% data for validation from X_train,Y_train\n",
        "X_train,X_val,Y_train,Y_val=train_test_split(X_train,Y_train,test_size=0.2,random_state=1)\n",
        "\n"
      ],
      "metadata": {
        "id": "1Jp1iUhkdK2s"
      },
      "execution_count": 37,
      "outputs": []
    },
    {
      "cell_type": "code",
      "source": [
        "trained_model=model.fit(X_train,Y_train,epochs=4000,\n",
        "                        validation_data=(X_val,Y_val),callbacks=cb)\n",
        "#benifical to check which records have been chosen in x_val Y_val later\n",
        "#this is same as validation_split=0.2 "
      ],
      "metadata": {
        "colab": {
          "base_uri": "https://localhost:8080/"
        },
        "id": "oqmPi0CodM_i",
        "outputId": "fde84cb4-be15-44c0-c623-2a01a970e2f1"
      },
      "execution_count": 38,
      "outputs": [
        {
          "output_type": "stream",
          "name": "stdout",
          "text": [
            "Epoch 1/4000\n",
            "88/88 [==============================] - 2s 9ms/step - loss: 0.5462 - accuracy: 0.7786 - val_loss: 0.4148 - val_accuracy: 0.9200\n",
            "Epoch 2/4000\n",
            "88/88 [==============================] - 0s 5ms/step - loss: 0.3059 - accuracy: 0.9439 - val_loss: 0.2070 - val_accuracy: 0.9529\n",
            "Epoch 3/4000\n",
            "88/88 [==============================] - 0s 4ms/step - loss: 0.1595 - accuracy: 0.9589 - val_loss: 0.1228 - val_accuracy: 0.9614\n",
            "Epoch 4/4000\n",
            "88/88 [==============================] - 0s 3ms/step - loss: 0.1109 - accuracy: 0.9621 - val_loss: 0.0973 - val_accuracy: 0.9600\n",
            "Epoch 5/4000\n",
            "88/88 [==============================] - 0s 2ms/step - loss: 0.0946 - accuracy: 0.9654 - val_loss: 0.0876 - val_accuracy: 0.9614\n",
            "Epoch 6/4000\n",
            "88/88 [==============================] - 0s 3ms/step - loss: 0.0873 - accuracy: 0.9661 - val_loss: 0.0830 - val_accuracy: 0.9614\n",
            "Epoch 7/4000\n",
            "88/88 [==============================] - 0s 3ms/step - loss: 0.0836 - accuracy: 0.9671 - val_loss: 0.0810 - val_accuracy: 0.9614\n",
            "Epoch 8/4000\n",
            "88/88 [==============================] - 0s 3ms/step - loss: 0.0814 - accuracy: 0.9679 - val_loss: 0.0796 - val_accuracy: 0.9614\n",
            "Epoch 9/4000\n",
            "88/88 [==============================] - 0s 3ms/step - loss: 0.0800 - accuracy: 0.9675 - val_loss: 0.0787 - val_accuracy: 0.9629\n",
            "Epoch 10/4000\n",
            "88/88 [==============================] - 0s 3ms/step - loss: 0.0791 - accuracy: 0.9686 - val_loss: 0.0783 - val_accuracy: 0.9629\n",
            "Epoch 11/4000\n",
            "88/88 [==============================] - 0s 3ms/step - loss: 0.0784 - accuracy: 0.9682 - val_loss: 0.0778 - val_accuracy: 0.9629\n",
            "Epoch 12/4000\n",
            "88/88 [==============================] - 0s 3ms/step - loss: 0.0780 - accuracy: 0.9696 - val_loss: 0.0778 - val_accuracy: 0.9614\n",
            "Epoch 13/4000\n",
            "88/88 [==============================] - 0s 3ms/step - loss: 0.0774 - accuracy: 0.9682 - val_loss: 0.0778 - val_accuracy: 0.9614\n",
            "Epoch 14/4000\n",
            "88/88 [==============================] - 0s 3ms/step - loss: 0.0769 - accuracy: 0.9689 - val_loss: 0.0773 - val_accuracy: 0.9643\n",
            "Epoch 15/4000\n",
            "88/88 [==============================] - 0s 3ms/step - loss: 0.0766 - accuracy: 0.9689 - val_loss: 0.0775 - val_accuracy: 0.9643\n",
            "Epoch 16/4000\n",
            "88/88 [==============================] - 0s 3ms/step - loss: 0.0759 - accuracy: 0.9700 - val_loss: 0.0769 - val_accuracy: 0.9643\n",
            "Epoch 17/4000\n",
            "88/88 [==============================] - 0s 3ms/step - loss: 0.0759 - accuracy: 0.9689 - val_loss: 0.0767 - val_accuracy: 0.9643\n",
            "Epoch 18/4000\n",
            "88/88 [==============================] - 0s 3ms/step - loss: 0.0755 - accuracy: 0.9693 - val_loss: 0.0766 - val_accuracy: 0.9643\n",
            "Epoch 19/4000\n",
            "88/88 [==============================] - 0s 3ms/step - loss: 0.0752 - accuracy: 0.9696 - val_loss: 0.0763 - val_accuracy: 0.9643\n",
            "Epoch 20/4000\n",
            "88/88 [==============================] - 0s 3ms/step - loss: 0.0748 - accuracy: 0.9696 - val_loss: 0.0762 - val_accuracy: 0.9643\n",
            "Epoch 21/4000\n",
            "88/88 [==============================] - 0s 3ms/step - loss: 0.0747 - accuracy: 0.9700 - val_loss: 0.0761 - val_accuracy: 0.9643\n",
            "Epoch 22/4000\n",
            "88/88 [==============================] - 0s 3ms/step - loss: 0.0744 - accuracy: 0.9707 - val_loss: 0.0759 - val_accuracy: 0.9643\n",
            "Epoch 23/4000\n",
            "88/88 [==============================] - 0s 3ms/step - loss: 0.0742 - accuracy: 0.9700 - val_loss: 0.0758 - val_accuracy: 0.9671\n",
            "Epoch 24/4000\n",
            "88/88 [==============================] - 0s 3ms/step - loss: 0.0740 - accuracy: 0.9707 - val_loss: 0.0758 - val_accuracy: 0.9671\n",
            "Epoch 25/4000\n",
            "88/88 [==============================] - 0s 3ms/step - loss: 0.0739 - accuracy: 0.9693 - val_loss: 0.0753 - val_accuracy: 0.9671\n",
            "Epoch 26/4000\n",
            "88/88 [==============================] - 0s 2ms/step - loss: 0.0737 - accuracy: 0.9711 - val_loss: 0.0755 - val_accuracy: 0.9671\n",
            "Epoch 27/4000\n",
            "88/88 [==============================] - 0s 3ms/step - loss: 0.0737 - accuracy: 0.9696 - val_loss: 0.0755 - val_accuracy: 0.9671\n",
            "Epoch 28/4000\n",
            "88/88 [==============================] - 0s 2ms/step - loss: 0.0734 - accuracy: 0.9704 - val_loss: 0.0753 - val_accuracy: 0.9671\n",
            "Epoch 29/4000\n",
            "88/88 [==============================] - 0s 3ms/step - loss: 0.0736 - accuracy: 0.9704 - val_loss: 0.0750 - val_accuracy: 0.9671\n",
            "Epoch 30/4000\n",
            "88/88 [==============================] - 0s 3ms/step - loss: 0.0731 - accuracy: 0.9707 - val_loss: 0.0749 - val_accuracy: 0.9671\n",
            "Epoch 31/4000\n",
            "88/88 [==============================] - 0s 2ms/step - loss: 0.0730 - accuracy: 0.9700 - val_loss: 0.0747 - val_accuracy: 0.9671\n",
            "Epoch 32/4000\n",
            "88/88 [==============================] - 0s 3ms/step - loss: 0.0728 - accuracy: 0.9707 - val_loss: 0.0749 - val_accuracy: 0.9671\n",
            "Epoch 33/4000\n",
            "88/88 [==============================] - 0s 3ms/step - loss: 0.0727 - accuracy: 0.9704 - val_loss: 0.0746 - val_accuracy: 0.9671\n",
            "Epoch 34/4000\n",
            "88/88 [==============================] - 0s 3ms/step - loss: 0.0727 - accuracy: 0.9700 - val_loss: 0.0753 - val_accuracy: 0.9671\n",
            "Epoch 35/4000\n",
            "88/88 [==============================] - 0s 2ms/step - loss: 0.0724 - accuracy: 0.9714 - val_loss: 0.0747 - val_accuracy: 0.9671\n",
            "Epoch 36/4000\n",
            "88/88 [==============================] - 0s 3ms/step - loss: 0.0723 - accuracy: 0.9700 - val_loss: 0.0743 - val_accuracy: 0.9671\n",
            "Epoch 37/4000\n",
            "88/88 [==============================] - 0s 2ms/step - loss: 0.0722 - accuracy: 0.9704 - val_loss: 0.0744 - val_accuracy: 0.9657\n",
            "Epoch 38/4000\n",
            "88/88 [==============================] - 0s 3ms/step - loss: 0.0722 - accuracy: 0.9704 - val_loss: 0.0743 - val_accuracy: 0.9671\n",
            "Epoch 39/4000\n",
            "88/88 [==============================] - 0s 2ms/step - loss: 0.0723 - accuracy: 0.9721 - val_loss: 0.0740 - val_accuracy: 0.9657\n",
            "Epoch 40/4000\n",
            "88/88 [==============================] - 0s 3ms/step - loss: 0.0725 - accuracy: 0.9711 - val_loss: 0.0733 - val_accuracy: 0.9671\n",
            "Epoch 41/4000\n",
            "88/88 [==============================] - 0s 2ms/step - loss: 0.0719 - accuracy: 0.9718 - val_loss: 0.0734 - val_accuracy: 0.9671\n",
            "Epoch 42/4000\n",
            "88/88 [==============================] - 0s 3ms/step - loss: 0.0718 - accuracy: 0.9711 - val_loss: 0.0736 - val_accuracy: 0.9671\n",
            "Epoch 43/4000\n",
            "88/88 [==============================] - 0s 3ms/step - loss: 0.0715 - accuracy: 0.9718 - val_loss: 0.0732 - val_accuracy: 0.9657\n",
            "Epoch 44/4000\n",
            "88/88 [==============================] - 0s 3ms/step - loss: 0.0716 - accuracy: 0.9714 - val_loss: 0.0736 - val_accuracy: 0.9657\n",
            "Epoch 45/4000\n",
            "88/88 [==============================] - 0s 2ms/step - loss: 0.0715 - accuracy: 0.9714 - val_loss: 0.0733 - val_accuracy: 0.9657\n",
            "Epoch 46/4000\n",
            "88/88 [==============================] - 0s 2ms/step - loss: 0.0711 - accuracy: 0.9714 - val_loss: 0.0732 - val_accuracy: 0.9671\n",
            "Epoch 47/4000\n",
            "88/88 [==============================] - 0s 3ms/step - loss: 0.0712 - accuracy: 0.9700 - val_loss: 0.0735 - val_accuracy: 0.9657\n",
            "Epoch 48/4000\n",
            "88/88 [==============================] - 0s 3ms/step - loss: 0.0711 - accuracy: 0.9711 - val_loss: 0.0738 - val_accuracy: 0.9657\n",
            "Epoch 49/4000\n",
            "88/88 [==============================] - 0s 2ms/step - loss: 0.0712 - accuracy: 0.9711 - val_loss: 0.0738 - val_accuracy: 0.9657\n",
            "Epoch 50/4000\n",
            "88/88 [==============================] - 0s 2ms/step - loss: 0.0708 - accuracy: 0.9711 - val_loss: 0.0739 - val_accuracy: 0.9657\n",
            "Epoch 51/4000\n",
            "88/88 [==============================] - 0s 3ms/step - loss: 0.0705 - accuracy: 0.9714 - val_loss: 0.0738 - val_accuracy: 0.9671\n",
            "Epoch 52/4000\n",
            "88/88 [==============================] - 0s 3ms/step - loss: 0.0704 - accuracy: 0.9718 - val_loss: 0.0734 - val_accuracy: 0.9657\n",
            "Epoch 53/4000\n",
            "88/88 [==============================] - 0s 2ms/step - loss: 0.0704 - accuracy: 0.9707 - val_loss: 0.0738 - val_accuracy: 0.9657\n",
            "Epoch 54/4000\n",
            "88/88 [==============================] - 0s 3ms/step - loss: 0.0702 - accuracy: 0.9721 - val_loss: 0.0736 - val_accuracy: 0.9643\n",
            "Epoch 55/4000\n",
            "88/88 [==============================] - 0s 3ms/step - loss: 0.0703 - accuracy: 0.9714 - val_loss: 0.0736 - val_accuracy: 0.9657\n",
            "Epoch 56/4000\n",
            "88/88 [==============================] - 0s 2ms/step - loss: 0.0697 - accuracy: 0.9718 - val_loss: 0.0735 - val_accuracy: 0.9657\n",
            "Epoch 57/4000\n",
            "88/88 [==============================] - 0s 2ms/step - loss: 0.0696 - accuracy: 0.9714 - val_loss: 0.0733 - val_accuracy: 0.9657\n",
            "Epoch 58/4000\n",
            "88/88 [==============================] - 0s 3ms/step - loss: 0.0694 - accuracy: 0.9718 - val_loss: 0.0735 - val_accuracy: 0.9643\n",
            "Epoch 59/4000\n",
            "88/88 [==============================] - 0s 4ms/step - loss: 0.0695 - accuracy: 0.9718 - val_loss: 0.0733 - val_accuracy: 0.9657\n",
            "Epoch 60/4000\n",
            "88/88 [==============================] - 0s 5ms/step - loss: 0.0693 - accuracy: 0.9725 - val_loss: 0.0730 - val_accuracy: 0.9657\n",
            "Epoch 61/4000\n",
            "88/88 [==============================] - 0s 4ms/step - loss: 0.0691 - accuracy: 0.9725 - val_loss: 0.0726 - val_accuracy: 0.9657\n",
            "Epoch 62/4000\n",
            "88/88 [==============================] - 0s 5ms/step - loss: 0.0692 - accuracy: 0.9721 - val_loss: 0.0729 - val_accuracy: 0.9657\n",
            "Epoch 63/4000\n",
            "88/88 [==============================] - 1s 7ms/step - loss: 0.0688 - accuracy: 0.9725 - val_loss: 0.0724 - val_accuracy: 0.9657\n",
            "Epoch 64/4000\n",
            "88/88 [==============================] - 1s 9ms/step - loss: 0.0688 - accuracy: 0.9714 - val_loss: 0.0727 - val_accuracy: 0.9657\n",
            "Epoch 65/4000\n",
            "88/88 [==============================] - 1s 11ms/step - loss: 0.0686 - accuracy: 0.9729 - val_loss: 0.0721 - val_accuracy: 0.9657\n",
            "Epoch 66/4000\n",
            "88/88 [==============================] - 1s 7ms/step - loss: 0.0686 - accuracy: 0.9714 - val_loss: 0.0725 - val_accuracy: 0.9657\n",
            "Epoch 67/4000\n",
            "88/88 [==============================] - 0s 5ms/step - loss: 0.0685 - accuracy: 0.9707 - val_loss: 0.0724 - val_accuracy: 0.9657\n",
            "Epoch 68/4000\n",
            "88/88 [==============================] - 1s 7ms/step - loss: 0.0683 - accuracy: 0.9721 - val_loss: 0.0722 - val_accuracy: 0.9657\n",
            "Epoch 69/4000\n",
            "88/88 [==============================] - 0s 5ms/step - loss: 0.0683 - accuracy: 0.9732 - val_loss: 0.0720 - val_accuracy: 0.9657\n",
            "Epoch 70/4000\n",
            "88/88 [==============================] - 0s 4ms/step - loss: 0.0682 - accuracy: 0.9729 - val_loss: 0.0722 - val_accuracy: 0.9657\n",
            "Epoch 71/4000\n",
            "88/88 [==============================] - 1s 6ms/step - loss: 0.0681 - accuracy: 0.9714 - val_loss: 0.0723 - val_accuracy: 0.9657\n",
            "Epoch 72/4000\n",
            "88/88 [==============================] - 0s 5ms/step - loss: 0.0682 - accuracy: 0.9725 - val_loss: 0.0718 - val_accuracy: 0.9657\n",
            "Epoch 73/4000\n",
            "88/88 [==============================] - 1s 7ms/step - loss: 0.0680 - accuracy: 0.9721 - val_loss: 0.0722 - val_accuracy: 0.9657\n",
            "Epoch 74/4000\n",
            "88/88 [==============================] - 1s 9ms/step - loss: 0.0678 - accuracy: 0.9725 - val_loss: 0.0719 - val_accuracy: 0.9657\n",
            "Epoch 75/4000\n",
            "88/88 [==============================] - 1s 8ms/step - loss: 0.0678 - accuracy: 0.9718 - val_loss: 0.0716 - val_accuracy: 0.9657\n",
            "Epoch 76/4000\n",
            "88/88 [==============================] - 1s 7ms/step - loss: 0.0674 - accuracy: 0.9732 - val_loss: 0.0716 - val_accuracy: 0.9657\n",
            "Epoch 77/4000\n",
            "88/88 [==============================] - 1s 7ms/step - loss: 0.0677 - accuracy: 0.9736 - val_loss: 0.0713 - val_accuracy: 0.9671\n",
            "Epoch 78/4000\n",
            "88/88 [==============================] - 0s 6ms/step - loss: 0.0676 - accuracy: 0.9721 - val_loss: 0.0709 - val_accuracy: 0.9657\n",
            "Epoch 79/4000\n",
            "88/88 [==============================] - 0s 3ms/step - loss: 0.0672 - accuracy: 0.9732 - val_loss: 0.0716 - val_accuracy: 0.9671\n",
            "Epoch 80/4000\n",
            "88/88 [==============================] - 0s 4ms/step - loss: 0.0671 - accuracy: 0.9736 - val_loss: 0.0710 - val_accuracy: 0.9671\n",
            "Epoch 81/4000\n",
            "88/88 [==============================] - 0s 5ms/step - loss: 0.0672 - accuracy: 0.9729 - val_loss: 0.0710 - val_accuracy: 0.9700\n",
            "Epoch 82/4000\n",
            "88/88 [==============================] - 0s 5ms/step - loss: 0.0670 - accuracy: 0.9739 - val_loss: 0.0711 - val_accuracy: 0.9671\n",
            "Epoch 83/4000\n",
            "88/88 [==============================] - 0s 5ms/step - loss: 0.0674 - accuracy: 0.9725 - val_loss: 0.0710 - val_accuracy: 0.9686\n",
            "Epoch 84/4000\n",
            "88/88 [==============================] - 0s 3ms/step - loss: 0.0670 - accuracy: 0.9736 - val_loss: 0.0706 - val_accuracy: 0.9671\n",
            "Epoch 85/4000\n",
            "88/88 [==============================] - 0s 5ms/step - loss: 0.0668 - accuracy: 0.9746 - val_loss: 0.0709 - val_accuracy: 0.9686\n",
            "Epoch 86/4000\n",
            "88/88 [==============================] - 0s 5ms/step - loss: 0.0669 - accuracy: 0.9746 - val_loss: 0.0707 - val_accuracy: 0.9686\n",
            "Epoch 87/4000\n",
            "88/88 [==============================] - 0s 4ms/step - loss: 0.0667 - accuracy: 0.9750 - val_loss: 0.0711 - val_accuracy: 0.9686\n",
            "Epoch 88/4000\n",
            "88/88 [==============================] - 0s 5ms/step - loss: 0.0666 - accuracy: 0.9739 - val_loss: 0.0708 - val_accuracy: 0.9686\n",
            "Epoch 89/4000\n",
            "88/88 [==============================] - 0s 4ms/step - loss: 0.0665 - accuracy: 0.9739 - val_loss: 0.0707 - val_accuracy: 0.9686\n",
            "Epoch 90/4000\n",
            "88/88 [==============================] - 0s 5ms/step - loss: 0.0662 - accuracy: 0.9750 - val_loss: 0.0707 - val_accuracy: 0.9686\n",
            "Epoch 91/4000\n",
            "88/88 [==============================] - 0s 4ms/step - loss: 0.0664 - accuracy: 0.9746 - val_loss: 0.0711 - val_accuracy: 0.9686\n",
            "Epoch 92/4000\n",
            "88/88 [==============================] - 0s 4ms/step - loss: 0.0663 - accuracy: 0.9743 - val_loss: 0.0707 - val_accuracy: 0.9686\n",
            "Epoch 93/4000\n",
            "88/88 [==============================] - 0s 4ms/step - loss: 0.0664 - accuracy: 0.9739 - val_loss: 0.0705 - val_accuracy: 0.9686\n",
            "Epoch 94/4000\n",
            "88/88 [==============================] - 0s 4ms/step - loss: 0.0662 - accuracy: 0.9739 - val_loss: 0.0708 - val_accuracy: 0.9686\n",
            "Epoch 95/4000\n",
            "88/88 [==============================] - 0s 4ms/step - loss: 0.0663 - accuracy: 0.9746 - val_loss: 0.0699 - val_accuracy: 0.9686\n",
            "Epoch 96/4000\n",
            "88/88 [==============================] - 0s 4ms/step - loss: 0.0659 - accuracy: 0.9746 - val_loss: 0.0699 - val_accuracy: 0.9686\n",
            "Epoch 97/4000\n",
            "88/88 [==============================] - 0s 5ms/step - loss: 0.0661 - accuracy: 0.9743 - val_loss: 0.0699 - val_accuracy: 0.9686\n",
            "Epoch 98/4000\n",
            "88/88 [==============================] - 1s 6ms/step - loss: 0.0659 - accuracy: 0.9743 - val_loss: 0.0699 - val_accuracy: 0.9686\n",
            "Epoch 99/4000\n",
            "88/88 [==============================] - 1s 6ms/step - loss: 0.0657 - accuracy: 0.9736 - val_loss: 0.0699 - val_accuracy: 0.9686\n",
            "Epoch 100/4000\n",
            "88/88 [==============================] - 0s 2ms/step - loss: 0.0656 - accuracy: 0.9739 - val_loss: 0.0697 - val_accuracy: 0.9700\n",
            "Epoch 101/4000\n",
            "88/88 [==============================] - 0s 3ms/step - loss: 0.0656 - accuracy: 0.9750 - val_loss: 0.0696 - val_accuracy: 0.9700\n",
            "Epoch 102/4000\n",
            "88/88 [==============================] - 0s 2ms/step - loss: 0.0657 - accuracy: 0.9743 - val_loss: 0.0696 - val_accuracy: 0.9700\n",
            "Epoch 103/4000\n",
            "88/88 [==============================] - 0s 3ms/step - loss: 0.0658 - accuracy: 0.9736 - val_loss: 0.0696 - val_accuracy: 0.9700\n",
            "Epoch 104/4000\n",
            "88/88 [==============================] - 0s 3ms/step - loss: 0.0655 - accuracy: 0.9750 - val_loss: 0.0699 - val_accuracy: 0.9700\n",
            "Epoch 105/4000\n",
            "88/88 [==============================] - 0s 2ms/step - loss: 0.0655 - accuracy: 0.9754 - val_loss: 0.0702 - val_accuracy: 0.9686\n",
            "Epoch 106/4000\n",
            "88/88 [==============================] - 0s 2ms/step - loss: 0.0653 - accuracy: 0.9754 - val_loss: 0.0701 - val_accuracy: 0.9686\n",
            "Epoch 107/4000\n",
            "88/88 [==============================] - 0s 3ms/step - loss: 0.0654 - accuracy: 0.9739 - val_loss: 0.0699 - val_accuracy: 0.9700\n",
            "Epoch 108/4000\n",
            "88/88 [==============================] - 0s 4ms/step - loss: 0.0653 - accuracy: 0.9750 - val_loss: 0.0699 - val_accuracy: 0.9671\n",
            "Epoch 109/4000\n",
            "88/88 [==============================] - 0s 4ms/step - loss: 0.0651 - accuracy: 0.9750 - val_loss: 0.0697 - val_accuracy: 0.9700\n",
            "Epoch 110/4000\n",
            "88/88 [==============================] - 0s 4ms/step - loss: 0.0655 - accuracy: 0.9739 - val_loss: 0.0697 - val_accuracy: 0.9686\n",
            "Epoch 111/4000\n",
            "88/88 [==============================] - 0s 4ms/step - loss: 0.0651 - accuracy: 0.9750 - val_loss: 0.0695 - val_accuracy: 0.9700\n",
            "Epoch 112/4000\n",
            "88/88 [==============================] - 0s 5ms/step - loss: 0.0651 - accuracy: 0.9754 - val_loss: 0.0695 - val_accuracy: 0.9700\n",
            "Epoch 113/4000\n",
            "88/88 [==============================] - 0s 4ms/step - loss: 0.0655 - accuracy: 0.9743 - val_loss: 0.0697 - val_accuracy: 0.9671\n",
            "Epoch 114/4000\n",
            "88/88 [==============================] - 0s 2ms/step - loss: 0.0657 - accuracy: 0.9739 - val_loss: 0.0695 - val_accuracy: 0.9671\n",
            "Epoch 115/4000\n",
            "88/88 [==============================] - 0s 4ms/step - loss: 0.0655 - accuracy: 0.9746 - val_loss: 0.0695 - val_accuracy: 0.9671\n",
            "Epoch 116/4000\n",
            "88/88 [==============================] - 0s 5ms/step - loss: 0.0651 - accuracy: 0.9746 - val_loss: 0.0698 - val_accuracy: 0.9671\n",
            "Epoch 117/4000\n",
            "88/88 [==============================] - 0s 4ms/step - loss: 0.0650 - accuracy: 0.9743 - val_loss: 0.0697 - val_accuracy: 0.9671\n",
            "Epoch 118/4000\n",
            "88/88 [==============================] - 1s 6ms/step - loss: 0.0650 - accuracy: 0.9750 - val_loss: 0.0693 - val_accuracy: 0.9700\n",
            "Epoch 119/4000\n",
            "88/88 [==============================] - 0s 4ms/step - loss: 0.0649 - accuracy: 0.9732 - val_loss: 0.0691 - val_accuracy: 0.9686\n",
            "Epoch 120/4000\n",
            "88/88 [==============================] - 0s 5ms/step - loss: 0.0648 - accuracy: 0.9743 - val_loss: 0.0693 - val_accuracy: 0.9686\n",
            "Epoch 121/4000\n",
            "88/88 [==============================] - 0s 5ms/step - loss: 0.0651 - accuracy: 0.9746 - val_loss: 0.0690 - val_accuracy: 0.9686\n",
            "Epoch 122/4000\n",
            "88/88 [==============================] - 0s 4ms/step - loss: 0.0649 - accuracy: 0.9746 - val_loss: 0.0690 - val_accuracy: 0.9671\n",
            "Epoch 123/4000\n",
            "88/88 [==============================] - 0s 4ms/step - loss: 0.0649 - accuracy: 0.9743 - val_loss: 0.0691 - val_accuracy: 0.9671\n",
            "Epoch 124/4000\n",
            "88/88 [==============================] - 0s 4ms/step - loss: 0.0649 - accuracy: 0.9750 - val_loss: 0.0692 - val_accuracy: 0.9671\n",
            "Epoch 125/4000\n",
            "88/88 [==============================] - 0s 4ms/step - loss: 0.0649 - accuracy: 0.9746 - val_loss: 0.0694 - val_accuracy: 0.9671\n",
            "Epoch 126/4000\n",
            "88/88 [==============================] - 0s 4ms/step - loss: 0.0649 - accuracy: 0.9739 - val_loss: 0.0689 - val_accuracy: 0.9686\n",
            "Epoch 127/4000\n",
            "88/88 [==============================] - 0s 5ms/step - loss: 0.0647 - accuracy: 0.9739 - val_loss: 0.0688 - val_accuracy: 0.9686\n",
            "Epoch 128/4000\n",
            "88/88 [==============================] - 0s 5ms/step - loss: 0.0648 - accuracy: 0.9757 - val_loss: 0.0690 - val_accuracy: 0.9686\n",
            "Epoch 129/4000\n",
            "88/88 [==============================] - 0s 4ms/step - loss: 0.0647 - accuracy: 0.9746 - val_loss: 0.0686 - val_accuracy: 0.9729\n",
            "Epoch 130/4000\n",
            "88/88 [==============================] - 0s 5ms/step - loss: 0.0647 - accuracy: 0.9743 - val_loss: 0.0687 - val_accuracy: 0.9686\n",
            "Epoch 131/4000\n",
            "88/88 [==============================] - 1s 7ms/step - loss: 0.0645 - accuracy: 0.9743 - val_loss: 0.0689 - val_accuracy: 0.9686\n",
            "Epoch 132/4000\n",
            "88/88 [==============================] - 0s 5ms/step - loss: 0.0646 - accuracy: 0.9746 - val_loss: 0.0686 - val_accuracy: 0.9729\n",
            "Epoch 133/4000\n",
            "88/88 [==============================] - 0s 4ms/step - loss: 0.0646 - accuracy: 0.9739 - val_loss: 0.0687 - val_accuracy: 0.9714\n",
            "Epoch 134/4000\n",
            "88/88 [==============================] - 0s 5ms/step - loss: 0.0648 - accuracy: 0.9750 - val_loss: 0.0685 - val_accuracy: 0.9700\n",
            "Epoch 135/4000\n",
            "88/88 [==============================] - 1s 8ms/step - loss: 0.0648 - accuracy: 0.9736 - val_loss: 0.0687 - val_accuracy: 0.9700\n",
            "Epoch 136/4000\n",
            "88/88 [==============================] - 0s 3ms/step - loss: 0.0644 - accuracy: 0.9736 - val_loss: 0.0686 - val_accuracy: 0.9700\n",
            "Epoch 137/4000\n",
            "88/88 [==============================] - 0s 3ms/step - loss: 0.0643 - accuracy: 0.9750 - val_loss: 0.0687 - val_accuracy: 0.9700\n",
            "Epoch 138/4000\n",
            "88/88 [==============================] - 0s 2ms/step - loss: 0.0649 - accuracy: 0.9739 - val_loss: 0.0688 - val_accuracy: 0.9700\n",
            "Epoch 139/4000\n",
            "88/88 [==============================] - 0s 3ms/step - loss: 0.0645 - accuracy: 0.9746 - val_loss: 0.0686 - val_accuracy: 0.9671\n",
            "Epoch 140/4000\n",
            "88/88 [==============================] - 0s 3ms/step - loss: 0.0643 - accuracy: 0.9750 - val_loss: 0.0687 - val_accuracy: 0.9700\n",
            "Epoch 141/4000\n",
            "88/88 [==============================] - 0s 3ms/step - loss: 0.0646 - accuracy: 0.9746 - val_loss: 0.0688 - val_accuracy: 0.9714\n",
            "Epoch 142/4000\n",
            "88/88 [==============================] - 0s 3ms/step - loss: 0.0643 - accuracy: 0.9743 - val_loss: 0.0687 - val_accuracy: 0.9700\n",
            "Epoch 143/4000\n",
            "88/88 [==============================] - 0s 2ms/step - loss: 0.0643 - accuracy: 0.9739 - val_loss: 0.0683 - val_accuracy: 0.9700\n",
            "Epoch 144/4000\n",
            "88/88 [==============================] - 0s 2ms/step - loss: 0.0643 - accuracy: 0.9736 - val_loss: 0.0686 - val_accuracy: 0.9700\n",
            "Epoch 145/4000\n",
            "88/88 [==============================] - 0s 3ms/step - loss: 0.0642 - accuracy: 0.9746 - val_loss: 0.0686 - val_accuracy: 0.9700\n",
            "Epoch 146/4000\n",
            "88/88 [==============================] - 0s 2ms/step - loss: 0.0644 - accuracy: 0.9739 - val_loss: 0.0686 - val_accuracy: 0.9700\n",
            "Epoch 147/4000\n",
            "88/88 [==============================] - 0s 2ms/step - loss: 0.0645 - accuracy: 0.9750 - val_loss: 0.0688 - val_accuracy: 0.9700\n",
            "Epoch 148/4000\n",
            "88/88 [==============================] - 0s 3ms/step - loss: 0.0642 - accuracy: 0.9743 - val_loss: 0.0686 - val_accuracy: 0.9700\n",
            "Epoch 149/4000\n",
            "88/88 [==============================] - 0s 3ms/step - loss: 0.0647 - accuracy: 0.9736 - val_loss: 0.0692 - val_accuracy: 0.9700\n",
            "Epoch 150/4000\n",
            "88/88 [==============================] - 0s 3ms/step - loss: 0.0643 - accuracy: 0.9743 - val_loss: 0.0688 - val_accuracy: 0.9714\n",
            "Epoch 151/4000\n",
            "88/88 [==============================] - 0s 3ms/step - loss: 0.0647 - accuracy: 0.9750 - val_loss: 0.0687 - val_accuracy: 0.9700\n",
            "Epoch 152/4000\n",
            "88/88 [==============================] - 0s 3ms/step - loss: 0.0644 - accuracy: 0.9743 - val_loss: 0.0684 - val_accuracy: 0.9700\n",
            "Epoch 153/4000\n",
            "88/88 [==============================] - 0s 3ms/step - loss: 0.0643 - accuracy: 0.9746 - val_loss: 0.0688 - val_accuracy: 0.9700\n",
            "Epoch 154/4000\n",
            "88/88 [==============================] - 0s 3ms/step - loss: 0.0643 - accuracy: 0.9739 - val_loss: 0.0684 - val_accuracy: 0.9700\n",
            "Epoch 155/4000\n",
            "88/88 [==============================] - 0s 3ms/step - loss: 0.0641 - accuracy: 0.9750 - val_loss: 0.0685 - val_accuracy: 0.9700\n",
            "Epoch 156/4000\n",
            "88/88 [==============================] - 0s 3ms/step - loss: 0.0640 - accuracy: 0.9743 - val_loss: 0.0687 - val_accuracy: 0.9700\n",
            "Epoch 157/4000\n",
            "88/88 [==============================] - 1s 8ms/step - loss: 0.0641 - accuracy: 0.9743 - val_loss: 0.0684 - val_accuracy: 0.9700\n",
            "Epoch 158/4000\n",
            "88/88 [==============================] - 1s 7ms/step - loss: 0.0640 - accuracy: 0.9736 - val_loss: 0.0690 - val_accuracy: 0.9700\n",
            "Epoch 159/4000\n",
            "88/88 [==============================] - 1s 6ms/step - loss: 0.0644 - accuracy: 0.9746 - val_loss: 0.0685 - val_accuracy: 0.9686\n",
            "Epoch 160/4000\n",
            "88/88 [==============================] - 0s 5ms/step - loss: 0.0640 - accuracy: 0.9739 - val_loss: 0.0685 - val_accuracy: 0.9700\n",
            "Epoch 161/4000\n",
            "88/88 [==============================] - 1s 6ms/step - loss: 0.0639 - accuracy: 0.9743 - val_loss: 0.0683 - val_accuracy: 0.9700\n",
            "Epoch 162/4000\n",
            "88/88 [==============================] - 0s 4ms/step - loss: 0.0642 - accuracy: 0.9750 - val_loss: 0.0680 - val_accuracy: 0.9700\n",
            "Epoch 163/4000\n",
            "88/88 [==============================] - 0s 5ms/step - loss: 0.0644 - accuracy: 0.9750 - val_loss: 0.0687 - val_accuracy: 0.9700\n",
            "Epoch 164/4000\n",
            "88/88 [==============================] - 0s 4ms/step - loss: 0.0638 - accuracy: 0.9754 - val_loss: 0.0682 - val_accuracy: 0.9700\n",
            "Epoch 165/4000\n",
            "88/88 [==============================] - 0s 4ms/step - loss: 0.0638 - accuracy: 0.9739 - val_loss: 0.0682 - val_accuracy: 0.9700\n",
            "Epoch 166/4000\n",
            "88/88 [==============================] - 0s 4ms/step - loss: 0.0639 - accuracy: 0.9743 - val_loss: 0.0682 - val_accuracy: 0.9700\n",
            "Epoch 167/4000\n",
            "88/88 [==============================] - 0s 4ms/step - loss: 0.0638 - accuracy: 0.9754 - val_loss: 0.0686 - val_accuracy: 0.9700\n",
            "Epoch 168/4000\n",
            "88/88 [==============================] - 0s 4ms/step - loss: 0.0640 - accuracy: 0.9757 - val_loss: 0.0686 - val_accuracy: 0.9686\n",
            "Epoch 169/4000\n",
            "88/88 [==============================] - 0s 3ms/step - loss: 0.0637 - accuracy: 0.9746 - val_loss: 0.0684 - val_accuracy: 0.9686\n",
            "Epoch 170/4000\n",
            "88/88 [==============================] - 0s 2ms/step - loss: 0.0635 - accuracy: 0.9743 - val_loss: 0.0681 - val_accuracy: 0.9686\n",
            "Epoch 171/4000\n",
            "88/88 [==============================] - 0s 2ms/step - loss: 0.0638 - accuracy: 0.9750 - val_loss: 0.0680 - val_accuracy: 0.9700\n",
            "Epoch 172/4000\n",
            "88/88 [==============================] - 0s 3ms/step - loss: 0.0635 - accuracy: 0.9746 - val_loss: 0.0683 - val_accuracy: 0.9700\n",
            "Epoch 173/4000\n",
            "88/88 [==============================] - 0s 3ms/step - loss: 0.0636 - accuracy: 0.9750 - val_loss: 0.0682 - val_accuracy: 0.9700\n",
            "Epoch 174/4000\n",
            "88/88 [==============================] - 0s 3ms/step - loss: 0.0639 - accuracy: 0.9736 - val_loss: 0.0679 - val_accuracy: 0.9700\n",
            "Epoch 175/4000\n",
            "88/88 [==============================] - 0s 2ms/step - loss: 0.0636 - accuracy: 0.9750 - val_loss: 0.0679 - val_accuracy: 0.9686\n",
            "Epoch 176/4000\n",
            "88/88 [==============================] - 0s 3ms/step - loss: 0.0636 - accuracy: 0.9754 - val_loss: 0.0675 - val_accuracy: 0.9686\n",
            "Epoch 177/4000\n",
            "88/88 [==============================] - 0s 3ms/step - loss: 0.0635 - accuracy: 0.9757 - val_loss: 0.0681 - val_accuracy: 0.9686\n",
            "Epoch 178/4000\n",
            "88/88 [==============================] - 0s 3ms/step - loss: 0.0637 - accuracy: 0.9761 - val_loss: 0.0681 - val_accuracy: 0.9686\n",
            "Epoch 179/4000\n",
            "88/88 [==============================] - 0s 2ms/step - loss: 0.0634 - accuracy: 0.9750 - val_loss: 0.0681 - val_accuracy: 0.9686\n",
            "Epoch 180/4000\n",
            "88/88 [==============================] - 0s 3ms/step - loss: 0.0634 - accuracy: 0.9746 - val_loss: 0.0680 - val_accuracy: 0.9700\n",
            "Epoch 181/4000\n",
            "88/88 [==============================] - 0s 2ms/step - loss: 0.0632 - accuracy: 0.9743 - val_loss: 0.0674 - val_accuracy: 0.9700\n",
            "Epoch 182/4000\n",
            "88/88 [==============================] - 0s 2ms/step - loss: 0.0633 - accuracy: 0.9750 - val_loss: 0.0676 - val_accuracy: 0.9700\n",
            "Epoch 183/4000\n",
            "88/88 [==============================] - 0s 3ms/step - loss: 0.0633 - accuracy: 0.9732 - val_loss: 0.0679 - val_accuracy: 0.9700\n",
            "Epoch 184/4000\n",
            "88/88 [==============================] - 0s 3ms/step - loss: 0.0633 - accuracy: 0.9754 - val_loss: 0.0677 - val_accuracy: 0.9700\n",
            "Epoch 185/4000\n",
            "88/88 [==============================] - 0s 3ms/step - loss: 0.0634 - accuracy: 0.9739 - val_loss: 0.0674 - val_accuracy: 0.9700\n",
            "Epoch 186/4000\n",
            "88/88 [==============================] - 0s 2ms/step - loss: 0.0629 - accuracy: 0.9757 - val_loss: 0.0678 - val_accuracy: 0.9686\n",
            "Epoch 187/4000\n",
            "88/88 [==============================] - 0s 3ms/step - loss: 0.0632 - accuracy: 0.9746 - val_loss: 0.0674 - val_accuracy: 0.9700\n",
            "Epoch 188/4000\n",
            "88/88 [==============================] - 0s 3ms/step - loss: 0.0632 - accuracy: 0.9754 - val_loss: 0.0675 - val_accuracy: 0.9700\n",
            "Epoch 189/4000\n",
            "88/88 [==============================] - 0s 2ms/step - loss: 0.0629 - accuracy: 0.9754 - val_loss: 0.0676 - val_accuracy: 0.9700\n",
            "Epoch 190/4000\n",
            "88/88 [==============================] - 0s 2ms/step - loss: 0.0629 - accuracy: 0.9761 - val_loss: 0.0673 - val_accuracy: 0.9686\n",
            "Epoch 191/4000\n",
            "88/88 [==============================] - 0s 3ms/step - loss: 0.0628 - accuracy: 0.9743 - val_loss: 0.0673 - val_accuracy: 0.9700\n",
            "Epoch 192/4000\n",
            "88/88 [==============================] - 0s 2ms/step - loss: 0.0629 - accuracy: 0.9743 - val_loss: 0.0672 - val_accuracy: 0.9686\n",
            "Epoch 193/4000\n",
            "88/88 [==============================] - 0s 3ms/step - loss: 0.0626 - accuracy: 0.9739 - val_loss: 0.0675 - val_accuracy: 0.9700\n",
            "Epoch 194/4000\n",
            "88/88 [==============================] - 0s 3ms/step - loss: 0.0626 - accuracy: 0.9746 - val_loss: 0.0674 - val_accuracy: 0.9686\n",
            "Epoch 195/4000\n",
            "88/88 [==============================] - 0s 3ms/step - loss: 0.0627 - accuracy: 0.9754 - val_loss: 0.0670 - val_accuracy: 0.9686\n",
            "Epoch 196/4000\n",
            "88/88 [==============================] - 0s 3ms/step - loss: 0.0624 - accuracy: 0.9750 - val_loss: 0.0670 - val_accuracy: 0.9700\n",
            "Epoch 197/4000\n",
            "88/88 [==============================] - 0s 3ms/step - loss: 0.0624 - accuracy: 0.9743 - val_loss: 0.0670 - val_accuracy: 0.9686\n",
            "Epoch 198/4000\n",
            "88/88 [==============================] - 0s 2ms/step - loss: 0.0623 - accuracy: 0.9743 - val_loss: 0.0667 - val_accuracy: 0.9686\n",
            "Epoch 199/4000\n",
            "88/88 [==============================] - 0s 3ms/step - loss: 0.0622 - accuracy: 0.9739 - val_loss: 0.0668 - val_accuracy: 0.9686\n",
            "Epoch 200/4000\n",
            "88/88 [==============================] - 0s 3ms/step - loss: 0.0625 - accuracy: 0.9746 - val_loss: 0.0664 - val_accuracy: 0.9686\n",
            "Epoch 201/4000\n",
            "88/88 [==============================] - 0s 3ms/step - loss: 0.0622 - accuracy: 0.9750 - val_loss: 0.0670 - val_accuracy: 0.9686\n",
            "Epoch 202/4000\n",
            "88/88 [==============================] - 0s 2ms/step - loss: 0.0619 - accuracy: 0.9746 - val_loss: 0.0664 - val_accuracy: 0.9700\n",
            "Epoch 203/4000\n",
            "88/88 [==============================] - 0s 3ms/step - loss: 0.0621 - accuracy: 0.9750 - val_loss: 0.0665 - val_accuracy: 0.9686\n",
            "Epoch 204/4000\n",
            "88/88 [==============================] - 0s 2ms/step - loss: 0.0621 - accuracy: 0.9746 - val_loss: 0.0661 - val_accuracy: 0.9686\n",
            "Epoch 205/4000\n",
            "88/88 [==============================] - 0s 3ms/step - loss: 0.0620 - accuracy: 0.9757 - val_loss: 0.0662 - val_accuracy: 0.9686\n",
            "Epoch 206/4000\n",
            "88/88 [==============================] - 0s 3ms/step - loss: 0.0618 - accuracy: 0.9746 - val_loss: 0.0659 - val_accuracy: 0.9686\n",
            "Epoch 207/4000\n",
            "88/88 [==============================] - 0s 3ms/step - loss: 0.0620 - accuracy: 0.9757 - val_loss: 0.0660 - val_accuracy: 0.9700\n",
            "Epoch 208/4000\n",
            "88/88 [==============================] - 0s 2ms/step - loss: 0.0617 - accuracy: 0.9746 - val_loss: 0.0660 - val_accuracy: 0.9686\n",
            "Epoch 209/4000\n",
            "88/88 [==============================] - 0s 3ms/step - loss: 0.0619 - accuracy: 0.9729 - val_loss: 0.0659 - val_accuracy: 0.9686\n",
            "Epoch 210/4000\n",
            "88/88 [==============================] - 0s 3ms/step - loss: 0.0618 - accuracy: 0.9746 - val_loss: 0.0654 - val_accuracy: 0.9686\n",
            "Epoch 211/4000\n",
            "88/88 [==============================] - 0s 3ms/step - loss: 0.0617 - accuracy: 0.9746 - val_loss: 0.0657 - val_accuracy: 0.9686\n",
            "Epoch 212/4000\n",
            "88/88 [==============================] - 0s 2ms/step - loss: 0.0619 - accuracy: 0.9746 - val_loss: 0.0655 - val_accuracy: 0.9686\n",
            "Epoch 213/4000\n",
            "88/88 [==============================] - 0s 3ms/step - loss: 0.0616 - accuracy: 0.9746 - val_loss: 0.0655 - val_accuracy: 0.9686\n",
            "Epoch 214/4000\n",
            "88/88 [==============================] - 0s 3ms/step - loss: 0.0619 - accuracy: 0.9743 - val_loss: 0.0650 - val_accuracy: 0.9700\n",
            "Epoch 215/4000\n",
            "88/88 [==============================] - 0s 3ms/step - loss: 0.0619 - accuracy: 0.9757 - val_loss: 0.0653 - val_accuracy: 0.9686\n",
            "Epoch 216/4000\n",
            "88/88 [==============================] - 0s 2ms/step - loss: 0.0619 - accuracy: 0.9743 - val_loss: 0.0651 - val_accuracy: 0.9686\n",
            "Epoch 217/4000\n",
            "88/88 [==============================] - 0s 2ms/step - loss: 0.0617 - accuracy: 0.9750 - val_loss: 0.0649 - val_accuracy: 0.9686\n",
            "Epoch 218/4000\n",
            "88/88 [==============================] - 0s 2ms/step - loss: 0.0618 - accuracy: 0.9750 - val_loss: 0.0651 - val_accuracy: 0.9686\n",
            "Epoch 219/4000\n",
            "88/88 [==============================] - 0s 2ms/step - loss: 0.0618 - accuracy: 0.9750 - val_loss: 0.0647 - val_accuracy: 0.9686\n",
            "Epoch 220/4000\n",
            "88/88 [==============================] - 0s 3ms/step - loss: 0.0615 - accuracy: 0.9768 - val_loss: 0.0650 - val_accuracy: 0.9686\n",
            "Epoch 221/4000\n",
            "88/88 [==============================] - 0s 3ms/step - loss: 0.0614 - accuracy: 0.9754 - val_loss: 0.0650 - val_accuracy: 0.9686\n",
            "Epoch 222/4000\n",
            "88/88 [==============================] - 0s 3ms/step - loss: 0.0618 - accuracy: 0.9754 - val_loss: 0.0652 - val_accuracy: 0.9714\n",
            "Epoch 223/4000\n",
            "88/88 [==============================] - 0s 2ms/step - loss: 0.0616 - accuracy: 0.9750 - val_loss: 0.0650 - val_accuracy: 0.9686\n",
            "Epoch 224/4000\n",
            "88/88 [==============================] - 0s 2ms/step - loss: 0.0617 - accuracy: 0.9754 - val_loss: 0.0653 - val_accuracy: 0.9686\n",
            "Epoch 225/4000\n",
            "88/88 [==============================] - 0s 3ms/step - loss: 0.0617 - accuracy: 0.9757 - val_loss: 0.0649 - val_accuracy: 0.9671\n",
            "Epoch 226/4000\n",
            "88/88 [==============================] - 0s 3ms/step - loss: 0.0615 - accuracy: 0.9754 - val_loss: 0.0650 - val_accuracy: 0.9700\n",
            "Epoch 227/4000\n",
            "88/88 [==============================] - 0s 2ms/step - loss: 0.0614 - accuracy: 0.9750 - val_loss: 0.0646 - val_accuracy: 0.9686\n",
            "Epoch 228/4000\n",
            "88/88 [==============================] - 0s 3ms/step - loss: 0.0615 - accuracy: 0.9757 - val_loss: 0.0645 - val_accuracy: 0.9700\n",
            "Epoch 229/4000\n",
            "88/88 [==============================] - 0s 3ms/step - loss: 0.0616 - accuracy: 0.9743 - val_loss: 0.0643 - val_accuracy: 0.9729\n",
            "Epoch 230/4000\n",
            "88/88 [==============================] - 0s 3ms/step - loss: 0.0619 - accuracy: 0.9764 - val_loss: 0.0648 - val_accuracy: 0.9686\n",
            "Epoch 231/4000\n",
            "88/88 [==============================] - 0s 2ms/step - loss: 0.0616 - accuracy: 0.9761 - val_loss: 0.0647 - val_accuracy: 0.9700\n",
            "Epoch 232/4000\n",
            "88/88 [==============================] - 0s 2ms/step - loss: 0.0619 - accuracy: 0.9757 - val_loss: 0.0645 - val_accuracy: 0.9729\n",
            "Epoch 233/4000\n",
            "88/88 [==============================] - 0s 2ms/step - loss: 0.0614 - accuracy: 0.9746 - val_loss: 0.0645 - val_accuracy: 0.9686\n",
            "Epoch 234/4000\n",
            "88/88 [==============================] - 0s 2ms/step - loss: 0.0616 - accuracy: 0.9746 - val_loss: 0.0640 - val_accuracy: 0.9671\n",
            "Epoch 235/4000\n",
            "88/88 [==============================] - 0s 2ms/step - loss: 0.0614 - accuracy: 0.9750 - val_loss: 0.0643 - val_accuracy: 0.9671\n",
            "Epoch 236/4000\n",
            "88/88 [==============================] - 0s 3ms/step - loss: 0.0614 - accuracy: 0.9764 - val_loss: 0.0643 - val_accuracy: 0.9671\n",
            "Epoch 237/4000\n",
            "88/88 [==============================] - 0s 3ms/step - loss: 0.0614 - accuracy: 0.9746 - val_loss: 0.0641 - val_accuracy: 0.9686\n",
            "Epoch 238/4000\n",
            "88/88 [==============================] - 0s 3ms/step - loss: 0.0612 - accuracy: 0.9764 - val_loss: 0.0641 - val_accuracy: 0.9686\n",
            "Epoch 239/4000\n",
            "88/88 [==============================] - 0s 3ms/step - loss: 0.0614 - accuracy: 0.9761 - val_loss: 0.0639 - val_accuracy: 0.9671\n",
            "Epoch 240/4000\n",
            "88/88 [==============================] - 0s 4ms/step - loss: 0.0617 - accuracy: 0.9761 - val_loss: 0.0641 - val_accuracy: 0.9671\n",
            "Epoch 241/4000\n",
            "88/88 [==============================] - 0s 3ms/step - loss: 0.0612 - accuracy: 0.9757 - val_loss: 0.0637 - val_accuracy: 0.9671\n",
            "Epoch 242/4000\n",
            "88/88 [==============================] - 0s 4ms/step - loss: 0.0611 - accuracy: 0.9761 - val_loss: 0.0639 - val_accuracy: 0.9671\n",
            "Epoch 243/4000\n",
            "88/88 [==============================] - 0s 4ms/step - loss: 0.0613 - accuracy: 0.9754 - val_loss: 0.0636 - val_accuracy: 0.9686\n",
            "Epoch 244/4000\n",
            "88/88 [==============================] - 0s 4ms/step - loss: 0.0613 - accuracy: 0.9761 - val_loss: 0.0641 - val_accuracy: 0.9686\n",
            "Epoch 245/4000\n",
            "88/88 [==============================] - 0s 4ms/step - loss: 0.0612 - accuracy: 0.9754 - val_loss: 0.0639 - val_accuracy: 0.9700\n",
            "Epoch 246/4000\n",
            "88/88 [==============================] - 0s 4ms/step - loss: 0.0614 - accuracy: 0.9764 - val_loss: 0.0637 - val_accuracy: 0.9671\n",
            "Epoch 247/4000\n",
            "88/88 [==============================] - 0s 4ms/step - loss: 0.0613 - accuracy: 0.9764 - val_loss: 0.0638 - val_accuracy: 0.9671\n",
            "Epoch 248/4000\n",
            "88/88 [==============================] - 0s 4ms/step - loss: 0.0613 - accuracy: 0.9761 - val_loss: 0.0641 - val_accuracy: 0.9671\n",
            "Epoch 249/4000\n",
            "88/88 [==============================] - 0s 4ms/step - loss: 0.0613 - accuracy: 0.9754 - val_loss: 0.0636 - val_accuracy: 0.9671\n",
            "Epoch 250/4000\n",
            "88/88 [==============================] - 0s 5ms/step - loss: 0.0613 - accuracy: 0.9768 - val_loss: 0.0634 - val_accuracy: 0.9671\n",
            "Epoch 251/4000\n",
            "88/88 [==============================] - 0s 4ms/step - loss: 0.0616 - accuracy: 0.9739 - val_loss: 0.0633 - val_accuracy: 0.9714\n",
            "Epoch 252/4000\n",
            "88/88 [==============================] - 0s 4ms/step - loss: 0.0611 - accuracy: 0.9768 - val_loss: 0.0632 - val_accuracy: 0.9671\n",
            "Epoch 253/4000\n",
            "88/88 [==============================] - 0s 4ms/step - loss: 0.0610 - accuracy: 0.9764 - val_loss: 0.0633 - val_accuracy: 0.9671\n",
            "Epoch 254/4000\n",
            "88/88 [==============================] - 0s 5ms/step - loss: 0.0611 - accuracy: 0.9757 - val_loss: 0.0637 - val_accuracy: 0.9671\n",
            "Epoch 255/4000\n",
            "88/88 [==============================] - 0s 2ms/step - loss: 0.0612 - accuracy: 0.9761 - val_loss: 0.0634 - val_accuracy: 0.9686\n",
            "Epoch 256/4000\n",
            "88/88 [==============================] - 0s 3ms/step - loss: 0.0611 - accuracy: 0.9757 - val_loss: 0.0633 - val_accuracy: 0.9686\n",
            "Epoch 257/4000\n",
            "88/88 [==============================] - 0s 3ms/step - loss: 0.0611 - accuracy: 0.9761 - val_loss: 0.0632 - val_accuracy: 0.9686\n",
            "Epoch 258/4000\n",
            "88/88 [==============================] - 0s 3ms/step - loss: 0.0612 - accuracy: 0.9768 - val_loss: 0.0630 - val_accuracy: 0.9686\n",
            "Epoch 259/4000\n",
            "88/88 [==============================] - 0s 3ms/step - loss: 0.0610 - accuracy: 0.9768 - val_loss: 0.0631 - val_accuracy: 0.9686\n",
            "Epoch 260/4000\n",
            "88/88 [==============================] - 0s 3ms/step - loss: 0.0612 - accuracy: 0.9757 - val_loss: 0.0621 - val_accuracy: 0.9700\n",
            "Epoch 261/4000\n",
            "88/88 [==============================] - 0s 3ms/step - loss: 0.0610 - accuracy: 0.9757 - val_loss: 0.0629 - val_accuracy: 0.9686\n",
            "Epoch 262/4000\n",
            "88/88 [==============================] - 0s 3ms/step - loss: 0.0611 - accuracy: 0.9768 - val_loss: 0.0627 - val_accuracy: 0.9686\n",
            "Epoch 263/4000\n",
            "88/88 [==============================] - 0s 3ms/step - loss: 0.0610 - accuracy: 0.9761 - val_loss: 0.0629 - val_accuracy: 0.9671\n",
            "Epoch 264/4000\n",
            "88/88 [==============================] - 0s 3ms/step - loss: 0.0612 - accuracy: 0.9771 - val_loss: 0.0627 - val_accuracy: 0.9686\n",
            "Epoch 265/4000\n",
            "88/88 [==============================] - 0s 3ms/step - loss: 0.0609 - accuracy: 0.9764 - val_loss: 0.0627 - val_accuracy: 0.9686\n",
            "Epoch 266/4000\n",
            "88/88 [==============================] - 0s 3ms/step - loss: 0.0610 - accuracy: 0.9764 - val_loss: 0.0629 - val_accuracy: 0.9671\n",
            "Epoch 267/4000\n",
            "88/88 [==============================] - 0s 3ms/step - loss: 0.0610 - accuracy: 0.9761 - val_loss: 0.0625 - val_accuracy: 0.9714\n",
            "Epoch 268/4000\n",
            "88/88 [==============================] - 0s 3ms/step - loss: 0.0610 - accuracy: 0.9764 - val_loss: 0.0625 - val_accuracy: 0.9686\n",
            "Epoch 269/4000\n",
            "88/88 [==============================] - 0s 3ms/step - loss: 0.0609 - accuracy: 0.9761 - val_loss: 0.0628 - val_accuracy: 0.9686\n",
            "Epoch 270/4000\n",
            "88/88 [==============================] - 0s 2ms/step - loss: 0.0608 - accuracy: 0.9761 - val_loss: 0.0625 - val_accuracy: 0.9714\n",
            "Epoch 271/4000\n",
            "88/88 [==============================] - 0s 3ms/step - loss: 0.0607 - accuracy: 0.9768 - val_loss: 0.0626 - val_accuracy: 0.9671\n",
            "Epoch 272/4000\n",
            "88/88 [==============================] - 0s 3ms/step - loss: 0.0609 - accuracy: 0.9761 - val_loss: 0.0626 - val_accuracy: 0.9686\n",
            "Epoch 273/4000\n",
            "88/88 [==============================] - 0s 3ms/step - loss: 0.0608 - accuracy: 0.9764 - val_loss: 0.0622 - val_accuracy: 0.9714\n",
            "Epoch 274/4000\n",
            "88/88 [==============================] - 0s 3ms/step - loss: 0.0610 - accuracy: 0.9764 - val_loss: 0.0626 - val_accuracy: 0.9686\n",
            "Epoch 275/4000\n",
            "88/88 [==============================] - 0s 3ms/step - loss: 0.0609 - accuracy: 0.9764 - val_loss: 0.0621 - val_accuracy: 0.9714\n",
            "Epoch 276/4000\n",
            "88/88 [==============================] - 0s 3ms/step - loss: 0.0609 - accuracy: 0.9750 - val_loss: 0.0623 - val_accuracy: 0.9729\n",
            "Epoch 277/4000\n",
            "88/88 [==============================] - 0s 3ms/step - loss: 0.0610 - accuracy: 0.9768 - val_loss: 0.0629 - val_accuracy: 0.9671\n",
            "Epoch 278/4000\n",
            "88/88 [==============================] - 0s 3ms/step - loss: 0.0607 - accuracy: 0.9764 - val_loss: 0.0624 - val_accuracy: 0.9686\n",
            "Epoch 279/4000\n",
            "88/88 [==============================] - 0s 3ms/step - loss: 0.0613 - accuracy: 0.9764 - val_loss: 0.0624 - val_accuracy: 0.9686\n",
            "Epoch 280/4000\n",
            "88/88 [==============================] - 0s 3ms/step - loss: 0.0609 - accuracy: 0.9761 - val_loss: 0.0621 - val_accuracy: 0.9700\n",
            "Epoch 281/4000\n",
            "88/88 [==============================] - 0s 3ms/step - loss: 0.0607 - accuracy: 0.9761 - val_loss: 0.0625 - val_accuracy: 0.9729\n",
            "Epoch 282/4000\n",
            "88/88 [==============================] - 0s 3ms/step - loss: 0.0609 - accuracy: 0.9771 - val_loss: 0.0625 - val_accuracy: 0.9686\n",
            "Epoch 283/4000\n",
            "88/88 [==============================] - 0s 4ms/step - loss: 0.0607 - accuracy: 0.9754 - val_loss: 0.0625 - val_accuracy: 0.9686\n",
            "Epoch 284/4000\n",
            "88/88 [==============================] - 0s 3ms/step - loss: 0.0608 - accuracy: 0.9775 - val_loss: 0.0623 - val_accuracy: 0.9700\n",
            "Epoch 285/4000\n",
            "88/88 [==============================] - 0s 5ms/step - loss: 0.0609 - accuracy: 0.9761 - val_loss: 0.0621 - val_accuracy: 0.9700\n",
            "Epoch 286/4000\n",
            "88/88 [==============================] - 0s 6ms/step - loss: 0.0606 - accuracy: 0.9779 - val_loss: 0.0631 - val_accuracy: 0.9686\n",
            "Epoch 287/4000\n",
            "88/88 [==============================] - 0s 4ms/step - loss: 0.0611 - accuracy: 0.9757 - val_loss: 0.0623 - val_accuracy: 0.9700\n",
            "Epoch 288/4000\n",
            "88/88 [==============================] - 0s 4ms/step - loss: 0.0608 - accuracy: 0.9775 - val_loss: 0.0626 - val_accuracy: 0.9700\n",
            "Epoch 289/4000\n",
            "88/88 [==============================] - 0s 4ms/step - loss: 0.0609 - accuracy: 0.9754 - val_loss: 0.0624 - val_accuracy: 0.9729\n",
            "Epoch 290/4000\n",
            "88/88 [==============================] - 0s 4ms/step - loss: 0.0613 - accuracy: 0.9775 - val_loss: 0.0624 - val_accuracy: 0.9729\n",
            "Epoch 291/4000\n",
            "88/88 [==============================] - 0s 3ms/step - loss: 0.0609 - accuracy: 0.9771 - val_loss: 0.0626 - val_accuracy: 0.9686\n",
            "Epoch 292/4000\n",
            "88/88 [==============================] - 0s 5ms/step - loss: 0.0607 - accuracy: 0.9768 - val_loss: 0.0622 - val_accuracy: 0.9686\n",
            "Epoch 293/4000\n",
            "88/88 [==============================] - 0s 4ms/step - loss: 0.0607 - accuracy: 0.9764 - val_loss: 0.0628 - val_accuracy: 0.9686\n",
            "Epoch 294/4000\n",
            "88/88 [==============================] - 0s 4ms/step - loss: 0.0610 - accuracy: 0.9761 - val_loss: 0.0630 - val_accuracy: 0.9671\n",
            "Epoch 295/4000\n",
            "88/88 [==============================] - 0s 4ms/step - loss: 0.0606 - accuracy: 0.9779 - val_loss: 0.0625 - val_accuracy: 0.9686\n",
            "Epoch 296/4000\n",
            "88/88 [==============================] - 0s 5ms/step - loss: 0.0607 - accuracy: 0.9771 - val_loss: 0.0622 - val_accuracy: 0.9686\n",
            "Epoch 297/4000\n",
            "88/88 [==============================] - 0s 5ms/step - loss: 0.0608 - accuracy: 0.9768 - val_loss: 0.0623 - val_accuracy: 0.9714\n",
            "Epoch 298/4000\n",
            "88/88 [==============================] - 0s 5ms/step - loss: 0.0609 - accuracy: 0.9768 - val_loss: 0.0626 - val_accuracy: 0.9686\n",
            "Epoch 299/4000\n",
            "88/88 [==============================] - 0s 5ms/step - loss: 0.0608 - accuracy: 0.9764 - val_loss: 0.0627 - val_accuracy: 0.9700\n",
            "Epoch 300/4000\n",
            "88/88 [==============================] - 0s 4ms/step - loss: 0.0605 - accuracy: 0.9771 - val_loss: 0.0632 - val_accuracy: 0.9686\n",
            "Epoch 300: early stopping\n"
          ]
        }
      ]
    },
    {
      "cell_type": "code",
      "source": [
        "#training loss and training score \n",
        "model.evaluate(X_train,Y_train)"
      ],
      "metadata": {
        "colab": {
          "base_uri": "https://localhost:8080/"
        },
        "id": "tJ_L8H20dPr5",
        "outputId": "279f4e3e-35c9-405b-a324-6eefd536474d"
      },
      "execution_count": 39,
      "outputs": [
        {
          "output_type": "stream",
          "name": "stdout",
          "text": [
            "88/88 [==============================] - 0s 2ms/step - loss: 0.0599 - accuracy: 0.9782\n"
          ]
        },
        {
          "output_type": "execute_result",
          "data": {
            "text/plain": [
              "[0.059949424117803574, 0.9782142639160156]"
            ]
          },
          "metadata": {},
          "execution_count": 39
        }
      ]
    },
    {
      "cell_type": "code",
      "source": [
        "#testing loss and testing score \n",
        "model.evaluate(X_val,Y_val)"
      ],
      "metadata": {
        "colab": {
          "base_uri": "https://localhost:8080/"
        },
        "id": "qw2-rTMfdVNT",
        "outputId": "8bbb43fb-9b4e-4db8-a33d-7d02dc2fba9d"
      },
      "execution_count": 40,
      "outputs": [
        {
          "output_type": "stream",
          "name": "stdout",
          "text": [
            "22/22 [==============================] - 0s 2ms/step - loss: 0.0632 - accuracy: 0.9686\n"
          ]
        },
        {
          "output_type": "execute_result",
          "data": {
            "text/plain": [
              "[0.06321437656879425, 0.9685714244842529]"
            ]
          },
          "metadata": {},
          "execution_count": 40
        }
      ]
    },
    {
      "cell_type": "code",
      "source": [
        "#visualise the loss(training loss) and val_loss(testing loss)\n",
        "plt.plot(trained_model.history['loss'],color='red',label='Traning Loss')\n",
        "plt.plot(trained_model.history['val_loss'],color='green',label='Testing Loss')\n",
        "plt.legend()\n",
        "plt.show()"
      ],
      "metadata": {
        "colab": {
          "base_uri": "https://localhost:8080/",
          "height": 265
        },
        "id": "YYq2edJMdXLw",
        "outputId": "c0e40634-7d53-40e7-c5d7-bf316a0c26d5"
      },
      "execution_count": 41,
      "outputs": [
        {
          "output_type": "display_data",
          "data": {
            "text/plain": [
              "<Figure size 432x288 with 1 Axes>"
            ],
            "image/png": "[encoded data removed]"
          },
          "metadata": {
            "needs_background": "light"
          }
        }
      ]
    },
    {
      "cell_type": "code",
      "source": [
        "#visualise the loss(training loss) and val_loss(testing loss)\n",
        "plt.plot(trained_model.history['accuracy'],color='blue',label='Traning accuracy')\n",
        "plt.plot(trained_model.history['val_accuracy'],color='yellow',label='Testing val_accuracy')\n",
        "plt.legend()\n",
        "plt.show()"
      ],
      "metadata": {
        "colab": {
          "base_uri": "https://localhost:8080/",
          "height": 265
        },
        "id": "RcJDnEU7dZN4",
        "outputId": "99fd52b3-3dbd-454e-88e3-2505ad3a0759"
      },
      "execution_count": 42,
      "outputs": [
        {
          "output_type": "display_data",
          "data": {
            "text/plain": [
              "<Figure size 432x288 with 1 Axes>"
            ],
            "image/png": "[encoded data removed]"
          },
          "metadata": {
            "needs_background": "light"
          }
        }
      ]
    },
    {
      "cell_type": "code",
      "source": [
        "#testing the model with 30% data \n",
        "Y_pred=model.predict(X_test).round(2) #gives the probability value of each class \n",
        "#for each row\n",
        "Y_pred"
      ],
      "metadata": {
        "colab": {
          "base_uri": "https://localhost:8080/"
        },
        "id": "QXHoxAaZdi5Q",
        "outputId": "402e1066-414c-4dd5-c63f-e97a614e968a"
      },
      "execution_count": 43,
      "outputs": [
        {
          "output_type": "execute_result",
          "data": {
            "text/plain": [
              "array([[1.  ],\n",
              "       [0.01],\n",
              "       [0.01],\n",
              "       ...,\n",
              "       [0.18],\n",
              "       [0.  ],\n",
              "       [0.43]], dtype=float32)"
            ]
          },
          "metadata": {},
          "execution_count": 43
        }
      ]
    },
    {
      "cell_type": "code",
      "source": [
        "Y_pred=np.where(Y_pred>=0.5,1,0)\n",
        "Y_pred"
      ],
      "metadata": {
        "colab": {
          "base_uri": "https://localhost:8080/"
        },
        "id": "yXFsH-EndmDV",
        "outputId": "9e5ba64a-e6a2-4073-efe9-65f4213e624f"
      },
      "execution_count": 44,
      "outputs": [
        {
          "output_type": "execute_result",
          "data": {
            "text/plain": [
              "array([[1],\n",
              "       [0],\n",
              "       [0],\n",
              "       ...,\n",
              "       [0],\n",
              "       [0],\n",
              "       [0]])"
            ]
          },
          "metadata": {},
          "execution_count": 44
        }
      ]
    },
    {
      "cell_type": "code",
      "source": [
        "#generate classification report and confusion martix\n",
        "from sklearn.metrics import classification_report\n",
        "from sklearn.metrics import confusion_matrix\n",
        "\n",
        "print(classification_report(Y_test,Y_pred))\n",
        "print(confusion_matrix(Y_test,Y_pred))"
      ],
      "metadata": {
        "colab": {
          "base_uri": "https://localhost:8080/"
        },
        "id": "h6BrQT_Wdmwm",
        "outputId": "ee44a6a3-a71f-4296-d03b-59ac98ddb1ac"
      },
      "execution_count": 45,
      "outputs": [
        {
          "output_type": "stream",
          "name": "stdout",
          "text": [
            "              precision    recall  f1-score   support\n",
            "\n",
            "           0       0.97      0.99      0.98       751\n",
            "           1       0.99      0.97      0.98       750\n",
            "\n",
            "    accuracy                           0.98      1501\n",
            "   macro avg       0.98      0.98      0.98      1501\n",
            "weighted avg       0.98      0.98      0.98      1501\n",
            "\n",
            "[[740  11]\n",
            " [ 24 726]]\n"
          ]
        }
      ]
    },
    {
      "cell_type": "code",
      "source": [
        "#drop-out : similar work as ensembling technique, random forest in ML\n",
        "#dropout mainly used to reduce overfitting of model.\n",
        "#20% to 50% note more than 50 not less than 20 on hidden layers only\n",
        "\n",
        "#create a architecture of neural network\n",
        "\n",
        "model=tf.keras.models.Sequential([\n",
        "      tf.keras.layers.Dense(units=7,activation='relu',input_shape=(X.shape[1],)),\n",
        "      tf.keras.layers.Dropout(0.2), #apply dropout on 1st hidden layer\n",
        "      tf.keras.layers.Dense(units=7,activation='relu'),\n",
        "      tf.keras.layers.Dropout(0.2), #apply dropout on 2nd hidden layer\n",
        "      tf.keras.layers.Dense(units=7,activation='relu'),\n",
        "      tf.keras.layers.Dropout(0.2), #apply dropout on 3rd hidden layer\n",
        "      tf.keras.layers.Dense(units=1,activation='sigmoid')\n",
        "])\n"
      ],
      "metadata": {
        "id": "qpKKJ7QTdmy6"
      },
      "execution_count": 46,
      "outputs": []
    },
    {
      "cell_type": "code",
      "source": [
        "#to show model summary\n",
        "model.summary()"
      ],
      "metadata": {
        "colab": {
          "base_uri": "https://localhost:8080/"
        },
        "id": "VIB7lVOudm2c",
        "outputId": "9f2b7534-db3a-4116-ab25-4d482c61bc87"
      },
      "execution_count": 47,
      "outputs": [
        {
          "output_type": "stream",
          "name": "stdout",
          "text": [
            "Model: \"sequential_1\"\n",
            "_________________________________________________________________\n",
            " Layer (type)                Output Shape              Param #   \n",
            "=================================================================\n",
            " dense_3 (Dense)             (None, 7)                 56        \n",
            "                                                                 \n",
            " dropout (Dropout)           (None, 7)                 0         \n",
            "                                                                 \n",
            " dense_4 (Dense)             (None, 7)                 56        \n",
            "                                                                 \n",
            " dropout_1 (Dropout)         (None, 7)                 0         \n",
            "                                                                 \n",
            " dense_5 (Dense)             (None, 7)                 56        \n",
            "                                                                 \n",
            " dropout_2 (Dropout)         (None, 7)                 0         \n",
            "                                                                 \n",
            " dense_6 (Dense)             (None, 1)                 8         \n",
            "                                                                 \n",
            "=================================================================\n",
            "Total params: 176\n",
            "Trainable params: 176\n",
            "Non-trainable params: 0\n",
            "_________________________________________________________________\n"
          ]
        }
      ]
    },
    {
      "cell_type": "code",
      "source": [
        "#compile the model\n",
        "model.compile(optimizer='adam',loss='binary_crossentropy',metrics=['accuracy'])"
      ],
      "metadata": {
        "id": "yFFNPdPndnGu"
      },
      "execution_count": 48,
      "outputs": []
    },
    {
      "cell_type": "code",
      "source": [
        "#create a procedure for callback(Earlystopping)\n",
        "#Early Stopping : \n",
        "#EarlyStopping : for decide epoch\n",
        "#create a procedure for callback \n",
        "from tensorflow.keras.callbacks import EarlyStopping             \n",
        "#create callback : -\n",
        "#EarlyStopping() inbuilt function\n",
        "cb=EarlyStopping(\n",
        "    monitor=\"val_loss\",  #val_loss means testing error\n",
        "    min_delta=0.00001, #value of lambda \n",
        "    patience=20,\n",
        "    verbose=1,\n",
        "    mode=\"auto\", #min loss \n",
        "    baseline=None,\n",
        "    restore_best_weights=False\n",
        ")"
      ],
      "metadata": {
        "id": "Jb5lHuIqeMkR"
      },
      "execution_count": 49,
      "outputs": []
    },
    {
      "cell_type": "code",
      "source": [
        "trained_model=model.fit(X_train,Y_train,epochs=4000,\n",
        "                        validation_data=(X_val,Y_val),callbacks=cb)\n",
        "#benifical to check which records have been chosen in x_val Y_val later\n",
        "#this is same as validation_split=0.2 "
      ],
      "metadata": {
        "colab": {
          "base_uri": "https://localhost:8080/"
        },
        "id": "sSN3s9F_eO75",
        "outputId": "8a39dde2-0c67-4b90-9f86-86bd8b580da0"
      },
      "execution_count": 50,
      "outputs": [
        {
          "output_type": "stream",
          "name": "stdout",
          "text": [
            "Epoch 1/4000\n",
            "88/88 [==============================] - 2s 8ms/step - loss: 0.6561 - accuracy: 0.5904 - val_loss: 0.5398 - val_accuracy: 0.8686\n",
            "Epoch 2/4000\n",
            "88/88 [==============================] - 0s 5ms/step - loss: 0.4733 - accuracy: 0.7936 - val_loss: 0.2913 - val_accuracy: 0.9257\n",
            "Epoch 3/4000\n",
            "88/88 [==============================] - 0s 5ms/step - loss: 0.3390 - accuracy: 0.8504 - val_loss: 0.1677 - val_accuracy: 0.9457\n",
            "Epoch 4/4000\n",
            "88/88 [==============================] - 0s 5ms/step - loss: 0.2612 - accuracy: 0.8861 - val_loss: 0.1208 - val_accuracy: 0.9571\n",
            "Epoch 5/4000\n",
            "88/88 [==============================] - 0s 4ms/step - loss: 0.2120 - accuracy: 0.9175 - val_loss: 0.1005 - val_accuracy: 0.9586\n",
            "Epoch 6/4000\n",
            "88/88 [==============================] - 0s 5ms/step - loss: 0.1905 - accuracy: 0.9250 - val_loss: 0.0930 - val_accuracy: 0.9614\n",
            "Epoch 7/4000\n",
            "88/88 [==============================] - 0s 5ms/step - loss: 0.1863 - accuracy: 0.9196 - val_loss: 0.0887 - val_accuracy: 0.9629\n",
            "Epoch 8/4000\n",
            "88/88 [==============================] - 0s 4ms/step - loss: 0.1848 - accuracy: 0.9279 - val_loss: 0.0859 - val_accuracy: 0.9629\n",
            "Epoch 9/4000\n",
            "88/88 [==============================] - 0s 4ms/step - loss: 0.1628 - accuracy: 0.9482 - val_loss: 0.0849 - val_accuracy: 0.9629\n",
            "Epoch 10/4000\n",
            "88/88 [==============================] - 0s 3ms/step - loss: 0.1547 - accuracy: 0.9446 - val_loss: 0.0826 - val_accuracy: 0.9629\n",
            "Epoch 11/4000\n",
            "88/88 [==============================] - 0s 3ms/step - loss: 0.1574 - accuracy: 0.9482 - val_loss: 0.0828 - val_accuracy: 0.9629\n",
            "Epoch 12/4000\n",
            "88/88 [==============================] - 0s 3ms/step - loss: 0.1537 - accuracy: 0.9489 - val_loss: 0.0832 - val_accuracy: 0.9629\n",
            "Epoch 13/4000\n",
            "88/88 [==============================] - 0s 3ms/step - loss: 0.1456 - accuracy: 0.9539 - val_loss: 0.0813 - val_accuracy: 0.9657\n",
            "Epoch 14/4000\n",
            "88/88 [==============================] - 0s 3ms/step - loss: 0.1489 - accuracy: 0.9596 - val_loss: 0.0807 - val_accuracy: 0.9629\n",
            "Epoch 15/4000\n",
            "88/88 [==============================] - 0s 3ms/step - loss: 0.1368 - accuracy: 0.9557 - val_loss: 0.0803 - val_accuracy: 0.9657\n",
            "Epoch 16/4000\n",
            "88/88 [==============================] - 0s 3ms/step - loss: 0.1408 - accuracy: 0.9568 - val_loss: 0.0782 - val_accuracy: 0.9657\n",
            "Epoch 17/4000\n",
            "88/88 [==============================] - 0s 3ms/step - loss: 0.1424 - accuracy: 0.9575 - val_loss: 0.0772 - val_accuracy: 0.9643\n",
            "Epoch 18/4000\n",
            "88/88 [==============================] - 0s 3ms/step - loss: 0.1375 - accuracy: 0.9596 - val_loss: 0.0767 - val_accuracy: 0.9657\n",
            "Epoch 19/4000\n",
            "88/88 [==============================] - 0s 3ms/step - loss: 0.1314 - accuracy: 0.9561 - val_loss: 0.0752 - val_accuracy: 0.9643\n",
            "Epoch 20/4000\n",
            "88/88 [==============================] - 0s 3ms/step - loss: 0.1237 - accuracy: 0.9579 - val_loss: 0.0753 - val_accuracy: 0.9643\n",
            "Epoch 21/4000\n",
            "88/88 [==============================] - 0s 3ms/step - loss: 0.1327 - accuracy: 0.9593 - val_loss: 0.0741 - val_accuracy: 0.9643\n",
            "Epoch 22/4000\n",
            "88/88 [==============================] - 0s 3ms/step - loss: 0.1278 - accuracy: 0.9636 - val_loss: 0.0742 - val_accuracy: 0.9643\n",
            "Epoch 23/4000\n",
            "88/88 [==============================] - 0s 3ms/step - loss: 0.1257 - accuracy: 0.9557 - val_loss: 0.0742 - val_accuracy: 0.9629\n",
            "Epoch 24/4000\n",
            "88/88 [==============================] - 0s 3ms/step - loss: 0.1268 - accuracy: 0.9604 - val_loss: 0.0737 - val_accuracy: 0.9643\n",
            "Epoch 25/4000\n",
            "88/88 [==============================] - 0s 3ms/step - loss: 0.1271 - accuracy: 0.9611 - val_loss: 0.0738 - val_accuracy: 0.9643\n",
            "Epoch 26/4000\n",
            "88/88 [==============================] - 0s 3ms/step - loss: 0.1191 - accuracy: 0.9593 - val_loss: 0.0749 - val_accuracy: 0.9643\n",
            "Epoch 27/4000\n",
            "88/88 [==============================] - 0s 3ms/step - loss: 0.1113 - accuracy: 0.9654 - val_loss: 0.0748 - val_accuracy: 0.9671\n",
            "Epoch 28/4000\n",
            "88/88 [==============================] - 0s 3ms/step - loss: 0.1206 - accuracy: 0.9604 - val_loss: 0.0737 - val_accuracy: 0.9643\n",
            "Epoch 29/4000\n",
            "88/88 [==============================] - 0s 3ms/step - loss: 0.1157 - accuracy: 0.9682 - val_loss: 0.0735 - val_accuracy: 0.9643\n",
            "Epoch 30/4000\n",
            "88/88 [==============================] - 0s 3ms/step - loss: 0.1161 - accuracy: 0.9611 - val_loss: 0.0737 - val_accuracy: 0.9629\n",
            "Epoch 31/4000\n",
            "88/88 [==============================] - 0s 3ms/step - loss: 0.1137 - accuracy: 0.9614 - val_loss: 0.0735 - val_accuracy: 0.9686\n",
            "Epoch 32/4000\n",
            "88/88 [==============================] - 0s 3ms/step - loss: 0.1168 - accuracy: 0.9596 - val_loss: 0.0737 - val_accuracy: 0.9643\n",
            "Epoch 33/4000\n",
            "88/88 [==============================] - 0s 3ms/step - loss: 0.1111 - accuracy: 0.9632 - val_loss: 0.0744 - val_accuracy: 0.9643\n",
            "Epoch 34/4000\n",
            "88/88 [==============================] - 0s 3ms/step - loss: 0.1118 - accuracy: 0.9625 - val_loss: 0.0737 - val_accuracy: 0.9657\n",
            "Epoch 35/4000\n",
            "88/88 [==============================] - 0s 3ms/step - loss: 0.1052 - accuracy: 0.9654 - val_loss: 0.0748 - val_accuracy: 0.9657\n",
            "Epoch 36/4000\n",
            "88/88 [==============================] - 0s 3ms/step - loss: 0.1055 - accuracy: 0.9604 - val_loss: 0.0749 - val_accuracy: 0.9657\n",
            "Epoch 37/4000\n",
            "88/88 [==============================] - 0s 3ms/step - loss: 0.1126 - accuracy: 0.9589 - val_loss: 0.0736 - val_accuracy: 0.9671\n",
            "Epoch 38/4000\n",
            "88/88 [==============================] - 0s 3ms/step - loss: 0.1057 - accuracy: 0.9646 - val_loss: 0.0728 - val_accuracy: 0.9657\n",
            "Epoch 39/4000\n",
            "88/88 [==============================] - 0s 3ms/step - loss: 0.1109 - accuracy: 0.9586 - val_loss: 0.0721 - val_accuracy: 0.9671\n",
            "Epoch 40/4000\n",
            "88/88 [==============================] - 0s 3ms/step - loss: 0.1067 - accuracy: 0.9639 - val_loss: 0.0724 - val_accuracy: 0.9714\n",
            "Epoch 41/4000\n",
            "88/88 [==============================] - 0s 2ms/step - loss: 0.1042 - accuracy: 0.9629 - val_loss: 0.0727 - val_accuracy: 0.9700\n",
            "Epoch 42/4000\n",
            "88/88 [==============================] - 0s 3ms/step - loss: 0.1035 - accuracy: 0.9629 - val_loss: 0.0726 - val_accuracy: 0.9686\n",
            "Epoch 43/4000\n",
            "88/88 [==============================] - 0s 3ms/step - loss: 0.0977 - accuracy: 0.9643 - val_loss: 0.0734 - val_accuracy: 0.9700\n",
            "Epoch 44/4000\n",
            "88/88 [==============================] - 0s 3ms/step - loss: 0.1107 - accuracy: 0.9629 - val_loss: 0.0730 - val_accuracy: 0.9657\n",
            "Epoch 45/4000\n",
            "88/88 [==============================] - 0s 3ms/step - loss: 0.0994 - accuracy: 0.9682 - val_loss: 0.0734 - val_accuracy: 0.9700\n",
            "Epoch 46/4000\n",
            "88/88 [==============================] - 0s 3ms/step - loss: 0.1026 - accuracy: 0.9625 - val_loss: 0.0732 - val_accuracy: 0.9671\n",
            "Epoch 47/4000\n",
            "88/88 [==============================] - 0s 3ms/step - loss: 0.1059 - accuracy: 0.9629 - val_loss: 0.0730 - val_accuracy: 0.9700\n",
            "Epoch 48/4000\n",
            "88/88 [==============================] - 0s 3ms/step - loss: 0.1072 - accuracy: 0.9646 - val_loss: 0.0732 - val_accuracy: 0.9700\n",
            "Epoch 49/4000\n",
            "88/88 [==============================] - 0s 3ms/step - loss: 0.1040 - accuracy: 0.9629 - val_loss: 0.0724 - val_accuracy: 0.9671\n",
            "Epoch 50/4000\n",
            "88/88 [==============================] - 0s 4ms/step - loss: 0.1055 - accuracy: 0.9621 - val_loss: 0.0719 - val_accuracy: 0.9700\n",
            "Epoch 51/4000\n",
            "88/88 [==============================] - 0s 5ms/step - loss: 0.1058 - accuracy: 0.9689 - val_loss: 0.0712 - val_accuracy: 0.9700\n",
            "Epoch 52/4000\n",
            "88/88 [==============================] - 1s 7ms/step - loss: 0.1011 - accuracy: 0.9618 - val_loss: 0.0719 - val_accuracy: 0.9700\n",
            "Epoch 53/4000\n",
            "88/88 [==============================] - 1s 9ms/step - loss: 0.1015 - accuracy: 0.9646 - val_loss: 0.0722 - val_accuracy: 0.9686\n",
            "Epoch 54/4000\n",
            "88/88 [==============================] - 1s 7ms/step - loss: 0.1033 - accuracy: 0.9650 - val_loss: 0.0720 - val_accuracy: 0.9700\n",
            "Epoch 55/4000\n",
            "88/88 [==============================] - 0s 6ms/step - loss: 0.1052 - accuracy: 0.9625 - val_loss: 0.0715 - val_accuracy: 0.9686\n",
            "Epoch 56/4000\n",
            "88/88 [==============================] - 1s 7ms/step - loss: 0.1035 - accuracy: 0.9604 - val_loss: 0.0720 - val_accuracy: 0.9643\n",
            "Epoch 57/4000\n",
            "88/88 [==============================] - 1s 6ms/step - loss: 0.0992 - accuracy: 0.9621 - val_loss: 0.0726 - val_accuracy: 0.9671\n",
            "Epoch 58/4000\n",
            "88/88 [==============================] - 1s 9ms/step - loss: 0.1022 - accuracy: 0.9618 - val_loss: 0.0724 - val_accuracy: 0.9657\n",
            "Epoch 59/4000\n",
            "88/88 [==============================] - 0s 5ms/step - loss: 0.1043 - accuracy: 0.9639 - val_loss: 0.0720 - val_accuracy: 0.9657\n",
            "Epoch 60/4000\n",
            "88/88 [==============================] - 1s 7ms/step - loss: 0.1037 - accuracy: 0.9643 - val_loss: 0.0716 - val_accuracy: 0.9657\n",
            "Epoch 61/4000\n",
            "88/88 [==============================] - 1s 8ms/step - loss: 0.0988 - accuracy: 0.9654 - val_loss: 0.0718 - val_accuracy: 0.9686\n",
            "Epoch 62/4000\n",
            "88/88 [==============================] - 1s 8ms/step - loss: 0.0972 - accuracy: 0.9643 - val_loss: 0.0726 - val_accuracy: 0.9671\n",
            "Epoch 63/4000\n",
            "88/88 [==============================] - 1s 11ms/step - loss: 0.1036 - accuracy: 0.9607 - val_loss: 0.0724 - val_accuracy: 0.9657\n",
            "Epoch 64/4000\n",
            "88/88 [==============================] - 0s 5ms/step - loss: 0.0994 - accuracy: 0.9646 - val_loss: 0.0717 - val_accuracy: 0.9657\n",
            "Epoch 65/4000\n",
            "88/88 [==============================] - 0s 5ms/step - loss: 0.1007 - accuracy: 0.9636 - val_loss: 0.0723 - val_accuracy: 0.9671\n",
            "Epoch 66/4000\n",
            "88/88 [==============================] - 0s 5ms/step - loss: 0.0984 - accuracy: 0.9679 - val_loss: 0.0713 - val_accuracy: 0.9671\n",
            "Epoch 67/4000\n",
            "88/88 [==============================] - 0s 5ms/step - loss: 0.0978 - accuracy: 0.9679 - val_loss: 0.0732 - val_accuracy: 0.9643\n",
            "Epoch 68/4000\n",
            "88/88 [==============================] - 1s 6ms/step - loss: 0.0983 - accuracy: 0.9664 - val_loss: 0.0723 - val_accuracy: 0.9657\n",
            "Epoch 69/4000\n",
            "88/88 [==============================] - 0s 5ms/step - loss: 0.1019 - accuracy: 0.9682 - val_loss: 0.0719 - val_accuracy: 0.9671\n",
            "Epoch 70/4000\n",
            "88/88 [==============================] - 0s 5ms/step - loss: 0.0952 - accuracy: 0.9689 - val_loss: 0.0717 - val_accuracy: 0.9671\n",
            "Epoch 71/4000\n",
            "88/88 [==============================] - 0s 5ms/step - loss: 0.0983 - accuracy: 0.9643 - val_loss: 0.0719 - val_accuracy: 0.9657\n",
            "Epoch 71: early stopping\n"
          ]
        }
      ]
    },
    {
      "cell_type": "code",
      "source": [
        "#training loss and training score \n",
        "model.evaluate(X_train,Y_train) #0.2= 0.8340799808502197\n",
        "#0.3= 0.8176583647727966"
      ],
      "metadata": {
        "colab": {
          "base_uri": "https://localhost:8080/"
        },
        "id": "ipqnJUUUeR5Q",
        "outputId": "5f7c5678-69a9-4403-b9bb-bac9654d8f00"
      },
      "execution_count": 51,
      "outputs": [
        {
          "output_type": "stream",
          "name": "stdout",
          "text": [
            "88/88 [==============================] - 0s 2ms/step - loss: 0.0711 - accuracy: 0.9718\n"
          ]
        },
        {
          "output_type": "execute_result",
          "data": {
            "text/plain": [
              "[0.07110144197940826, 0.9717857241630554]"
            ]
          },
          "metadata": {},
          "execution_count": 51
        }
      ]
    },
    {
      "cell_type": "code",
      "source": [
        "#testing loss and testing score \n",
        "model.evaluate(X_val,Y_val) #0.2= 0.8176583647727966\n",
        "#0.3 =  0.831733822822570"
      ],
      "metadata": {
        "colab": {
          "base_uri": "https://localhost:8080/"
        },
        "id": "EYQsyGlceXhQ",
        "outputId": "2ee149b4-7325-4ac4-c9ba-fe5a34a58d17"
      },
      "execution_count": 52,
      "outputs": [
        {
          "output_type": "stream",
          "name": "stdout",
          "text": [
            "22/22 [==============================] - 0s 2ms/step - loss: 0.0719 - accuracy: 0.9657\n"
          ]
        },
        {
          "output_type": "execute_result",
          "data": {
            "text/plain": [
              "[0.07185523211956024, 0.9657142758369446]"
            ]
          },
          "metadata": {},
          "execution_count": 52
        }
      ]
    },
    {
      "cell_type": "code",
      "source": [
        "\n",
        "#testing the model with 30% data \n",
        "Y_pred=model.predict(X_test).round(2) #gives the probability value of each class \n",
        "#for each row\n",
        "Y_pred"
      ],
      "metadata": {
        "colab": {
          "base_uri": "https://localhost:8080/"
        },
        "id": "DBg_z6HxehvJ",
        "outputId": "a9076f33-8410-423d-85ac-10eedf56c565"
      },
      "execution_count": 53,
      "outputs": [
        {
          "output_type": "execute_result",
          "data": {
            "text/plain": [
              "array([[1.  ],\n",
              "       [0.  ],\n",
              "       [0.  ],\n",
              "       ...,\n",
              "       [0.31],\n",
              "       [0.  ],\n",
              "       [0.27]], dtype=float32)"
            ]
          },
          "metadata": {},
          "execution_count": 53
        }
      ]
    },
    {
      "cell_type": "code",
      "source": [
        "Y_pred=np.where(Y_pred>=0.5,1,0)\n",
        "Y_pred"
      ],
      "metadata": {
        "colab": {
          "base_uri": "https://localhost:8080/"
        },
        "id": "lL8MQp9WekXI",
        "outputId": "1f49c336-ff38-4bde-b057-b011db5ef289"
      },
      "execution_count": 54,
      "outputs": [
        {
          "output_type": "execute_result",
          "data": {
            "text/plain": [
              "array([[1],\n",
              "       [0],\n",
              "       [0],\n",
              "       ...,\n",
              "       [0],\n",
              "       [0],\n",
              "       [0]])"
            ]
          },
          "metadata": {},
          "execution_count": 54
        }
      ]
    },
    {
      "cell_type": "code",
      "source": [
        "#generate classification report and confusion martix\n",
        "from sklearn.metrics import classification_report\n",
        "from sklearn.metrics import confusion_matrix\n",
        "\n",
        "print(classification_report(Y_test,Y_pred))\n",
        "print(confusion_matrix(Y_test,Y_pred))"
      ],
      "metadata": {
        "colab": {
          "base_uri": "https://localhost:8080/"
        },
        "id": "5W5FfLzmemON",
        "outputId": "4d85a609-c437-44ef-ba85-95968e9cb9d0"
      },
      "execution_count": 55,
      "outputs": [
        {
          "output_type": "stream",
          "name": "stdout",
          "text": [
            "              precision    recall  f1-score   support\n",
            "\n",
            "           0       0.97      0.99      0.98       751\n",
            "           1       0.99      0.97      0.98       750\n",
            "\n",
            "    accuracy                           0.98      1501\n",
            "   macro avg       0.98      0.98      0.98      1501\n",
            "weighted avg       0.98      0.98      0.98      1501\n",
            "\n",
            "[[741  10]\n",
            " [ 26 724]]\n"
          ]
        }
      ]
    },
    {
      "cell_type": "code",
      "source": [
        "#  98 % accuracy "
      ],
      "metadata": {
        "id": "p8qbu1jre4ab"
      },
      "execution_count": null,
      "outputs": []
    }
  ]
}