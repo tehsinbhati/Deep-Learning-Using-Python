{
  "nbformat": 4,
  "nbformat_minor": 0,
  "metadata": {
    "colab": {
      "name": "🍷 Deep Learning using softmax on wine dataset.ipynb",
      "provenance": [],
      "collapsed_sections": []
    },
    "kernelspec": {
      "name": "python3",
      "display_name": "Python 3"
    },
    "language_info": {
      "name": "python"
    },
    "gpuClass": "standard"
  },
  "cells": [
    {
      "cell_type": "code",
      "execution_count": null,
      "metadata": {
        "id": "4LH7txgQc8pG"
      },
      "outputs": [],
      "source": [
        "import numpy as np\n",
        "import pandas as pd\n",
        "import matplotlib.pyplot as plt\n",
        "import seaborn as sns\n",
        "import warnings\n",
        "warnings.filterwarnings(\"ignore\")"
      ]
    },
    {
      "cell_type": "code",
      "source": [
        "from google.colab import drive\n",
        "drive.mount('/content/drive')"
      ],
      "metadata": {
        "colab": {
          "base_uri": "https://localhost:8080/"
        },
        "id": "1-nkybo5d2ld",
        "outputId": "a564fcaa-fdd3-47c3-c914-5732455c3c48"
      },
      "execution_count": null,
      "outputs": [
        {
          "output_type": "stream",
          "name": "stdout",
          "text": [
            "Drive already mounted at /content/drive; to attempt to forcibly remount, call drive.mount(\"/content/drive\", force_remount=True).\n"
          ]
        }
      ]
    },
    {
      "cell_type": "code",
      "source": [
        "df=pd.read_csv('/content/drive/MyDrive/ItVedantPythonAWPClasswork/csv datasets/Wine.csv')"
      ],
      "metadata": {
        "id": "G2dujWK2d5Sn"
      },
      "execution_count": null,
      "outputs": []
    },
    {
      "cell_type": "code",
      "source": [
        "df.head()"
      ],
      "metadata": {
        "colab": {
          "base_uri": "https://localhost:8080/",
          "height": 270
        },
        "id": "ZQY542QuezfU",
        "outputId": "a8a5b290-9168-4ed1-b2f9-d8daa5f223cc"
      },
      "execution_count": null,
      "outputs": [
        {
          "output_type": "execute_result",
          "data": {
            "text/plain": [
              "   Alcohol  Malic_Acid   Ash  Ash_Alcanity  Magnesium  Total_Phenols  \\\n",
              "0    14.23        1.71  2.43          15.6        127           2.80   \n",
              "1    13.20        1.78  2.14          11.2        100           2.65   \n",
              "2    13.16        2.36  2.67          18.6        101           2.80   \n",
              "3    14.37        1.95  2.50          16.8        113           3.85   \n",
              "4    13.24        2.59  2.87          21.0        118           2.80   \n",
              "\n",
              "   Flavanoids  Nonflavanoid_Phenols  Proanthocyanins  Color_Intensity   Hue  \\\n",
              "0        3.06                  0.28             2.29             5.64  1.04   \n",
              "1        2.76                  0.26             1.28             4.38  1.05   \n",
              "2        3.24                  0.30             2.81             5.68  1.03   \n",
              "3        3.49                  0.24             2.18             7.80  0.86   \n",
              "4        2.69                  0.39             1.82             4.32  1.04   \n",
              "\n",
              "   OD280  Proline  Customer_Segment  \n",
              "0   3.92     1065                 1  \n",
              "1   3.40     1050                 1  \n",
              "2   3.17     1185                 1  \n",
              "3   3.45     1480                 1  \n",
              "4   2.93      735                 1  "
            ],
            "text/html": [
              "\n",
              "  <div id=\"df-a2f2a0e1-3600-4b5a-8b61-2d9e39efa795\">\n",
              "    <div class=\"colab-df-container\">\n",
              "      <div>\n",
              "<style scoped>\n",
              "    .dataframe tbody tr th:only-of-type {\n",
              "        vertical-align: middle;\n",
              "    }\n",
              "\n",
              "    .dataframe tbody tr th {\n",
              "        vertical-align: top;\n",
              "    }\n",
              "\n",
              "    .dataframe thead th {\n",
              "        text-align: right;\n",
              "    }\n",
              "</style>\n",
              "<table border=\"1\" class=\"dataframe\">\n",
              "  <thead>\n",
              "    <tr style=\"text-align: right;\">\n",
              "      <th></th>\n",
              "      <th>Alcohol</th>\n",
              "      <th>Malic_Acid</th>\n",
              "      <th>Ash</th>\n",
              "      <th>Ash_Alcanity</th>\n",
              "      <th>Magnesium</th>\n",
              "      <th>Total_Phenols</th>\n",
              "      <th>Flavanoids</th>\n",
              "      <th>Nonflavanoid_Phenols</th>\n",
              "      <th>Proanthocyanins</th>\n",
              "      <th>Color_Intensity</th>\n",
              "      <th>Hue</th>\n",
              "      <th>OD280</th>\n",
              "      <th>Proline</th>\n",
              "      <th>Customer_Segment</th>\n",
              "    </tr>\n",
              "  </thead>\n",
              "  <tbody>\n",
              "    <tr>\n",
              "      <th>0</th>\n",
              "      <td>14.23</td>\n",
              "      <td>1.71</td>\n",
              "      <td>2.43</td>\n",
              "      <td>15.6</td>\n",
              "      <td>127</td>\n",
              "      <td>2.80</td>\n",
              "      <td>3.06</td>\n",
              "      <td>0.28</td>\n",
              "      <td>2.29</td>\n",
              "      <td>5.64</td>\n",
              "      <td>1.04</td>\n",
              "      <td>3.92</td>\n",
              "      <td>1065</td>\n",
              "      <td>1</td>\n",
              "    </tr>\n",
              "    <tr>\n",
              "      <th>1</th>\n",
              "      <td>13.20</td>\n",
              "      <td>1.78</td>\n",
              "      <td>2.14</td>\n",
              "      <td>11.2</td>\n",
              "      <td>100</td>\n",
              "      <td>2.65</td>\n",
              "      <td>2.76</td>\n",
              "      <td>0.26</td>\n",
              "      <td>1.28</td>\n",
              "      <td>4.38</td>\n",
              "      <td>1.05</td>\n",
              "      <td>3.40</td>\n",
              "      <td>1050</td>\n",
              "      <td>1</td>\n",
              "    </tr>\n",
              "    <tr>\n",
              "      <th>2</th>\n",
              "      <td>13.16</td>\n",
              "      <td>2.36</td>\n",
              "      <td>2.67</td>\n",
              "      <td>18.6</td>\n",
              "      <td>101</td>\n",
              "      <td>2.80</td>\n",
              "      <td>3.24</td>\n",
              "      <td>0.30</td>\n",
              "      <td>2.81</td>\n",
              "      <td>5.68</td>\n",
              "      <td>1.03</td>\n",
              "      <td>3.17</td>\n",
              "      <td>1185</td>\n",
              "      <td>1</td>\n",
              "    </tr>\n",
              "    <tr>\n",
              "      <th>3</th>\n",
              "      <td>14.37</td>\n",
              "      <td>1.95</td>\n",
              "      <td>2.50</td>\n",
              "      <td>16.8</td>\n",
              "      <td>113</td>\n",
              "      <td>3.85</td>\n",
              "      <td>3.49</td>\n",
              "      <td>0.24</td>\n",
              "      <td>2.18</td>\n",
              "      <td>7.80</td>\n",
              "      <td>0.86</td>\n",
              "      <td>3.45</td>\n",
              "      <td>1480</td>\n",
              "      <td>1</td>\n",
              "    </tr>\n",
              "    <tr>\n",
              "      <th>4</th>\n",
              "      <td>13.24</td>\n",
              "      <td>2.59</td>\n",
              "      <td>2.87</td>\n",
              "      <td>21.0</td>\n",
              "      <td>118</td>\n",
              "      <td>2.80</td>\n",
              "      <td>2.69</td>\n",
              "      <td>0.39</td>\n",
              "      <td>1.82</td>\n",
              "      <td>4.32</td>\n",
              "      <td>1.04</td>\n",
              "      <td>2.93</td>\n",
              "      <td>735</td>\n",
              "      <td>1</td>\n",
              "    </tr>\n",
              "  </tbody>\n",
              "</table>\n",
              "</div>\n",
              "      <button class=\"colab-df-convert\" onclick=\"convertToInteractive('df-a2f2a0e1-3600-4b5a-8b61-2d9e39efa795')\"\n",
              "              title=\"Convert this dataframe to an interactive table.\"\n",
              "              style=\"display:none;\">\n",
              "        \n",
              "  <svg xmlns=\"http://www.w3.org/2000/svg\" height=\"24px\"viewBox=\"0 0 24 24\"\n",
              "       width=\"24px\">\n",
              "    <path d=\"M0 0h24v24H0V0z\" fill=\"none\"/>\n",
              "    <path d=\"M18.56 5.44l.94 2.06.94-2.06 2.06-.94-2.06-.94-.94-2.06-.94 2.06-2.06.94zm-11 1L8.5 8.5l.94-2.06 2.06-.94-2.06-.94L8.5 2.5l-.94 2.06-2.06.94zm10 10l.94 2.06.94-2.06 2.06-.94-2.06-.94-.94-2.06-.94 2.06-2.06.94z\"/><path d=\"M17.41 7.96l-1.37-1.37c-.4-.4-.92-.59-1.43-.59-.52 0-1.04.2-1.43.59L10.3 9.45l-7.72 7.72c-.78.78-.78 2.05 0 2.83L4 21.41c.39.39.9.59 1.41.59.51 0 1.02-.2 1.41-.59l7.78-7.78 2.81-2.81c.8-.78.8-2.07 0-2.86zM5.41 20L4 18.59l7.72-7.72 1.47 1.35L5.41 20z\"/>\n",
              "  </svg>\n",
              "      </button>\n",
              "      \n",
              "  <style>\n",
              "    .colab-df-container {\n",
              "      display:flex;\n",
              "      flex-wrap:wrap;\n",
              "      gap: 12px;\n",
              "    }\n",
              "\n",
              "    .colab-df-convert {\n",
              "      background-color: #E8F0FE;\n",
              "      border: none;\n",
              "      border-radius: 50%;\n",
              "      cursor: pointer;\n",
              "      display: none;\n",
              "      fill: #1967D2;\n",
              "      height: 32px;\n",
              "      padding: 0 0 0 0;\n",
              "      width: 32px;\n",
              "    }\n",
              "\n",
              "    .colab-df-convert:hover {\n",
              "      background-color: #E2EBFA;\n",
              "      box-shadow: 0px 1px 2px rgba(60, 64, 67, 0.3), 0px 1px 3px 1px rgba(60, 64, 67, 0.15);\n",
              "      fill: #174EA6;\n",
              "    }\n",
              "\n",
              "    [theme=dark] .colab-df-convert {\n",
              "      background-color: #3B4455;\n",
              "      fill: #D2E3FC;\n",
              "    }\n",
              "\n",
              "    [theme=dark] .colab-df-convert:hover {\n",
              "      background-color: #434B5C;\n",
              "      box-shadow: 0px 1px 3px 1px rgba(0, 0, 0, 0.15);\n",
              "      filter: drop-shadow(0px 1px 2px rgba(0, 0, 0, 0.3));\n",
              "      fill: #FFFFFF;\n",
              "    }\n",
              "  </style>\n",
              "\n",
              "      <script>\n",
              "        const buttonEl =\n",
              "          document.querySelector('#df-a2f2a0e1-3600-4b5a-8b61-2d9e39efa795 button.colab-df-convert');\n",
              "        buttonEl.style.display =\n",
              "          google.colab.kernel.accessAllowed ? 'block' : 'none';\n",
              "\n",
              "        async function convertToInteractive(key) {\n",
              "          const element = document.querySelector('#df-a2f2a0e1-3600-4b5a-8b61-2d9e39efa795');\n",
              "          const dataTable =\n",
              "            await google.colab.kernel.invokeFunction('convertToInteractive',\n",
              "                                                     [key], {});\n",
              "          if (!dataTable) return;\n",
              "\n",
              "          const docLinkHtml = 'Like what you see? Visit the ' +\n",
              "            '<a target=\"_blank\" href=https://colab.research.google.com/notebooks/data_table.ipynb>data table notebook</a>'\n",
              "            + ' to learn more about interactive tables.';\n",
              "          element.innerHTML = '';\n",
              "          dataTable['output_type'] = 'display_data';\n",
              "          await google.colab.output.renderOutput(dataTable, element);\n",
              "          const docLink = document.createElement('div');\n",
              "          docLink.innerHTML = docLinkHtml;\n",
              "          element.appendChild(docLink);\n",
              "        }\n",
              "      </script>\n",
              "    </div>\n",
              "  </div>\n",
              "  "
            ]
          },
          "metadata": {},
          "execution_count": 4
        }
      ]
    },
    {
      "cell_type": "code",
      "source": [
        "df.shape"
      ],
      "metadata": {
        "colab": {
          "base_uri": "https://localhost:8080/"
        },
        "id": "cVRFFx0He3UM",
        "outputId": "fbad07dc-1633-4f3f-9013-3f9fe8e7ef23"
      },
      "execution_count": null,
      "outputs": [
        {
          "output_type": "execute_result",
          "data": {
            "text/plain": [
              "(178, 14)"
            ]
          },
          "metadata": {},
          "execution_count": 5
        }
      ]
    },
    {
      "cell_type": "code",
      "source": [
        "#to check null values \n",
        "df.isnull().sum()"
      ],
      "metadata": {
        "colab": {
          "base_uri": "https://localhost:8080/"
        },
        "id": "ZgOrfWy_e_XT",
        "outputId": "b397d633-0d6e-4161-c1c2-a9888ac83928"
      },
      "execution_count": null,
      "outputs": [
        {
          "output_type": "execute_result",
          "data": {
            "text/plain": [
              "Alcohol                 0\n",
              "Malic_Acid              0\n",
              "Ash                     0\n",
              "Ash_Alcanity            0\n",
              "Magnesium               0\n",
              "Total_Phenols           0\n",
              "Flavanoids              0\n",
              "Nonflavanoid_Phenols    0\n",
              "Proanthocyanins         0\n",
              "Color_Intensity         0\n",
              "Hue                     0\n",
              "OD280                   0\n",
              "Proline                 0\n",
              "Customer_Segment        0\n",
              "dtype: int64"
            ]
          },
          "metadata": {},
          "execution_count": 6
        }
      ]
    },
    {
      "cell_type": "code",
      "source": [
        "#checking type to confirm null values\n",
        "df.dtypes"
      ],
      "metadata": {
        "colab": {
          "base_uri": "https://localhost:8080/"
        },
        "id": "yOIyIw2AfCPl",
        "outputId": "7f024d13-f978-48a0-ec9d-9e71d07c6111"
      },
      "execution_count": null,
      "outputs": [
        {
          "output_type": "execute_result",
          "data": {
            "text/plain": [
              "Alcohol                 float64\n",
              "Malic_Acid              float64\n",
              "Ash                     float64\n",
              "Ash_Alcanity            float64\n",
              "Magnesium                 int64\n",
              "Total_Phenols           float64\n",
              "Flavanoids              float64\n",
              "Nonflavanoid_Phenols    float64\n",
              "Proanthocyanins         float64\n",
              "Color_Intensity         float64\n",
              "Hue                     float64\n",
              "OD280                   float64\n",
              "Proline                   int64\n",
              "Customer_Segment          int64\n",
              "dtype: object"
            ]
          },
          "metadata": {},
          "execution_count": 7
        }
      ]
    },
    {
      "cell_type": "code",
      "source": [
        "#checking duplicate values\n",
        "df.duplicated().sum()"
      ],
      "metadata": {
        "colab": {
          "base_uri": "https://localhost:8080/"
        },
        "id": "4yQa4D3jfF4U",
        "outputId": "8fb8401a-96be-42a9-c418-21b0facc3705"
      },
      "execution_count": null,
      "outputs": [
        {
          "output_type": "execute_result",
          "data": {
            "text/plain": [
              "0"
            ]
          },
          "metadata": {},
          "execution_count": 8
        }
      ]
    },
    {
      "cell_type": "code",
      "source": [
        "# Now Select input and output\n",
        "X=df.drop('Customer_Segment',axis=1)   # input \n",
        "Y=df['Customer_Segment']               # output"
      ],
      "metadata": {
        "id": "fuTOsTD7fI8T"
      },
      "execution_count": null,
      "outputs": []
    },
    {
      "cell_type": "code",
      "source": [
        "X.head()"
      ],
      "metadata": {
        "colab": {
          "base_uri": "https://localhost:8080/",
          "height": 270
        },
        "id": "KwbXdkbdfX_5",
        "outputId": "46a81c8d-583a-4ce6-d3ec-67536912d79d"
      },
      "execution_count": null,
      "outputs": [
        {
          "output_type": "execute_result",
          "data": {
            "text/plain": [
              "   Alcohol  Malic_Acid   Ash  Ash_Alcanity  Magnesium  Total_Phenols  \\\n",
              "0    14.23        1.71  2.43          15.6        127           2.80   \n",
              "1    13.20        1.78  2.14          11.2        100           2.65   \n",
              "2    13.16        2.36  2.67          18.6        101           2.80   \n",
              "3    14.37        1.95  2.50          16.8        113           3.85   \n",
              "4    13.24        2.59  2.87          21.0        118           2.80   \n",
              "\n",
              "   Flavanoids  Nonflavanoid_Phenols  Proanthocyanins  Color_Intensity   Hue  \\\n",
              "0        3.06                  0.28             2.29             5.64  1.04   \n",
              "1        2.76                  0.26             1.28             4.38  1.05   \n",
              "2        3.24                  0.30             2.81             5.68  1.03   \n",
              "3        3.49                  0.24             2.18             7.80  0.86   \n",
              "4        2.69                  0.39             1.82             4.32  1.04   \n",
              "\n",
              "   OD280  Proline  \n",
              "0   3.92     1065  \n",
              "1   3.40     1050  \n",
              "2   3.17     1185  \n",
              "3   3.45     1480  \n",
              "4   2.93      735  "
            ],
            "text/html": [
              "\n",
              "  <div id=\"df-598c6cbb-a985-4244-bcfe-f0b23c88ded6\">\n",
              "    <div class=\"colab-df-container\">\n",
              "      <div>\n",
              "<style scoped>\n",
              "    .dataframe tbody tr th:only-of-type {\n",
              "        vertical-align: middle;\n",
              "    }\n",
              "\n",
              "    .dataframe tbody tr th {\n",
              "        vertical-align: top;\n",
              "    }\n",
              "\n",
              "    .dataframe thead th {\n",
              "        text-align: right;\n",
              "    }\n",
              "</style>\n",
              "<table border=\"1\" class=\"dataframe\">\n",
              "  <thead>\n",
              "    <tr style=\"text-align: right;\">\n",
              "      <th></th>\n",
              "      <th>Alcohol</th>\n",
              "      <th>Malic_Acid</th>\n",
              "      <th>Ash</th>\n",
              "      <th>Ash_Alcanity</th>\n",
              "      <th>Magnesium</th>\n",
              "      <th>Total_Phenols</th>\n",
              "      <th>Flavanoids</th>\n",
              "      <th>Nonflavanoid_Phenols</th>\n",
              "      <th>Proanthocyanins</th>\n",
              "      <th>Color_Intensity</th>\n",
              "      <th>Hue</th>\n",
              "      <th>OD280</th>\n",
              "      <th>Proline</th>\n",
              "    </tr>\n",
              "  </thead>\n",
              "  <tbody>\n",
              "    <tr>\n",
              "      <th>0</th>\n",
              "      <td>14.23</td>\n",
              "      <td>1.71</td>\n",
              "      <td>2.43</td>\n",
              "      <td>15.6</td>\n",
              "      <td>127</td>\n",
              "      <td>2.80</td>\n",
              "      <td>3.06</td>\n",
              "      <td>0.28</td>\n",
              "      <td>2.29</td>\n",
              "      <td>5.64</td>\n",
              "      <td>1.04</td>\n",
              "      <td>3.92</td>\n",
              "      <td>1065</td>\n",
              "    </tr>\n",
              "    <tr>\n",
              "      <th>1</th>\n",
              "      <td>13.20</td>\n",
              "      <td>1.78</td>\n",
              "      <td>2.14</td>\n",
              "      <td>11.2</td>\n",
              "      <td>100</td>\n",
              "      <td>2.65</td>\n",
              "      <td>2.76</td>\n",
              "      <td>0.26</td>\n",
              "      <td>1.28</td>\n",
              "      <td>4.38</td>\n",
              "      <td>1.05</td>\n",
              "      <td>3.40</td>\n",
              "      <td>1050</td>\n",
              "    </tr>\n",
              "    <tr>\n",
              "      <th>2</th>\n",
              "      <td>13.16</td>\n",
              "      <td>2.36</td>\n",
              "      <td>2.67</td>\n",
              "      <td>18.6</td>\n",
              "      <td>101</td>\n",
              "      <td>2.80</td>\n",
              "      <td>3.24</td>\n",
              "      <td>0.30</td>\n",
              "      <td>2.81</td>\n",
              "      <td>5.68</td>\n",
              "      <td>1.03</td>\n",
              "      <td>3.17</td>\n",
              "      <td>1185</td>\n",
              "    </tr>\n",
              "    <tr>\n",
              "      <th>3</th>\n",
              "      <td>14.37</td>\n",
              "      <td>1.95</td>\n",
              "      <td>2.50</td>\n",
              "      <td>16.8</td>\n",
              "      <td>113</td>\n",
              "      <td>3.85</td>\n",
              "      <td>3.49</td>\n",
              "      <td>0.24</td>\n",
              "      <td>2.18</td>\n",
              "      <td>7.80</td>\n",
              "      <td>0.86</td>\n",
              "      <td>3.45</td>\n",
              "      <td>1480</td>\n",
              "    </tr>\n",
              "    <tr>\n",
              "      <th>4</th>\n",
              "      <td>13.24</td>\n",
              "      <td>2.59</td>\n",
              "      <td>2.87</td>\n",
              "      <td>21.0</td>\n",
              "      <td>118</td>\n",
              "      <td>2.80</td>\n",
              "      <td>2.69</td>\n",
              "      <td>0.39</td>\n",
              "      <td>1.82</td>\n",
              "      <td>4.32</td>\n",
              "      <td>1.04</td>\n",
              "      <td>2.93</td>\n",
              "      <td>735</td>\n",
              "    </tr>\n",
              "  </tbody>\n",
              "</table>\n",
              "</div>\n",
              "      <button class=\"colab-df-convert\" onclick=\"convertToInteractive('df-598c6cbb-a985-4244-bcfe-f0b23c88ded6')\"\n",
              "              title=\"Convert this dataframe to an interactive table.\"\n",
              "              style=\"display:none;\">\n",
              "        \n",
              "  <svg xmlns=\"http://www.w3.org/2000/svg\" height=\"24px\"viewBox=\"0 0 24 24\"\n",
              "       width=\"24px\">\n",
              "    <path d=\"M0 0h24v24H0V0z\" fill=\"none\"/>\n",
              "    <path d=\"M18.56 5.44l.94 2.06.94-2.06 2.06-.94-2.06-.94-.94-2.06-.94 2.06-2.06.94zm-11 1L8.5 8.5l.94-2.06 2.06-.94-2.06-.94L8.5 2.5l-.94 2.06-2.06.94zm10 10l.94 2.06.94-2.06 2.06-.94-2.06-.94-.94-2.06-.94 2.06-2.06.94z\"/><path d=\"M17.41 7.96l-1.37-1.37c-.4-.4-.92-.59-1.43-.59-.52 0-1.04.2-1.43.59L10.3 9.45l-7.72 7.72c-.78.78-.78 2.05 0 2.83L4 21.41c.39.39.9.59 1.41.59.51 0 1.02-.2 1.41-.59l7.78-7.78 2.81-2.81c.8-.78.8-2.07 0-2.86zM5.41 20L4 18.59l7.72-7.72 1.47 1.35L5.41 20z\"/>\n",
              "  </svg>\n",
              "      </button>\n",
              "      \n",
              "  <style>\n",
              "    .colab-df-container {\n",
              "      display:flex;\n",
              "      flex-wrap:wrap;\n",
              "      gap: 12px;\n",
              "    }\n",
              "\n",
              "    .colab-df-convert {\n",
              "      background-color: #E8F0FE;\n",
              "      border: none;\n",
              "      border-radius: 50%;\n",
              "      cursor: pointer;\n",
              "      display: none;\n",
              "      fill: #1967D2;\n",
              "      height: 32px;\n",
              "      padding: 0 0 0 0;\n",
              "      width: 32px;\n",
              "    }\n",
              "\n",
              "    .colab-df-convert:hover {\n",
              "      background-color: #E2EBFA;\n",
              "      box-shadow: 0px 1px 2px rgba(60, 64, 67, 0.3), 0px 1px 3px 1px rgba(60, 64, 67, 0.15);\n",
              "      fill: #174EA6;\n",
              "    }\n",
              "\n",
              "    [theme=dark] .colab-df-convert {\n",
              "      background-color: #3B4455;\n",
              "      fill: #D2E3FC;\n",
              "    }\n",
              "\n",
              "    [theme=dark] .colab-df-convert:hover {\n",
              "      background-color: #434B5C;\n",
              "      box-shadow: 0px 1px 3px 1px rgba(0, 0, 0, 0.15);\n",
              "      filter: drop-shadow(0px 1px 2px rgba(0, 0, 0, 0.3));\n",
              "      fill: #FFFFFF;\n",
              "    }\n",
              "  </style>\n",
              "\n",
              "      <script>\n",
              "        const buttonEl =\n",
              "          document.querySelector('#df-598c6cbb-a985-4244-bcfe-f0b23c88ded6 button.colab-df-convert');\n",
              "        buttonEl.style.display =\n",
              "          google.colab.kernel.accessAllowed ? 'block' : 'none';\n",
              "\n",
              "        async function convertToInteractive(key) {\n",
              "          const element = document.querySelector('#df-598c6cbb-a985-4244-bcfe-f0b23c88ded6');\n",
              "          const dataTable =\n",
              "            await google.colab.kernel.invokeFunction('convertToInteractive',\n",
              "                                                     [key], {});\n",
              "          if (!dataTable) return;\n",
              "\n",
              "          const docLinkHtml = 'Like what you see? Visit the ' +\n",
              "            '<a target=\"_blank\" href=https://colab.research.google.com/notebooks/data_table.ipynb>data table notebook</a>'\n",
              "            + ' to learn more about interactive tables.';\n",
              "          element.innerHTML = '';\n",
              "          dataTable['output_type'] = 'display_data';\n",
              "          await google.colab.output.renderOutput(dataTable, element);\n",
              "          const docLink = document.createElement('div');\n",
              "          docLink.innerHTML = docLinkHtml;\n",
              "          element.appendChild(docLink);\n",
              "        }\n",
              "      </script>\n",
              "    </div>\n",
              "  </div>\n",
              "  "
            ]
          },
          "metadata": {},
          "execution_count": 10
        }
      ]
    },
    {
      "cell_type": "code",
      "source": [
        "Y.head()"
      ],
      "metadata": {
        "colab": {
          "base_uri": "https://localhost:8080/"
        },
        "id": "tx24zJmFfaqO",
        "outputId": "b4027eb2-1bda-4541-c410-6750d2ec66b2"
      },
      "execution_count": null,
      "outputs": [
        {
          "output_type": "execute_result",
          "data": {
            "text/plain": [
              "0    1\n",
              "1    1\n",
              "2    1\n",
              "3    1\n",
              "4    1\n",
              "Name: Customer_Segment, dtype: int64"
            ]
          },
          "metadata": {},
          "execution_count": 11
        }
      ]
    },
    {
      "cell_type": "code",
      "source": [
        "sns.countplot(data=df,x='Customer_Segment')\n",
        "f=df['Customer_Segment'].value_counts()\n",
        "plt.yticks(f)\n",
        "plt.show()"
      ],
      "metadata": {
        "colab": {
          "base_uri": "https://localhost:8080/",
          "height": 280
        },
        "id": "GOBc8U_Ffb0P",
        "outputId": "b2d76794-ecbf-4a62-8296-533e30f3ecbb"
      },
      "execution_count": null,
      "outputs": [
        {
          "output_type": "display_data",
          "data": {
            "text/plain": [
              "<Figure size 432x288 with 1 Axes>"
            ],
            "image/png": "[encoded data removed]"
          },
          "metadata": {
            "needs_background": "light"
          }
        }
      ]
    },
    {
      "cell_type": "code",
      "source": [
        "#train test split\n",
        "from sklearn.model_selection import train_test_split\n",
        "X_train,X_test,Y_train,Y_test=train_test_split(X,Y,test_size=0.3,\n",
        "                                    random_state=1,stratify=Y)\n",
        "#stratify=output variablename"
      ],
      "metadata": {
        "id": "sr71CQJufekd"
      },
      "execution_count": null,
      "outputs": []
    },
    {
      "cell_type": "code",
      "source": [
        "Y_train.value_counts()"
      ],
      "metadata": {
        "colab": {
          "base_uri": "https://localhost:8080/"
        },
        "id": "PN9CVsadfsLu",
        "outputId": "f2330fa6-3327-4b87-9d4b-28c6fcbd49a1"
      },
      "execution_count": null,
      "outputs": [
        {
          "output_type": "execute_result",
          "data": {
            "text/plain": [
              "2    50\n",
              "1    41\n",
              "3    33\n",
              "Name: Customer_Segment, dtype: int64"
            ]
          },
          "metadata": {},
          "execution_count": 14
        }
      ]
    },
    {
      "cell_type": "code",
      "source": [
        "Y_test.value_counts()"
      ],
      "metadata": {
        "colab": {
          "base_uri": "https://localhost:8080/"
        },
        "id": "CFhKj6iEfuj3",
        "outputId": "b6827e48-fa86-4c41-cd5b-8c63bfe220fa"
      },
      "execution_count": null,
      "outputs": [
        {
          "output_type": "execute_result",
          "data": {
            "text/plain": [
              "2    21\n",
              "1    18\n",
              "3    15\n",
              "Name: Customer_Segment, dtype: int64"
            ]
          },
          "metadata": {},
          "execution_count": 15
        }
      ]
    },
    {
      "cell_type": "code",
      "source": [
        "# Now applying Scaling on input data X_train and X_test before we train the model\n",
        "# Apply StandardScaler on input data training and testing\n",
        "from sklearn.preprocessing import StandardScaler\n",
        "# Create an object of StandardScaler class\n",
        "ss=StandardScaler()\n",
        "#means apply standard scaler for X_train and X_test data\n",
        "X_train=ss.fit_transform(X_train)\n",
        "X_test=ss.transform(X_test)"
      ],
      "metadata": {
        "id": "cbPVOLSxfzPn"
      },
      "execution_count": null,
      "outputs": []
    },
    {
      "cell_type": "code",
      "source": [
        "X.shape"
      ],
      "metadata": {
        "colab": {
          "base_uri": "https://localhost:8080/"
        },
        "id": "TTh4Yki5f2gf",
        "outputId": "77d81014-72b7-4c39-b54a-8e8626966b8b"
      },
      "execution_count": null,
      "outputs": [
        {
          "output_type": "execute_result",
          "data": {
            "text/plain": [
              "(178, 13)"
            ]
          },
          "metadata": {},
          "execution_count": 17
        }
      ]
    },
    {
      "cell_type": "code",
      "source": [
        "# creating Architecture for Neural networl\n",
        "import tensorflow as tf\n",
        "#create a object of sequential class\n",
        "model=tf.keras.Sequential([\n",
        "  tf.keras.layers.Dense(units=13,activation='relu',input_dim=13),\n",
        "  #first hidden layer #input_shape(X.shape[1],) or input_dim=no. of input\n",
        "  tf.keras.layers.Dense(units=13,activation='relu'),#second hidden layer  \n",
        "  tf.keras.layers.Dense(units=13,activation='softmax') #classification = softmax\n",
        "  #here unit 3 as multiclassClassifier \n",
        "  #last is output layer 3rd layer                  \n",
        "])"
      ],
      "metadata": {
        "id": "8o7iHYkTf6E_"
      },
      "execution_count": null,
      "outputs": []
    },
    {
      "cell_type": "code",
      "source": [
        ""
      ],
      "metadata": {
        "id": "hsbE7EPHcjY5"
      },
      "execution_count": null,
      "outputs": []
    },
    {
      "cell_type": "code",
      "source": [
        "#to show model summary\n",
        "model.summary()"
      ],
      "metadata": {
        "colab": {
          "base_uri": "https://localhost:8080/"
        },
        "id": "bE1IAdkJgDFX",
        "outputId": "62fcb5eb-6806-4e78-cd65-1a4ab896bf13"
      },
      "execution_count": null,
      "outputs": [
        {
          "output_type": "stream",
          "name": "stdout",
          "text": [
            "Model: \"sequential\"\n",
            "_________________________________________________________________\n",
            " Layer (type)                Output Shape              Param #   \n",
            "=================================================================\n",
            " dense (Dense)               (None, 13)                182       \n",
            "                                                                 \n",
            " dense_1 (Dense)             (None, 13)                182       \n",
            "                                                                 \n",
            " dense_2 (Dense)             (None, 12)                168       \n",
            "                                                                 \n",
            "=================================================================\n",
            "Total params: 532\n",
            "Trainable params: 532\n",
            "Non-trainable params: 0\n",
            "_________________________________________________________________\n"
          ]
        }
      ]
    },
    {
      "cell_type": "code",
      "source": [
        "#compile the model\n",
        "model.compile(optimizer='adam',loss='sparse_categorical_crossentropy',\n",
        "              metrics=['accuracy'])\n",
        "#adam means adagrad+RMS propotional\n",
        "#adagrad means momentum \n",
        "#and rms propotional means direction"
      ],
      "metadata": {
        "id": "qMC1yGd2gHeu"
      },
      "execution_count": null,
      "outputs": []
    },
    {
      "cell_type": "code",
      "source": [
        "#create a procedure for callback(Earlystopping)\n",
        "#Early Stopping : \n",
        "#EarlyStopping : for decide epoch\n",
        "#create a procedure for callback \n",
        "from tensorflow.keras.callbacks import EarlyStopping             \n",
        "#create callback : -\n",
        "#EarlyStopping() inbuilt function\n",
        "cb=EarlyStopping(\n",
        "    monitor=\"val_loss\",  #val_loss means testing error\n",
        "    min_delta=0.00001, #value of lambda \n",
        "    patience=20,\n",
        "    verbose=1,\n",
        "    mode=\"auto\", #min loss \n",
        "    baseline=None,\n",
        "    restore_best_weights=False\n",
        ")"
      ],
      "metadata": {
        "id": "dc5IS2QugLsw"
      },
      "execution_count": null,
      "outputs": []
    },
    {
      "cell_type": "code",
      "source": [
        "#train the model\n",
        "trained_model=model.fit(X_train,Y_train,epochs=4000,batch_size=5,validation_data=(X_test,Y_test),callbacks=cb)"
      ],
      "metadata": {
        "colab": {
          "base_uri": "https://localhost:8080/"
        },
        "id": "H0uQtu-_gNt8",
        "outputId": "616aa774-27f5-4dda-f30b-942fca4e23e9"
      },
      "execution_count": null,
      "outputs": [
        {
          "output_type": "stream",
          "name": "stdout",
          "text": [
            "Epoch 1/4000\n",
            "25/25 [==============================] - 2s 20ms/step - loss: 2.4493 - accuracy: 0.0161 - val_loss: 2.3368 - val_accuracy: 0.0926\n",
            "Epoch 2/4000\n",
            "25/25 [==============================] - 0s 6ms/step - loss: 2.1125 - accuracy: 0.3468 - val_loss: 2.0244 - val_accuracy: 0.4259\n",
            "Epoch 3/4000\n",
            "25/25 [==============================] - 0s 4ms/step - loss: 1.7970 - accuracy: 0.7823 - val_loss: 1.6951 - val_accuracy: 0.7593\n",
            "Epoch 4/4000\n",
            "25/25 [==============================] - 0s 7ms/step - loss: 1.4607 - accuracy: 0.9355 - val_loss: 1.3585 - val_accuracy: 0.8889\n",
            "Epoch 5/4000\n",
            "25/25 [==============================] - 0s 9ms/step - loss: 1.1294 - accuracy: 0.9516 - val_loss: 1.0326 - val_accuracy: 0.9074\n",
            "Epoch 6/4000\n",
            "25/25 [==============================] - 0s 7ms/step - loss: 0.8320 - accuracy: 0.9677 - val_loss: 0.7644 - val_accuracy: 0.9444\n",
            "Epoch 7/4000\n",
            "25/25 [==============================] - 0s 7ms/step - loss: 0.6020 - accuracy: 0.9677 - val_loss: 0.5657 - val_accuracy: 0.9444\n",
            "Epoch 8/4000\n",
            "25/25 [==============================] - 0s 7ms/step - loss: 0.4385 - accuracy: 0.9677 - val_loss: 0.4273 - val_accuracy: 0.9444\n",
            "Epoch 9/4000\n",
            "25/25 [==============================] - 0s 12ms/step - loss: 0.3302 - accuracy: 0.9677 - val_loss: 0.3349 - val_accuracy: 0.9630\n",
            "Epoch 10/4000\n",
            "25/25 [==============================] - 0s 11ms/step - loss: 0.2539 - accuracy: 0.9677 - val_loss: 0.2709 - val_accuracy: 0.9630\n",
            "Epoch 11/4000\n",
            "25/25 [==============================] - 0s 11ms/step - loss: 0.2015 - accuracy: 0.9758 - val_loss: 0.2246 - val_accuracy: 0.9630\n",
            "Epoch 12/4000\n",
            "25/25 [==============================] - 0s 7ms/step - loss: 0.1642 - accuracy: 0.9758 - val_loss: 0.1924 - val_accuracy: 0.9630\n",
            "Epoch 13/4000\n",
            "25/25 [==============================] - 0s 5ms/step - loss: 0.1370 - accuracy: 0.9919 - val_loss: 0.1678 - val_accuracy: 1.0000\n",
            "Epoch 14/4000\n",
            "25/25 [==============================] - 0s 11ms/step - loss: 0.1153 - accuracy: 1.0000 - val_loss: 0.1472 - val_accuracy: 1.0000\n",
            "Epoch 15/4000\n",
            "25/25 [==============================] - 0s 8ms/step - loss: 0.0988 - accuracy: 0.9919 - val_loss: 0.1306 - val_accuracy: 1.0000\n",
            "Epoch 16/4000\n",
            "25/25 [==============================] - 0s 10ms/step - loss: 0.0862 - accuracy: 1.0000 - val_loss: 0.1190 - val_accuracy: 1.0000\n",
            "Epoch 17/4000\n",
            "25/25 [==============================] - 0s 5ms/step - loss: 0.0751 - accuracy: 1.0000 - val_loss: 0.1080 - val_accuracy: 1.0000\n",
            "Epoch 18/4000\n",
            "25/25 [==============================] - 0s 10ms/step - loss: 0.0661 - accuracy: 1.0000 - val_loss: 0.0996 - val_accuracy: 1.0000\n",
            "Epoch 19/4000\n",
            "25/25 [==============================] - 0s 6ms/step - loss: 0.0587 - accuracy: 1.0000 - val_loss: 0.0942 - val_accuracy: 1.0000\n",
            "Epoch 20/4000\n",
            "25/25 [==============================] - 0s 5ms/step - loss: 0.0520 - accuracy: 1.0000 - val_loss: 0.0879 - val_accuracy: 1.0000\n",
            "Epoch 21/4000\n",
            "25/25 [==============================] - 0s 9ms/step - loss: 0.0469 - accuracy: 1.0000 - val_loss: 0.0819 - val_accuracy: 1.0000\n",
            "Epoch 22/4000\n",
            "25/25 [==============================] - 0s 7ms/step - loss: 0.0429 - accuracy: 1.0000 - val_loss: 0.0781 - val_accuracy: 1.0000\n",
            "Epoch 23/4000\n",
            "25/25 [==============================] - 0s 8ms/step - loss: 0.0381 - accuracy: 1.0000 - val_loss: 0.0743 - val_accuracy: 1.0000\n",
            "Epoch 24/4000\n",
            "25/25 [==============================] - 0s 8ms/step - loss: 0.0351 - accuracy: 1.0000 - val_loss: 0.0715 - val_accuracy: 1.0000\n",
            "Epoch 25/4000\n",
            "25/25 [==============================] - 0s 6ms/step - loss: 0.0319 - accuracy: 1.0000 - val_loss: 0.0681 - val_accuracy: 1.0000\n",
            "Epoch 26/4000\n",
            "25/25 [==============================] - 0s 8ms/step - loss: 0.0293 - accuracy: 1.0000 - val_loss: 0.0646 - val_accuracy: 1.0000\n",
            "Epoch 27/4000\n",
            "25/25 [==============================] - 0s 6ms/step - loss: 0.0269 - accuracy: 1.0000 - val_loss: 0.0621 - val_accuracy: 1.0000\n",
            "Epoch 28/4000\n",
            "25/25 [==============================] - 0s 8ms/step - loss: 0.0248 - accuracy: 1.0000 - val_loss: 0.0608 - val_accuracy: 1.0000\n",
            "Epoch 29/4000\n",
            "25/25 [==============================] - 0s 7ms/step - loss: 0.0230 - accuracy: 1.0000 - val_loss: 0.0578 - val_accuracy: 1.0000\n",
            "Epoch 30/4000\n",
            "25/25 [==============================] - 0s 7ms/step - loss: 0.0212 - accuracy: 1.0000 - val_loss: 0.0568 - val_accuracy: 1.0000\n",
            "Epoch 31/4000\n",
            "25/25 [==============================] - 0s 9ms/step - loss: 0.0198 - accuracy: 1.0000 - val_loss: 0.0547 - val_accuracy: 1.0000\n",
            "Epoch 32/4000\n",
            "25/25 [==============================] - 0s 6ms/step - loss: 0.0182 - accuracy: 1.0000 - val_loss: 0.0536 - val_accuracy: 1.0000\n",
            "Epoch 33/4000\n",
            "25/25 [==============================] - 0s 5ms/step - loss: 0.0169 - accuracy: 1.0000 - val_loss: 0.0515 - val_accuracy: 1.0000\n",
            "Epoch 34/4000\n",
            "25/25 [==============================] - 0s 5ms/step - loss: 0.0158 - accuracy: 1.0000 - val_loss: 0.0504 - val_accuracy: 1.0000\n",
            "Epoch 35/4000\n",
            "25/25 [==============================] - 0s 5ms/step - loss: 0.0149 - accuracy: 1.0000 - val_loss: 0.0490 - val_accuracy: 1.0000\n",
            "Epoch 36/4000\n",
            "25/25 [==============================] - 0s 7ms/step - loss: 0.0139 - accuracy: 1.0000 - val_loss: 0.0489 - val_accuracy: 1.0000\n",
            "Epoch 37/4000\n",
            "25/25 [==============================] - 0s 7ms/step - loss: 0.0130 - accuracy: 1.0000 - val_loss: 0.0469 - val_accuracy: 1.0000\n",
            "Epoch 38/4000\n",
            "25/25 [==============================] - 0s 7ms/step - loss: 0.0122 - accuracy: 1.0000 - val_loss: 0.0466 - val_accuracy: 1.0000\n",
            "Epoch 39/4000\n",
            "25/25 [==============================] - 0s 5ms/step - loss: 0.0115 - accuracy: 1.0000 - val_loss: 0.0454 - val_accuracy: 1.0000\n",
            "Epoch 40/4000\n",
            "25/25 [==============================] - 0s 6ms/step - loss: 0.0109 - accuracy: 1.0000 - val_loss: 0.0441 - val_accuracy: 1.0000\n",
            "Epoch 41/4000\n",
            "25/25 [==============================] - 0s 10ms/step - loss: 0.0103 - accuracy: 1.0000 - val_loss: 0.0441 - val_accuracy: 1.0000\n",
            "Epoch 42/4000\n",
            "25/25 [==============================] - 0s 6ms/step - loss: 0.0097 - accuracy: 1.0000 - val_loss: 0.0433 - val_accuracy: 0.9815\n",
            "Epoch 43/4000\n",
            "25/25 [==============================] - 0s 8ms/step - loss: 0.0092 - accuracy: 1.0000 - val_loss: 0.0419 - val_accuracy: 1.0000\n",
            "Epoch 44/4000\n",
            "25/25 [==============================] - 0s 8ms/step - loss: 0.0087 - accuracy: 1.0000 - val_loss: 0.0416 - val_accuracy: 0.9815\n",
            "Epoch 45/4000\n",
            "25/25 [==============================] - 0s 9ms/step - loss: 0.0083 - accuracy: 1.0000 - val_loss: 0.0416 - val_accuracy: 0.9815\n",
            "Epoch 46/4000\n",
            "25/25 [==============================] - 0s 7ms/step - loss: 0.0078 - accuracy: 1.0000 - val_loss: 0.0411 - val_accuracy: 0.9815\n",
            "Epoch 47/4000\n",
            "25/25 [==============================] - 0s 10ms/step - loss: 0.0074 - accuracy: 1.0000 - val_loss: 0.0400 - val_accuracy: 0.9815\n",
            "Epoch 48/4000\n",
            "25/25 [==============================] - 0s 5ms/step - loss: 0.0071 - accuracy: 1.0000 - val_loss: 0.0392 - val_accuracy: 0.9815\n",
            "Epoch 49/4000\n",
            "25/25 [==============================] - 0s 5ms/step - loss: 0.0068 - accuracy: 1.0000 - val_loss: 0.0394 - val_accuracy: 0.9815\n",
            "Epoch 50/4000\n",
            "25/25 [==============================] - 0s 6ms/step - loss: 0.0064 - accuracy: 1.0000 - val_loss: 0.0387 - val_accuracy: 0.9815\n",
            "Epoch 51/4000\n",
            "25/25 [==============================] - 0s 11ms/step - loss: 0.0061 - accuracy: 1.0000 - val_loss: 0.0382 - val_accuracy: 0.9815\n",
            "Epoch 52/4000\n",
            "25/25 [==============================] - 0s 12ms/step - loss: 0.0059 - accuracy: 1.0000 - val_loss: 0.0378 - val_accuracy: 0.9815\n",
            "Epoch 53/4000\n",
            "25/25 [==============================] - 0s 10ms/step - loss: 0.0056 - accuracy: 1.0000 - val_loss: 0.0375 - val_accuracy: 0.9815\n",
            "Epoch 54/4000\n",
            "25/25 [==============================] - 0s 11ms/step - loss: 0.0054 - accuracy: 1.0000 - val_loss: 0.0373 - val_accuracy: 0.9815\n",
            "Epoch 55/4000\n",
            "25/25 [==============================] - 0s 6ms/step - loss: 0.0051 - accuracy: 1.0000 - val_loss: 0.0372 - val_accuracy: 0.9815\n",
            "Epoch 56/4000\n",
            "25/25 [==============================] - 0s 10ms/step - loss: 0.0049 - accuracy: 1.0000 - val_loss: 0.0370 - val_accuracy: 0.9815\n",
            "Epoch 57/4000\n",
            "25/25 [==============================] - 0s 13ms/step - loss: 0.0048 - accuracy: 1.0000 - val_loss: 0.0371 - val_accuracy: 0.9815\n",
            "Epoch 58/4000\n",
            "25/25 [==============================] - 0s 10ms/step - loss: 0.0045 - accuracy: 1.0000 - val_loss: 0.0362 - val_accuracy: 0.9815\n",
            "Epoch 59/4000\n",
            "25/25 [==============================] - 0s 7ms/step - loss: 0.0043 - accuracy: 1.0000 - val_loss: 0.0358 - val_accuracy: 0.9815\n",
            "Epoch 60/4000\n",
            "25/25 [==============================] - 0s 10ms/step - loss: 0.0042 - accuracy: 1.0000 - val_loss: 0.0358 - val_accuracy: 0.9815\n",
            "Epoch 61/4000\n",
            "25/25 [==============================] - 0s 9ms/step - loss: 0.0040 - accuracy: 1.0000 - val_loss: 0.0357 - val_accuracy: 0.9815\n",
            "Epoch 62/4000\n",
            "25/25 [==============================] - 0s 8ms/step - loss: 0.0039 - accuracy: 1.0000 - val_loss: 0.0352 - val_accuracy: 0.9815\n",
            "Epoch 63/4000\n",
            "25/25 [==============================] - 0s 10ms/step - loss: 0.0037 - accuracy: 1.0000 - val_loss: 0.0352 - val_accuracy: 0.9815\n",
            "Epoch 64/4000\n",
            "25/25 [==============================] - 0s 7ms/step - loss: 0.0036 - accuracy: 1.0000 - val_loss: 0.0344 - val_accuracy: 0.9815\n",
            "Epoch 65/4000\n",
            "25/25 [==============================] - 0s 7ms/step - loss: 0.0035 - accuracy: 1.0000 - val_loss: 0.0353 - val_accuracy: 0.9815\n",
            "Epoch 66/4000\n",
            "25/25 [==============================] - 0s 8ms/step - loss: 0.0033 - accuracy: 1.0000 - val_loss: 0.0347 - val_accuracy: 0.9815\n",
            "Epoch 67/4000\n",
            "25/25 [==============================] - 0s 15ms/step - loss: 0.0032 - accuracy: 1.0000 - val_loss: 0.0349 - val_accuracy: 0.9815\n",
            "Epoch 68/4000\n",
            "25/25 [==============================] - 0s 14ms/step - loss: 0.0031 - accuracy: 1.0000 - val_loss: 0.0345 - val_accuracy: 0.9815\n",
            "Epoch 69/4000\n",
            "25/25 [==============================] - 0s 9ms/step - loss: 0.0030 - accuracy: 1.0000 - val_loss: 0.0342 - val_accuracy: 0.9815\n",
            "Epoch 70/4000\n",
            "25/25 [==============================] - 0s 5ms/step - loss: 0.0029 - accuracy: 1.0000 - val_loss: 0.0336 - val_accuracy: 0.9815\n",
            "Epoch 71/4000\n",
            "25/25 [==============================] - 0s 5ms/step - loss: 0.0028 - accuracy: 1.0000 - val_loss: 0.0339 - val_accuracy: 0.9815\n",
            "Epoch 72/4000\n",
            "25/25 [==============================] - 0s 7ms/step - loss: 0.0027 - accuracy: 1.0000 - val_loss: 0.0340 - val_accuracy: 0.9815\n",
            "Epoch 73/4000\n",
            "25/25 [==============================] - 0s 7ms/step - loss: 0.0026 - accuracy: 1.0000 - val_loss: 0.0338 - val_accuracy: 0.9815\n",
            "Epoch 74/4000\n",
            "25/25 [==============================] - 0s 8ms/step - loss: 0.0025 - accuracy: 1.0000 - val_loss: 0.0338 - val_accuracy: 0.9815\n",
            "Epoch 75/4000\n",
            "25/25 [==============================] - 0s 6ms/step - loss: 0.0025 - accuracy: 1.0000 - val_loss: 0.0336 - val_accuracy: 0.9815\n",
            "Epoch 76/4000\n",
            "25/25 [==============================] - 0s 8ms/step - loss: 0.0024 - accuracy: 1.0000 - val_loss: 0.0339 - val_accuracy: 0.9815\n",
            "Epoch 77/4000\n",
            "25/25 [==============================] - 0s 8ms/step - loss: 0.0023 - accuracy: 1.0000 - val_loss: 0.0335 - val_accuracy: 0.9815\n",
            "Epoch 78/4000\n",
            "25/25 [==============================] - 0s 10ms/step - loss: 0.0022 - accuracy: 1.0000 - val_loss: 0.0338 - val_accuracy: 0.9815\n",
            "Epoch 79/4000\n",
            "25/25 [==============================] - 0s 5ms/step - loss: 0.0022 - accuracy: 1.0000 - val_loss: 0.0339 - val_accuracy: 0.9815\n",
            "Epoch 80/4000\n",
            "25/25 [==============================] - 0s 8ms/step - loss: 0.0021 - accuracy: 1.0000 - val_loss: 0.0331 - val_accuracy: 0.9815\n",
            "Epoch 81/4000\n",
            "25/25 [==============================] - 0s 10ms/step - loss: 0.0020 - accuracy: 1.0000 - val_loss: 0.0334 - val_accuracy: 0.9815\n",
            "Epoch 82/4000\n",
            "25/25 [==============================] - 0s 9ms/step - loss: 0.0020 - accuracy: 1.0000 - val_loss: 0.0335 - val_accuracy: 0.9815\n",
            "Epoch 83/4000\n",
            "25/25 [==============================] - 0s 7ms/step - loss: 0.0019 - accuracy: 1.0000 - val_loss: 0.0334 - val_accuracy: 0.9815\n",
            "Epoch 84/4000\n",
            "25/25 [==============================] - 0s 7ms/step - loss: 0.0018 - accuracy: 1.0000 - val_loss: 0.0330 - val_accuracy: 0.9815\n",
            "Epoch 85/4000\n",
            "25/25 [==============================] - 0s 6ms/step - loss: 0.0018 - accuracy: 1.0000 - val_loss: 0.0332 - val_accuracy: 0.9815\n",
            "Epoch 86/4000\n",
            "25/25 [==============================] - 0s 7ms/step - loss: 0.0017 - accuracy: 1.0000 - val_loss: 0.0332 - val_accuracy: 0.9815\n",
            "Epoch 87/4000\n",
            "25/25 [==============================] - 0s 5ms/step - loss: 0.0017 - accuracy: 1.0000 - val_loss: 0.0336 - val_accuracy: 0.9815\n",
            "Epoch 88/4000\n",
            "25/25 [==============================] - 0s 9ms/step - loss: 0.0016 - accuracy: 1.0000 - val_loss: 0.0330 - val_accuracy: 0.9815\n",
            "Epoch 89/4000\n",
            "25/25 [==============================] - 0s 7ms/step - loss: 0.0016 - accuracy: 1.0000 - val_loss: 0.0334 - val_accuracy: 0.9815\n",
            "Epoch 90/4000\n",
            "25/25 [==============================] - 0s 7ms/step - loss: 0.0015 - accuracy: 1.0000 - val_loss: 0.0333 - val_accuracy: 0.9815\n",
            "Epoch 91/4000\n",
            "25/25 [==============================] - 0s 9ms/step - loss: 0.0015 - accuracy: 1.0000 - val_loss: 0.0335 - val_accuracy: 0.9815\n",
            "Epoch 92/4000\n",
            "25/25 [==============================] - 0s 9ms/step - loss: 0.0015 - accuracy: 1.0000 - val_loss: 0.0333 - val_accuracy: 0.9815\n",
            "Epoch 93/4000\n",
            "25/25 [==============================] - 0s 11ms/step - loss: 0.0014 - accuracy: 1.0000 - val_loss: 0.0332 - val_accuracy: 0.9815\n",
            "Epoch 94/4000\n",
            "25/25 [==============================] - 0s 17ms/step - loss: 0.0014 - accuracy: 1.0000 - val_loss: 0.0330 - val_accuracy: 0.9815\n",
            "Epoch 95/4000\n",
            "25/25 [==============================] - 0s 14ms/step - loss: 0.0013 - accuracy: 1.0000 - val_loss: 0.0333 - val_accuracy: 0.9815\n",
            "Epoch 96/4000\n",
            "25/25 [==============================] - 0s 8ms/step - loss: 0.0013 - accuracy: 1.0000 - val_loss: 0.0332 - val_accuracy: 0.9815\n",
            "Epoch 97/4000\n",
            "25/25 [==============================] - 0s 7ms/step - loss: 0.0013 - accuracy: 1.0000 - val_loss: 0.0332 - val_accuracy: 0.9815\n",
            "Epoch 98/4000\n",
            "25/25 [==============================] - 0s 6ms/step - loss: 0.0012 - accuracy: 1.0000 - val_loss: 0.0329 - val_accuracy: 0.9815\n",
            "Epoch 99/4000\n",
            "25/25 [==============================] - 0s 8ms/step - loss: 0.0012 - accuracy: 1.0000 - val_loss: 0.0332 - val_accuracy: 0.9815\n",
            "Epoch 100/4000\n",
            "25/25 [==============================] - 0s 9ms/step - loss: 0.0012 - accuracy: 1.0000 - val_loss: 0.0334 - val_accuracy: 0.9815\n",
            "Epoch 101/4000\n",
            "25/25 [==============================] - 0s 10ms/step - loss: 0.0011 - accuracy: 1.0000 - val_loss: 0.0333 - val_accuracy: 0.9815\n",
            "Epoch 102/4000\n",
            "25/25 [==============================] - 0s 10ms/step - loss: 0.0011 - accuracy: 1.0000 - val_loss: 0.0334 - val_accuracy: 0.9815\n",
            "Epoch 103/4000\n",
            "25/25 [==============================] - 0s 7ms/step - loss: 0.0011 - accuracy: 1.0000 - val_loss: 0.0335 - val_accuracy: 0.9815\n",
            "Epoch 104/4000\n",
            "25/25 [==============================] - 0s 5ms/step - loss: 0.0011 - accuracy: 1.0000 - val_loss: 0.0335 - val_accuracy: 0.9815\n",
            "Epoch 105/4000\n",
            "25/25 [==============================] - 0s 5ms/step - loss: 0.0010 - accuracy: 1.0000 - val_loss: 0.0334 - val_accuracy: 0.9815\n",
            "Epoch 106/4000\n",
            "25/25 [==============================] - 0s 7ms/step - loss: 0.0010 - accuracy: 1.0000 - val_loss: 0.0337 - val_accuracy: 0.9815\n",
            "Epoch 107/4000\n",
            "25/25 [==============================] - 0s 8ms/step - loss: 9.8413e-04 - accuracy: 1.0000 - val_loss: 0.0333 - val_accuracy: 0.9815\n",
            "Epoch 108/4000\n",
            "25/25 [==============================] - 0s 7ms/step - loss: 9.6074e-04 - accuracy: 1.0000 - val_loss: 0.0338 - val_accuracy: 0.9815\n",
            "Epoch 109/4000\n",
            "25/25 [==============================] - 0s 6ms/step - loss: 9.3599e-04 - accuracy: 1.0000 - val_loss: 0.0337 - val_accuracy: 0.9815\n",
            "Epoch 110/4000\n",
            "25/25 [==============================] - 0s 5ms/step - loss: 9.1360e-04 - accuracy: 1.0000 - val_loss: 0.0336 - val_accuracy: 0.9815\n",
            "Epoch 111/4000\n",
            "25/25 [==============================] - 0s 6ms/step - loss: 8.9157e-04 - accuracy: 1.0000 - val_loss: 0.0338 - val_accuracy: 0.9815\n",
            "Epoch 112/4000\n",
            "25/25 [==============================] - 0s 6ms/step - loss: 8.7334e-04 - accuracy: 1.0000 - val_loss: 0.0335 - val_accuracy: 0.9815\n",
            "Epoch 113/4000\n",
            "25/25 [==============================] - 0s 8ms/step - loss: 8.4984e-04 - accuracy: 1.0000 - val_loss: 0.0338 - val_accuracy: 0.9815\n",
            "Epoch 114/4000\n",
            "25/25 [==============================] - 0s 5ms/step - loss: 8.3185e-04 - accuracy: 1.0000 - val_loss: 0.0334 - val_accuracy: 0.9815\n",
            "Epoch 115/4000\n",
            "25/25 [==============================] - 0s 8ms/step - loss: 8.1241e-04 - accuracy: 1.0000 - val_loss: 0.0340 - val_accuracy: 0.9815\n",
            "Epoch 116/4000\n",
            "25/25 [==============================] - 0s 5ms/step - loss: 7.9472e-04 - accuracy: 1.0000 - val_loss: 0.0338 - val_accuracy: 0.9815\n",
            "Epoch 117/4000\n",
            "25/25 [==============================] - 0s 9ms/step - loss: 7.7962e-04 - accuracy: 1.0000 - val_loss: 0.0342 - val_accuracy: 0.9815\n",
            "Epoch 118/4000\n",
            "25/25 [==============================] - 0s 7ms/step - loss: 7.5620e-04 - accuracy: 1.0000 - val_loss: 0.0339 - val_accuracy: 0.9815\n",
            "Epoch 118: early stopping\n"
          ]
        }
      ]
    },
    {
      "cell_type": "code",
      "source": [
        "#visualise the loss(training loss) and val_loss(testing loss)\n",
        "plt.plot(trained_model.history['accuracy'],color='blue',label='Traning accuracy')\n",
        "plt.plot(trained_model.history['val_accuracy'],color='yellow',label='Testing val_accuracy')\n",
        "plt.legend()\n",
        "plt.show()"
      ],
      "metadata": {
        "colab": {
          "base_uri": "https://localhost:8080/",
          "height": 265
        },
        "id": "s6d3WeI1iHCt",
        "outputId": "e3c4389f-9f97-4b98-ec2d-7c4975f29039"
      },
      "execution_count": null,
      "outputs": [
        {
          "output_type": "display_data",
          "data": {
            "text/plain": [
              "<Figure size 432x288 with 1 Axes>"
            ],
            "image/png": "[encoded data removed]"
          },
          "metadata": {
            "needs_background": "light"
          }
        }
      ]
    },
    {
      "cell_type": "code",
      "source": [
        "#visualise the loss(training loss) and val_loss(testing loss)\n",
        "plt.plot(trained_model.history['loss'],color='red',label='Traning Loss')\n",
        "plt.plot(trained_model.history['val_loss'],color='green',label='Testing Loss')\n",
        "plt.legend()\n",
        "plt.show()"
      ],
      "metadata": {
        "colab": {
          "base_uri": "https://localhost:8080/",
          "height": 265
        },
        "id": "GAlCfW4sgRxu",
        "outputId": "b1e4fdae-008e-46e2-ebca-aa27704d86c7"
      },
      "execution_count": null,
      "outputs": [
        {
          "output_type": "display_data",
          "data": {
            "text/plain": [
              "<Figure size 432x288 with 1 Axes>"
            ],
            "image/png": "[encoded data removed]"
          },
          "metadata": {
            "needs_background": "light"
          }
        }
      ]
    }
  ]
}